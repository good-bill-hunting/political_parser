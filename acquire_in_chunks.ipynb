{
 "cells": [
  {
   "cell_type": "code",
   "execution_count": 1,
   "id": "f69a220d-d919-41d9-bb65-9771b00650d0",
   "metadata": {},
   "outputs": [],
   "source": [
    "import pandas as pd\n",
    "import numpy as np\n",
    "from env import api_key\n",
    "import requests\n",
    "import json\n",
    "from acquire import *\n",
    "from bs4 import BeautifulSoup\n",
    "import os"
   ]
  },
  {
   "cell_type": "markdown",
   "id": "9e114323-0261-4eb9-9864-eb7282a12fea",
   "metadata": {},
   "source": [
    "## Acquire Data"
   ]
  },
  {
   "cell_type": "markdown",
   "id": "84e0a4b0-c1db-4261-ad4a-d9febe7541d4",
   "metadata": {},
   "source": [
    "- There are approximatly 30,000 bills to acquire.\n",
    "- It takes 10+ hours unless chunks are done in parallel.\n",
    "- Timeout errors happen when three chunks are acquired at the same time."
   ]
  },
  {
   "cell_type": "code",
   "execution_count": 2,
   "id": "1f7b7b16-b8af-4032-8e3b-26e8088f849b",
   "metadata": {},
   "outputs": [],
   "source": [
    "links = get_links_to_bills()"
   ]
  },
  {
   "cell_type": "code",
   "execution_count": 4,
   "id": "d692def0-f933-48c9-9d8a-171714d26096",
   "metadata": {},
   "outputs": [],
   "source": [
    "list_chunk0 = links[:5000]\n",
    "list_chunk1 = links[5000:10000]\n",
    "list_chunk2 = links[10000:15000]\n",
    "list_chunk3 = links[15000:20000]\n",
    "list_chunk4 = links[20000:25000]\n",
    "list_chunk5 = links[25000:]"
   ]
  },
  {
   "cell_type": "code",
   "execution_count": null,
   "id": "7357874d-69d0-4b09-9e98-c40f8905ee78",
   "metadata": {},
   "outputs": [],
   "source": [
    "data_chunk0 = acquire_bills(list_chunk0, filename=\"data_chunk0.csv\")"
   ]
  },
  {
   "cell_type": "code",
   "execution_count": null,
   "id": "2c3baae6-3978-4881-9959-36db80c83df3",
   "metadata": {},
   "outputs": [],
   "source": [
    "data_chunk1 = acquire_bills(list_chunk1, filename=\"data_chunk1.csv\")"
   ]
  },
  {
   "cell_type": "code",
   "execution_count": null,
   "id": "353793bd-c693-4073-8722-90f806b508eb",
   "metadata": {},
   "outputs": [],
   "source": [
    "data_chunk2 = acquire_bills(list_chunk2, filename=\"data_chunk2.csv\")"
   ]
  },
  {
   "cell_type": "code",
   "execution_count": null,
   "id": "6cdff8dd-e075-4f69-b3bf-08a60b963d64",
   "metadata": {},
   "outputs": [],
   "source": [
    "data_chunk3 = acquire_bills(list_chunk3, filename=\"data_chunk3.csv\")"
   ]
  },
  {
   "cell_type": "code",
   "execution_count": null,
   "id": "33d2067f-4bba-4396-93f2-6812bc2b9a26",
   "metadata": {},
   "outputs": [],
   "source": [
    "data_chunk4 = acquire_bills(list_chunk4, filename=\"data_chunk4.csv\")"
   ]
  },
  {
   "cell_type": "code",
   "execution_count": null,
   "id": "e6323be1-2a75-4826-906d-eb67baebaaa9",
   "metadata": {},
   "outputs": [],
   "source": [
    "data_chunk5 = acquire_bills(list_chunk5, filename=\"data_chunk5.csv\")"
   ]
  },
  {
   "cell_type": "code",
   "execution_count": null,
   "id": "98bfcef6-02e1-40f5-8ed0-0ad3e66e163d",
   "metadata": {},
   "outputs": [],
   "source": []
  },
  {
   "cell_type": "code",
   "execution_count": null,
   "id": "b71e7d67-48b9-4914-89ec-a532edcdb9d5",
   "metadata": {},
   "outputs": [],
   "source": [
    "df = pd.concat([chunk0, chunk1, chunk2, chunk3, chunk4, chunk5], ignore_index=True)"
   ]
  },
  {
   "cell_type": "code",
   "execution_count": null,
   "id": "df34292a-bbcc-4b91-83f1-fa64ed85745d",
   "metadata": {},
   "outputs": [],
   "source": [
    "df.shape"
   ]
  },
  {
   "cell_type": "code",
   "execution_count": null,
   "id": "dc2b4097-b345-43f7-8dec-00bc4bf0b47e",
   "metadata": {},
   "outputs": [],
   "source": [
    "df.to_csv(\"master_df.csv\", index=False)"
   ]
  },
  {
   "cell_type": "code",
   "execution_count": null,
   "id": "93d05c19-7fc1-488a-a57d-d6492adbc74c",
   "metadata": {},
   "outputs": [],
   "source": []
  }
 ],
 "metadata": {
  "kernelspec": {
   "display_name": "Python 3 (ipykernel)",
   "language": "python",
   "name": "python3"
  },
  "language_info": {
   "codemirror_mode": {
    "name": "ipython",
    "version": 3
   },
   "file_extension": ".py",
   "mimetype": "text/x-python",
   "name": "python",
   "nbconvert_exporter": "python",
   "pygments_lexer": "ipython3",
   "version": "3.9.15"
  }
 },
 "nbformat": 4,
 "nbformat_minor": 5
}
