{
 "cells": [
  {
   "cell_type": "markdown",
   "id": "38c1dcec",
   "metadata": {},
   "source": [
    "# Good Bill Hunting:\n",
    "NLP Capstone Project"
   ]
  },
  {
   "cell_type": "markdown",
   "id": "34dc4718",
   "metadata": {},
   "source": [
    "# Goal:\n",
    "Construct a ML NLP model that predicts the political party of a congressional bill using the text from a bill.\n",
    "\n",
    "Find any key language or words that would determine the political party of a congressional bill.\n",
    "\n",
    "Deliver a report that explains what steps were taken, why and what the outcome was.\n",
    "\n",
    "Make recommendations on what works or doesn't work in predicting the political party of a congressional bill."
   ]
  },
  {
   "cell_type": "markdown",
   "id": "fc2007c3",
   "metadata": {},
   "source": [
    "# Imports"
   ]
  },
  {
   "cell_type": "code",
   "execution_count": 1,
   "id": "287c1090",
   "metadata": {},
   "outputs": [],
   "source": [
    "# standard DS imports\n",
    "import pandas as pd\n",
    "import numpy as np\n",
    "import matplotlib.pyplot as plt\n",
    "\n",
    "# custom imports\n",
    "from acquire import *\n",
    "from prepare import *\n",
    "from explore import *\n",
    "from modeling import *\n",
    "\n",
    "# filter out any noisy warning flags\n",
    "import warnings\n",
    "warnings.filterwarnings('ignore')"
   ]
  },
  {
   "cell_type": "markdown",
   "id": "b0c30871",
   "metadata": {},
   "source": [
    "# Acquire\n",
    "- Data acquired from api.govinfo.gov/\n",
    "- It contained 26,533 rows and 3 columns before cleaning.\n",
    "- Each row represents a Congressional Bill.\n",
    "- Each column represents the sponsor, political party, and text of the bill."
   ]
  },
  {
   "cell_type": "code",
   "execution_count": 2,
   "id": "6a59fdb0",
   "metadata": {},
   "outputs": [],
   "source": [
    "# acquire step\n",
    "links = get_links_to_bills()\n",
    "df = acquire_bills(links, filename=\"sponsor_and_co_df.csv\")"
   ]
  },
  {
   "cell_type": "markdown",
   "id": "ec458cce",
   "metadata": {},
   "source": [
    "# Prepare:\n",
    "- Use regex to clean our bill text.\n",
    "- Lemmatize the cleaned bill text.\n",
    "- Eliminate the sponsor of the bill.\n",
    "- Split data into Train, Validate, Test"
   ]
  },
  {
   "cell_type": "code",
   "execution_count": 3,
   "id": "c66a6140",
   "metadata": {},
   "outputs": [],
   "source": [
    "# creating a lemmatized column and cleaning the df\n",
    "df = prepare_bills_for_processing(df)"
   ]
  },
  {
   "cell_type": "code",
   "execution_count": 4,
   "id": "38bbc4d4",
   "metadata": {},
   "outputs": [],
   "source": [
    "# splitting the data\n",
    "train, validate, test, X_train0, y_train0, X_val0, y_val0, X_test0, y_test0 = split_data(df, 'party')"
   ]
  },
  {
   "cell_type": "markdown",
   "id": "0d1a8537",
   "metadata": {},
   "source": [
    "# Data Dictionary"
   ]
  },
  {
   "cell_type": "markdown",
   "id": "d2ddf71d",
   "metadata": {},
   "source": [
    "| Feature | Definition |\n",
    "|:--------|:-----------|\n",
    "|congressional bill| legislative proposals from the House of Representatives and Senate within the United States Congress. More info: https://www.govinfo.gov/help/bills#:~:text=A%20bill%20is%20a%20legislative,(first%20and%20second%20sessions). |\n",
    "|political party| Made up of individuals who organize to win elections, operate government, and influence public policy. The Democratic and Republican parties are currently the primary parties in Congress. More info: https://www.senate.gov/reference/reference_index_subjects/Political_Parties_vrd.html |\n",
    "|sponsor| Patron, usually a legislator, who presents a bill or resolution to a legislature for consideration. |\n",
    "|initial cosponsor or original cosponsor| Senator or representative who was listed as a cosponsor at the time of a bill's introduction|\n",
    "|partisan| From a single political party.|\n",
    "|bipartisan| From two political parties.|"
   ]
  },
  {
   "cell_type": "markdown",
   "id": "67ebd301",
   "metadata": {},
   "source": [
    "# A brief look at the data"
   ]
  },
  {
   "cell_type": "code",
   "execution_count": 5,
   "id": "663647ed",
   "metadata": {},
   "outputs": [
    {
     "data": {
      "text/html": [
       "<div>\n",
       "<style scoped>\n",
       "    .dataframe tbody tr th:only-of-type {\n",
       "        vertical-align: middle;\n",
       "    }\n",
       "\n",
       "    .dataframe tbody tr th {\n",
       "        vertical-align: top;\n",
       "    }\n",
       "\n",
       "    .dataframe thead th {\n",
       "        text-align: right;\n",
       "    }\n",
       "</style>\n",
       "<table border=\"1\" class=\"dataframe\">\n",
       "  <thead>\n",
       "    <tr style=\"text-align: right;\">\n",
       "      <th></th>\n",
       "      <th>sponsor</th>\n",
       "      <th>party</th>\n",
       "      <th>bill_text</th>\n",
       "      <th>sponsor_state</th>\n",
       "      <th>cosponsor</th>\n",
       "      <th>cosponsor_party</th>\n",
       "      <th>cosponsor_state</th>\n",
       "      <th>other_bill_date</th>\n",
       "      <th>bill_date</th>\n",
       "      <th>length</th>\n",
       "      <th>bipartisan_bill</th>\n",
       "      <th>lem</th>\n",
       "      <th>model</th>\n",
       "    </tr>\n",
       "  </thead>\n",
       "  <tbody>\n",
       "    <tr>\n",
       "      <th>25839</th>\n",
       "      <td>Frelinghuysen, Rodney P.</td>\n",
       "      <td>R</td>\n",
       "      <td>\\n\\n\\n \\n      To suspend temporarily the duty...</td>\n",
       "      <td>NJ</td>\n",
       "      <td>NaN</td>\n",
       "      <td>NaN</td>\n",
       "      <td>NaN</td>\n",
       "      <td>2012-04-27</td>\n",
       "      <td>2012-04-27</td>\n",
       "      <td>1051</td>\n",
       "      <td>False</td>\n",
       "      <td>['suspend', 'temporarily', 'duty', '3amino12pr...</td>\n",
       "      <td>suspend temporarily duty 3amino12propanediol 3...</td>\n",
       "    </tr>\n",
       "    <tr>\n",
       "      <th>24422</th>\n",
       "      <td>Foxx, Virginia</td>\n",
       "      <td>R</td>\n",
       "      <td>\\n\\n\\n \\n  Of inquiry requesting the President...</td>\n",
       "      <td>NC</td>\n",
       "      <td>NaN</td>\n",
       "      <td>NaN</td>\n",
       "      <td>NaN</td>\n",
       "      <td>2022-11-10</td>\n",
       "      <td>2022-07-28</td>\n",
       "      <td>3310</td>\n",
       "      <td>False</td>\n",
       "      <td>['inquiry', 'requesting', 'president', 'direct...</td>\n",
       "      <td>inquiry requesting president directing educati...</td>\n",
       "    </tr>\n",
       "    <tr>\n",
       "      <th>16269</th>\n",
       "      <td>Scott, Rick</td>\n",
       "      <td>R</td>\n",
       "      <td>\\n\\n\\n \\n To allow National Flood Insurance Pr...</td>\n",
       "      <td>FL</td>\n",
       "      <td>NaN</td>\n",
       "      <td>NaN</td>\n",
       "      <td>NaN</td>\n",
       "      <td>2021-09-30</td>\n",
       "      <td>2021-09-30</td>\n",
       "      <td>1333</td>\n",
       "      <td>False</td>\n",
       "      <td>['allow', 'national', 'flood', 'insurance', 'p...</td>\n",
       "      <td>allow national flood insurance program policyh...</td>\n",
       "    </tr>\n",
       "    <tr>\n",
       "      <th>21135</th>\n",
       "      <td>Hickenlooper, John W.</td>\n",
       "      <td>D</td>\n",
       "      <td>\\n\\n\\n \\n To provide better access to retireme...</td>\n",
       "      <td>CO</td>\n",
       "      <td>Collins, Susan M.</td>\n",
       "      <td>R</td>\n",
       "      <td>ME</td>\n",
       "      <td>2022-05-05</td>\n",
       "      <td>2022-05-05</td>\n",
       "      <td>3394</td>\n",
       "      <td>True</td>\n",
       "      <td>['provide', 'better', 'access', 'retirement', ...</td>\n",
       "      <td>provide better access retirement plan small bu...</td>\n",
       "    </tr>\n",
       "    <tr>\n",
       "      <th>11696</th>\n",
       "      <td>Dingell, Debbie</td>\n",
       "      <td>D</td>\n",
       "      <td>\\n\\n\\n \\n     To amend the Energy Policy and C...</td>\n",
       "      <td>MI</td>\n",
       "      <td>NaN</td>\n",
       "      <td>NaN</td>\n",
       "      <td>NaN</td>\n",
       "      <td>2021-05-04</td>\n",
       "      <td>2021-05-04</td>\n",
       "      <td>17944</td>\n",
       "      <td>False</td>\n",
       "      <td>['amend', 'energy', 'policy', 'conservation', ...</td>\n",
       "      <td>amend energy policy conservation modify defini...</td>\n",
       "    </tr>\n",
       "  </tbody>\n",
       "</table>\n",
       "</div>"
      ],
      "text/plain": [
       "                        sponsor party  \\\n",
       "25839  Frelinghuysen, Rodney P.     R   \n",
       "24422            Foxx, Virginia     R   \n",
       "16269               Scott, Rick     R   \n",
       "21135     Hickenlooper, John W.     D   \n",
       "11696           Dingell, Debbie     D   \n",
       "\n",
       "                                               bill_text sponsor_state  \\\n",
       "25839  \\n\\n\\n \\n      To suspend temporarily the duty...            NJ   \n",
       "24422  \\n\\n\\n \\n  Of inquiry requesting the President...            NC   \n",
       "16269  \\n\\n\\n \\n To allow National Flood Insurance Pr...            FL   \n",
       "21135  \\n\\n\\n \\n To provide better access to retireme...            CO   \n",
       "11696  \\n\\n\\n \\n     To amend the Energy Policy and C...            MI   \n",
       "\n",
       "               cosponsor cosponsor_party cosponsor_state other_bill_date  \\\n",
       "25839                NaN             NaN             NaN      2012-04-27   \n",
       "24422                NaN             NaN             NaN      2022-11-10   \n",
       "16269                NaN             NaN             NaN      2021-09-30   \n",
       "21135  Collins, Susan M.               R              ME      2022-05-05   \n",
       "11696                NaN             NaN             NaN      2021-05-04   \n",
       "\n",
       "        bill_date  length  bipartisan_bill  \\\n",
       "25839  2012-04-27    1051            False   \n",
       "24422  2022-07-28    3310            False   \n",
       "16269  2021-09-30    1333            False   \n",
       "21135  2022-05-05    3394             True   \n",
       "11696  2021-05-04   17944            False   \n",
       "\n",
       "                                                     lem  \\\n",
       "25839  ['suspend', 'temporarily', 'duty', '3amino12pr...   \n",
       "24422  ['inquiry', 'requesting', 'president', 'direct...   \n",
       "16269  ['allow', 'national', 'flood', 'insurance', 'p...   \n",
       "21135  ['provide', 'better', 'access', 'retirement', ...   \n",
       "11696  ['amend', 'energy', 'policy', 'conservation', ...   \n",
       "\n",
       "                                                   model  \n",
       "25839  suspend temporarily duty 3amino12propanediol 3...  \n",
       "24422  inquiry requesting president directing educati...  \n",
       "16269  allow national flood insurance program policyh...  \n",
       "21135  provide better access retirement plan small bu...  \n",
       "11696  amend energy policy conservation modify defini...  "
      ]
     },
     "execution_count": 5,
     "metadata": {},
     "output_type": "execute_result"
    }
   ],
   "source": [
    "# looking at the cleaned up columns\n",
    "train.head()"
   ]
  },
  {
   "cell_type": "markdown",
   "id": "684d4dd4",
   "metadata": {},
   "source": [
    "# Explore\n",
    "Questions asked:\n",
    "\n",
    "1) Are there any words unique to a specific political party in determing Congressional Bills?\n",
    "\n",
    "2) What are the top focus areas for each political party and are there any bi-partisan areas or Congressional Bills?"
   ]
  },
  {
   "cell_type": "code",
   "execution_count": null,
   "id": "b89f0ba1",
   "metadata": {},
   "outputs": [],
   "source": [
    "# creating word_freq df\n",
    "word_freq = word_freq_new_df(train, clean_text)\n",
    "word_freq.head()"
   ]
  },
  {
   "cell_type": "markdown",
   "id": "cf3d3b3b",
   "metadata": {},
   "source": [
    "# 1) Are there any words unique to a specific political party in determing Congressional Bills?"
   ]
  },
  {
   "cell_type": "code",
   "execution_count": null,
   "id": "e36b56e3",
   "metadata": {},
   "outputs": [],
   "source": [
    "# visualization showing the most common words for democrats\n",
    "democrat = demo_vis(word_freq)"
   ]
  },
  {
   "cell_type": "markdown",
   "id": "317acf2f",
   "metadata": {},
   "source": [
    "- Democrat top words = violence, heading, worker, disability, award"
   ]
  },
  {
   "cell_type": "code",
   "execution_count": null,
   "id": "710de910",
   "metadata": {},
   "outputs": [],
   "source": [
    "# visualization showing the most common words for republicans\n",
    "republican = repub_vis(word_freq)"
   ]
  },
  {
   "cell_type": "markdown",
   "id": "2fec3904",
   "metadata": {},
   "source": [
    "- Republican top words = homeland, budget, china, joint, resolution"
   ]
  },
  {
   "cell_type": "code",
   "execution_count": null,
   "id": "3e98fe1c",
   "metadata": {},
   "outputs": [],
   "source": [
    "# visualization showing the most common words for independets\n",
    "independent = ind_vis(word_freq)"
   ]
  },
  {
   "cell_type": "markdown",
   "id": "a1608e72",
   "metadata": {},
   "source": [
    "- Independent top words = budget, outlay, trust, resolution, taxable\n"
   ]
  },
  {
   "cell_type": "markdown",
   "id": "7bfbecee",
   "metadata": {},
   "source": [
    "### Takeaways: ### \n",
    "\n",
    "- Budget appears as a top word for both republican and independent.\n",
    "- Most if not all of the top words for independents appear to be related to economic subjects.\n",
    "- China is a key concern for republicans.\n",
    "- The overall bills appear to be related to the bill process versus any specific area.\n",
    "- The top five words for each political party and the overall words for bills are mostly uniformly distributed.\n"
   ]
  },
  {
   "cell_type": "markdown",
   "id": "9e04db2f",
   "metadata": {},
   "source": [
    "# 2) What are the top focus areas for each political party and are there any bi-partisan areas or Congressional Bills?"
   ]
  },
  {
   "cell_type": "code",
   "execution_count": null,
   "id": "0c17a6f6",
   "metadata": {},
   "outputs": [],
   "source": [
    "# visualization showing the top bigrams\n",
    "top_bigrams = top_bigrams_viz(train)\n",
    "top_bigrams"
   ]
  },
  {
   "cell_type": "markdown",
   "id": "99fdf26c",
   "metadata": {},
   "source": [
    "- Democrat top bigrams = (public, health), (health, care), (higher, education)\n",
    "- Republican top bigrams = (homeland, security), (public, health), (health, care)"
   ]
  },
  {
   "cell_type": "code",
   "execution_count": null,
   "id": "ec9d8ff3",
   "metadata": {},
   "outputs": [],
   "source": [
    "# visualization showing the top trigrams\n",
    "top_trigrams = top_trigram_viz(train)\n",
    "top_trigrams"
   ]
  },
  {
   "cell_type": "markdown",
   "id": "4eac4212",
   "metadata": {},
   "source": [
    "- Republican top trigrams = (meaning, given, term), (internal, revenue, 1986), (people, republic, china)\n",
    "- Democrat top trigrams = (meaning, given, term), (internal, revenue, 1986), (health, human, service)"
   ]
  },
  {
   "cell_type": "markdown",
   "id": "c0e6c94a",
   "metadata": {},
   "source": [
    "### Takeaways: ###\n",
    "\n",
    "- The internal revenue act of 1986 is either a major concern for all parties or an extremely large bill that is overwhelming the other bills.\n",
    "- Term limits are another top area for both republicans and democrats.\n",
    "- Health care is also a major area for democrats and in the top five for republicans.\n",
    "- China appears again in trigrams for republicans.\n",
    "- After the top three trigrams for republicans there is a drop off for the next trigram concerning health care."
   ]
  },
  {
   "cell_type": "markdown",
   "id": "cf600db1",
   "metadata": {},
   "source": [
    "# Exploration Summary\n",
    "- Each political party had a focus area of concentration: for democrats the main are appears to be healthcare and higher education, republicans are focused on homeland security and China, and independents tend to lean toward economic concerns.\n",
    "- The large amount of bills by democrats versus the other political parties may be obscuring the data from the other parties.\n",
    "- Common areas of concern appear to be health care and term limits, at least for democrats and republicans.\n",
    "- Although specific words may not necessarilly determine if a bill is a certain political party, there are some words that are associated with particualar political interests that could determine if a bill is from a particular political party."
   ]
  },
  {
   "cell_type": "markdown",
   "id": "6d47b607",
   "metadata": {},
   "source": [
    "# Modeling\n",
    "- Accuracy will be the baseline we use for this project.\n",
    "- We will be evaluating models developed using five different model types and various hyperparameter configurations.\n",
    "- Models will be evaluated on train and validate data.\n",
    "- The model that performs the best will then be evaluated on test data.\n",
    "***The logistic regression model produced the best results.**"
   ]
  },
  {
   "cell_type": "markdown",
   "id": "53755e8e",
   "metadata": {},
   "source": [
    "# Model Accuracies"
   ]
  },
  {
   "cell_type": "code",
   "execution_count": null,
   "id": "d453a97e-2140-4faf-87bb-899d8d6e7b1c",
   "metadata": {},
   "outputs": [],
   "source": [
    "target_col = 'model'"
   ]
  },
  {
   "cell_type": "code",
   "execution_count": null,
   "id": "65ce4e54-afe9-4d67-afbb-f7aa92494da7",
   "metadata": {
    "tags": []
   },
   "outputs": [],
   "source": [
    "# visualization comparing the top four models\n",
    "X_train0, X_val0, X_test0 = vectorize_data(X_train0, X_val0, X_test0, target_col)"
   ]
  },
  {
   "cell_type": "code",
   "execution_count": null,
   "id": "dcb724c2-a86e-4014-bec0-300411290d01",
   "metadata": {},
   "outputs": [],
   "source": [
    "model_scores = find_party_scores(X_train0, y_train0, X_val0, y_val0)\n",
    "model_scores"
   ]
  },
  {
   "cell_type": "markdown",
   "id": "a198783f",
   "metadata": {},
   "source": [
    "- All models except random forest performed better than the baseline on train and validate."
   ]
  },
  {
   "cell_type": "markdown",
   "id": "73949c1b",
   "metadata": {
    "jp-MarkdownHeadingCollapsed": true,
    "tags": []
   },
   "source": [
    "# Comparing Models\n",
    "- The Logistic Regression model performed the best on train and validate of all the models.\n",
    "- We have chosen to move forward with the Logistic Regression model because KNN may be overfit and the regression model still outperformed the other top models."
   ]
  },
  {
   "cell_type": "markdown",
   "id": "fa57afde",
   "metadata": {},
   "source": [
    "# Linear Regression on Test"
   ]
  },
  {
   "cell_type": "code",
   "execution_count": null,
   "id": "cf86ab69",
   "metadata": {},
   "outputs": [],
   "source": [
    "# calling the function for the Logistic Regression test model\n",
    "final = final_party_test(X_train0, y_train0, X_val0, y_val0, X_test0, y_test0)\n",
    "final"
   ]
  },
  {
   "cell_type": "markdown",
   "id": "a88be0f8-b386-4c8c-89ce-450d8e4fa837",
   "metadata": {},
   "source": [
    "# Predicting if a bill will recieve bipartisan support"
   ]
  },
  {
   "cell_type": "code",
   "execution_count": null,
   "id": "0d8d965b-37be-47fe-a117-d4ea71e575c9",
   "metadata": {},
   "outputs": [],
   "source": [
    "partisan_viz(train)"
   ]
  },
  {
   "cell_type": "code",
   "execution_count": null,
   "id": "795ee176-86a1-4a2e-a454-0935d75b64c1",
   "metadata": {},
   "outputs": [],
   "source": [
    "target_col = 'bipartisan_bill'"
   ]
  },
  {
   "cell_type": "code",
   "execution_count": null,
   "id": "8ca2cf43-a9a4-4385-a9b2-ee700b88ffd7",
   "metadata": {},
   "outputs": [],
   "source": [
    "X_train1, y_train1, X_val1, y_val1, X_test1, y_test1 = train_val_test(train, validate, test, target_col)"
   ]
  },
  {
   "cell_type": "code",
   "execution_count": null,
   "id": "485063aa-ab99-48ef-b439-54d2220e8514",
   "metadata": {},
   "outputs": [],
   "source": [
    "X_train1, X_val1, X_test1 = vectorize_data(X_train1, X_val1, X_test1, \"model\")"
   ]
  },
  {
   "cell_type": "code",
   "execution_count": null,
   "id": "934e3782-1b4e-43fa-9ea2-7c5107045ef4",
   "metadata": {},
   "outputs": [],
   "source": [
    "find_model_scores_bipartison(X_train1, y_train1, X_val1, y_val1, print_scores = True)"
   ]
  },
  {
   "cell_type": "markdown",
   "id": "b4a680b2-ce60-4fc8-842c-60f6cdf18fe7",
   "metadata": {},
   "source": [
    "# Linear Regression on Test"
   ]
  },
  {
   "cell_type": "code",
   "execution_count": null,
   "id": "a5d1fcc5-47ab-458a-b3b0-39e3bc92f88c",
   "metadata": {},
   "outputs": [],
   "source": [
    "final_bipartisan_test(X_train1, y_train1, X_val1, y_val1, X_test1, y_test1)"
   ]
  },
  {
   "cell_type": "markdown",
   "id": "3888551b",
   "metadata": {},
   "source": [
    "# Conclusions"
   ]
  },
  {
   "cell_type": "markdown",
   "id": "8bcfb868",
   "metadata": {},
   "source": [
    "## Exploration\n",
    "- Specific words that could be interpreted as partisan or devisive could not be determined, but certain policy areas or political agendas can be inferred from the individual words, bigrams, and trigrams.\n",
    "\n",
    "- Certain bills may be large enough to alter the data being analyzed, but further investigation into certain bills could provide additional clarification.\n",
    "\n",
    "- There are a few bills/areas that appear to be imortant for both parties, such as health care."
   ]
  },
  {
   "cell_type": "markdown",
   "id": "d7c93caa",
   "metadata": {},
   "source": [
    "## Modeling\n",
    "- ***The final model outperformed the baseline. Possible reasons include:***\n",
    "\n",
    "- The difference in the amount of bills proposed by democrats versus republicans could be a reason for the models success, however, the extensive amount of data and the in-depth exploration of parameters on modeling are certainly indicators for the models accuracy."
   ]
  },
  {
   "cell_type": "markdown",
   "id": "0dbe4b54",
   "metadata": {},
   "source": [
    "# Recommendations\n",
    "- The reults from this project should be made public for informational use on the focus of democratic and republican representatives.\n",
    "- An investigation or inquiry should be established to determine why there is an imbalance of bills proposed between the two major political parties."
   ]
  },
  {
   "cell_type": "markdown",
   "id": "bd10b942",
   "metadata": {},
   "source": [
    "# Next Steps\n",
    "- This project can be used as a starting point for a larger project on time series where a team can add other NLP bills throughout history and future bills to analyze the change in political areas of concenration over time.\n",
    "- Investigate which bills have made it through the process and are now laws and build a model that would predict, based off of the language, whether a bill is made into law or not.\n",
    "- Remove the dates from the bills and make another column to sort by the dates in order to determine if there is any change or difference in language between certain timeframes or major events."
   ]
  },
  {
   "cell_type": "code",
   "execution_count": null,
   "id": "1ffadc14",
   "metadata": {},
   "outputs": [],
   "source": []
  }
 ],
 "metadata": {
  "kernelspec": {
   "display_name": "Python 3 (ipykernel)",
   "language": "python",
   "name": "python3"
  },
  "language_info": {
   "codemirror_mode": {
    "name": "ipython",
    "version": 3
   },
   "file_extension": ".py",
   "mimetype": "text/x-python",
   "name": "python",
   "nbconvert_exporter": "python",
   "pygments_lexer": "ipython3",
   "version": "3.9.15"
  }
 },
 "nbformat": 4,
 "nbformat_minor": 5
}
