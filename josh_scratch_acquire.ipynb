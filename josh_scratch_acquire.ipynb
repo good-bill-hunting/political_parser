{
 "cells": [
  {
   "cell_type": "code",
   "execution_count": 1,
   "id": "f69a220d-d919-41d9-bb65-9771b00650d0",
   "metadata": {},
   "outputs": [],
   "source": [
    "import pandas as pd\n",
    "import numpy as np\n",
    "from env import api_key\n",
    "import requests\n",
    "import json\n",
    "from acquire import *\n",
    "from bs4 import BeautifulSoup\n",
    "import os"
   ]
  },
  {
   "cell_type": "code",
   "execution_count": 2,
   "id": "1f7b7b16-b8af-4032-8e3b-26e8088f849b",
   "metadata": {},
   "outputs": [],
   "source": [
    "links = get_links_to_bills()"
   ]
  },
  {
   "cell_type": "code",
   "execution_count": 63,
   "id": "bb3ee822-bd36-4cf3-9566-b9ede3513e2b",
   "metadata": {},
   "outputs": [],
   "source": [
    "pd.Series(links).to_csv(\"links_to_summary.csv\")"
   ]
  },
  {
   "cell_type": "code",
   "execution_count": 3,
   "id": "dc69900b-a7d1-4244-bc88-61a1e0e5c380",
   "metadata": {},
   "outputs": [
    {
     "data": {
      "text/plain": [
       "['https://api.govinfo.gov/packages/BILLS-116hr5273rh/summary']"
      ]
     },
     "execution_count": 3,
     "metadata": {},
     "output_type": "execute_result"
    }
   ],
   "source": [
    "links[:1]"
   ]
  },
  {
   "cell_type": "code",
   "execution_count": 5,
   "id": "e67a84d5-9ccc-4ba6-8279-00eaef596e19",
   "metadata": {},
   "outputs": [],
   "source": []
  },
  {
   "cell_type": "code",
   "execution_count": null,
   "id": "209f40ad-108c-42a0-81c7-c58b47929e24",
   "metadata": {},
   "outputs": [],
   "source": []
  },
  {
   "cell_type": "code",
   "execution_count": 7,
   "id": "24d8b34e-9681-4bba-bfc1-9e3d418073fb",
   "metadata": {},
   "outputs": [],
   "source": [
    "# Parameters for the API request\n",
    "params = {\n",
    "    'offset': 0,\n",
    "    'pageSize': 1000,\n",
    "    'api_key': f'{api_key[9:]}'} # Replace with your own API key"
   ]
  },
  {
   "cell_type": "code",
   "execution_count": 8,
   "id": "ca689a06-844a-4f36-b518-81a162ecc845",
   "metadata": {},
   "outputs": [],
   "source": [
    "# Make a request to the API\n",
    "response = requests.get(links[0], params=params)"
   ]
  },
  {
   "cell_type": "code",
   "execution_count": 8,
   "id": "5fbe737d-0acd-4633-8a1f-109f97621d8e",
   "metadata": {},
   "outputs": [],
   "source": [
    "# Convert the response to JSON\n",
    "data = response.json()"
   ]
  },
  {
   "cell_type": "code",
   "execution_count": 15,
   "id": "a5e639b6-a331-4d0b-bc93-a310dca53dc9",
   "metadata": {
    "tags": []
   },
   "outputs": [
    {
     "data": {
      "text/plain": [
       "{'originChamber': 'HOUSE',\n",
       " 'references': [{'contents': [{'label': 'U.S.C',\n",
       "     'title': '15',\n",
       "     'sections': ['632']}],\n",
       "   'collectionCode': 'USCODE',\n",
       "   'collectionName': 'U.S. Code'}],\n",
       " 'congress': '116',\n",
       " 'session': '2',\n",
       " 'detailsLink': 'https://www.govinfo.gov/app/details/BILLS-116hr5273rh',\n",
       " 'shortTitle': [{'type': 'measure', 'title': 'Securing America’s Ports Act'}],\n",
       " 'isPrivate': 'false',\n",
       " 'title': 'To require the Secretary of Homeland Security to develop a plan to increase to 100 percent the rates of scanning of commercial and passenger vehicles entering the United States at land ports of entry along the border using large-scale non-intrusive inspection systems to enhance border security, and for other purposes.',\n",
       " 'branch': 'legislative',\n",
       " 'isAppropriation': 'false',\n",
       " 'collectionName': 'Congressional Bills',\n",
       " 'download': {'premisLink': 'https://api.govinfo.gov/packages/BILLS-116hr5273rh/premis',\n",
       "  'xmlLink': 'https://api.govinfo.gov/packages/BILLS-116hr5273rh/xml',\n",
       "  'txtLink': 'https://api.govinfo.gov/packages/BILLS-116hr5273rh/htm',\n",
       "  'zipLink': 'https://api.govinfo.gov/packages/BILLS-116hr5273rh/zip',\n",
       "  'modsLink': 'https://api.govinfo.gov/packages/BILLS-116hr5273rh/mods',\n",
       "  'pdfLink': 'https://api.govinfo.gov/packages/BILLS-116hr5273rh/pdf'},\n",
       " 'pages': '10',\n",
       " 'related': {'billStatusLink': 'https://www.govinfo.gov/bulkdata/BILLSTATUS/116/hr/BILLSTATUS-116hr5273.xml'},\n",
       " 'relatedLink': 'https://api.govinfo.gov/related/BILLS-116hr5273rh',\n",
       " 'members': [{'role': 'SPONSOR',\n",
       "   'chamber': 'H',\n",
       "   'congress': '116',\n",
       "   'bioGuideId': 'T000484',\n",
       "   'memberName': 'Torres Small, Xochitl',\n",
       "   'state': 'NM',\n",
       "   'party': 'D'},\n",
       "  {'role': 'COSPONSOR',\n",
       "   'chamber': 'H',\n",
       "   'congress': '116',\n",
       "   'bioGuideId': 'C001120',\n",
       "   'memberName': 'Crenshaw, Dan',\n",
       "   'state': 'TX',\n",
       "   'party': 'R'},\n",
       "  {'role': 'COSPONSOR',\n",
       "   'chamber': 'H',\n",
       "   'congress': '116',\n",
       "   'bioGuideId': 'S001208',\n",
       "   'memberName': 'Slotkin, Elissa',\n",
       "   'state': 'MI',\n",
       "   'party': 'D'},\n",
       "  {'role': 'COSPONSOR',\n",
       "   'chamber': 'H',\n",
       "   'congress': '116',\n",
       "   'bioGuideId': 'H001090',\n",
       "   'memberName': 'Harder, Josh',\n",
       "   'state': 'CA',\n",
       "   'party': 'D'},\n",
       "  {'role': 'COSPONSOR',\n",
       "   'chamber': 'H',\n",
       "   'congress': '116',\n",
       "   'bioGuideId': 'A000369',\n",
       "   'memberName': 'Amodei, Mark E.',\n",
       "   'state': 'NV',\n",
       "   'party': 'R'},\n",
       "  {'role': 'COSPONSOR',\n",
       "   'chamber': 'H',\n",
       "   'congress': '116',\n",
       "   'bioGuideId': 'G000581',\n",
       "   'memberName': 'Gonzalez, Vicente',\n",
       "   'state': 'TX',\n",
       "   'party': 'D'},\n",
       "  {'role': 'COSPONSOR',\n",
       "   'chamber': 'H',\n",
       "   'congress': '116',\n",
       "   'bioGuideId': 'R000602',\n",
       "   'memberName': 'Rice, Kathleen M.',\n",
       "   'state': 'NY',\n",
       "   'party': 'D'},\n",
       "  {'role': 'COSPONSOR',\n",
       "   'chamber': 'H',\n",
       "   'congress': '116',\n",
       "   'bioGuideId': 'C001110',\n",
       "   'memberName': 'Correa, J. Luis',\n",
       "   'state': 'CA',\n",
       "   'party': 'D'},\n",
       "  {'role': 'COSPONSOR',\n",
       "   'chamber': 'H',\n",
       "   'congress': '116',\n",
       "   'bioGuideId': 'S001209',\n",
       "   'memberName': 'Spanberger, Abigail Davis',\n",
       "   'state': 'VA',\n",
       "   'party': 'D'},\n",
       "  {'role': 'COSPONSOR',\n",
       "   'chamber': 'H',\n",
       "   'congress': '116',\n",
       "   'bioGuideId': 'L000589',\n",
       "   'memberName': 'Lesko, Debbie',\n",
       "   'state': 'AZ',\n",
       "   'party': 'R'}],\n",
       " 'suDocClassNumber': 'Y 1.6:, Y 1.4/6:',\n",
       " 'dateIssued': '2020-02-06',\n",
       " 'currentChamber': 'HOUSE',\n",
       " 'billVersion': 'rh',\n",
       " 'billType': 'hr',\n",
       " 'packageId': 'BILLS-116hr5273rh',\n",
       " 'committees': [{'authorityId': 'hshm00',\n",
       "   'chamber': 'H',\n",
       "   'committeeName': 'Committee on Homeland Security',\n",
       "   'type': 'S'}],\n",
       " 'collectionCode': 'BILLS',\n",
       " 'governmentAuthor2': 'House of Representatives',\n",
       " 'governmentAuthor1': 'Congress',\n",
       " 'publisher': 'U.S. Government Publishing Office',\n",
       " 'docClass': 'hr',\n",
       " 'lastModified': '2023-01-01T01:00:56Z',\n",
       " 'category': 'Bills and Statutes',\n",
       " 'billNumber': '5273',\n",
       " 'otherIdentifier': {'migrated-doc-id': 'f:h5273_rh.txt',\n",
       "  'parent-ils-system-id': '000501532',\n",
       "  'child-ils-title': 'House bills',\n",
       "  'parent-ils-title': 'Congressional bills',\n",
       "  'child-ils-system-id': '000325573',\n",
       "  'stock-number': '021-610-00252-9'}}"
      ]
     },
     "execution_count": 61,
     "metadata": {},
     "output_type": "execute_result"
    }
   ],
   "source": []
  },
  {
   "cell_type": "code",
   "execution_count": 13,
   "id": "8a7be22a-f7b1-4066-b1e9-ff965773a67c",
   "metadata": {},
   "outputs": [
    {
     "data": {
      "text/plain": [
       "'Torres Small, Xochitl'"
      ]
     },
     "execution_count": 13,
     "metadata": {},
     "output_type": "execute_result"
    }
   ],
   "source": [
    "member = data['members'][0]['memberName']"
   ]
  },
  {
   "cell_type": "code",
   "execution_count": 14,
   "id": "cabbfed3-35b4-4682-96bc-20a2f0bb404b",
   "metadata": {},
   "outputs": [
    {
     "data": {
      "text/plain": [
       "'D'"
      ]
     },
     "execution_count": 14,
     "metadata": {},
     "output_type": "execute_result"
    }
   ],
   "source": [
    "party = data['members'][0]['party']"
   ]
  },
  {
   "cell_type": "code",
   "execution_count": 17,
   "id": "d638d454-e2f2-4540-872c-8590399d11ed",
   "metadata": {},
   "outputs": [],
   "source": [
    "link_to_bill = data['download']['txtLink']"
   ]
  },
  {
   "cell_type": "code",
   "execution_count": 18,
   "id": "334df6ea-e297-4163-9ca3-48b0e4063da2",
   "metadata": {
    "collapsed": true,
    "jupyter": {
     "outputs_hidden": true
    },
    "tags": []
   },
   "outputs": [
    {
     "ename": "HTTPError",
     "evalue": "HTTP Error 401: Unauthorized",
     "output_type": "error",
     "traceback": [
      "\u001b[0;31m---------------------------------------------------------------------------\u001b[0m",
      "\u001b[0;31mHTTPError\u001b[0m                                 Traceback (most recent call last)",
      "\u001b[0;32m/var/folders/sg/9h_lqlfd6bgb63_prv2nr4mm0000gn/T/ipykernel_5083/1422039686.py\u001b[0m in \u001b[0;36m<module>\u001b[0;34m\u001b[0m\n\u001b[0;32m----> 1\u001b[0;31m \u001b[0mdf\u001b[0m \u001b[0;34m=\u001b[0m \u001b[0mpd\u001b[0m\u001b[0;34m.\u001b[0m\u001b[0mread_json\u001b[0m\u001b[0;34m(\u001b[0m\u001b[0mlink_api\u001b[0m\u001b[0;34m)\u001b[0m\u001b[0;34m\u001b[0m\u001b[0;34m\u001b[0m\u001b[0m\n\u001b[0m",
      "\u001b[0;32m~/opt/anaconda3/lib/python3.9/site-packages/pandas/util/_decorators.py\u001b[0m in \u001b[0;36mwrapper\u001b[0;34m(*args, **kwargs)\u001b[0m\n\u001b[1;32m    205\u001b[0m                 \u001b[0;32melse\u001b[0m\u001b[0;34m:\u001b[0m\u001b[0;34m\u001b[0m\u001b[0;34m\u001b[0m\u001b[0m\n\u001b[1;32m    206\u001b[0m                     \u001b[0mkwargs\u001b[0m\u001b[0;34m[\u001b[0m\u001b[0mnew_arg_name\u001b[0m\u001b[0;34m]\u001b[0m \u001b[0;34m=\u001b[0m \u001b[0mnew_arg_value\u001b[0m\u001b[0;34m\u001b[0m\u001b[0;34m\u001b[0m\u001b[0m\n\u001b[0;32m--> 207\u001b[0;31m             \u001b[0;32mreturn\u001b[0m \u001b[0mfunc\u001b[0m\u001b[0;34m(\u001b[0m\u001b[0;34m*\u001b[0m\u001b[0margs\u001b[0m\u001b[0;34m,\u001b[0m \u001b[0;34m**\u001b[0m\u001b[0mkwargs\u001b[0m\u001b[0;34m)\u001b[0m\u001b[0;34m\u001b[0m\u001b[0;34m\u001b[0m\u001b[0m\n\u001b[0m\u001b[1;32m    208\u001b[0m \u001b[0;34m\u001b[0m\u001b[0m\n\u001b[1;32m    209\u001b[0m         \u001b[0;32mreturn\u001b[0m \u001b[0mcast\u001b[0m\u001b[0;34m(\u001b[0m\u001b[0mF\u001b[0m\u001b[0;34m,\u001b[0m \u001b[0mwrapper\u001b[0m\u001b[0;34m)\u001b[0m\u001b[0;34m\u001b[0m\u001b[0;34m\u001b[0m\u001b[0m\n",
      "\u001b[0;32m~/opt/anaconda3/lib/python3.9/site-packages/pandas/util/_decorators.py\u001b[0m in \u001b[0;36mwrapper\u001b[0;34m(*args, **kwargs)\u001b[0m\n\u001b[1;32m    309\u001b[0m                     \u001b[0mstacklevel\u001b[0m\u001b[0;34m=\u001b[0m\u001b[0mstacklevel\u001b[0m\u001b[0;34m,\u001b[0m\u001b[0;34m\u001b[0m\u001b[0;34m\u001b[0m\u001b[0m\n\u001b[1;32m    310\u001b[0m                 )\n\u001b[0;32m--> 311\u001b[0;31m             \u001b[0;32mreturn\u001b[0m \u001b[0mfunc\u001b[0m\u001b[0;34m(\u001b[0m\u001b[0;34m*\u001b[0m\u001b[0margs\u001b[0m\u001b[0;34m,\u001b[0m \u001b[0;34m**\u001b[0m\u001b[0mkwargs\u001b[0m\u001b[0;34m)\u001b[0m\u001b[0;34m\u001b[0m\u001b[0;34m\u001b[0m\u001b[0m\n\u001b[0m\u001b[1;32m    312\u001b[0m \u001b[0;34m\u001b[0m\u001b[0m\n\u001b[1;32m    313\u001b[0m         \u001b[0;32mreturn\u001b[0m \u001b[0mwrapper\u001b[0m\u001b[0;34m\u001b[0m\u001b[0;34m\u001b[0m\u001b[0m\n",
      "\u001b[0;32m~/opt/anaconda3/lib/python3.9/site-packages/pandas/io/json/_json.py\u001b[0m in \u001b[0;36mread_json\u001b[0;34m(path_or_buf, orient, typ, dtype, convert_axes, convert_dates, keep_default_dates, numpy, precise_float, date_unit, encoding, encoding_errors, lines, chunksize, compression, nrows, storage_options)\u001b[0m\n\u001b[1;32m    586\u001b[0m         \u001b[0mconvert_axes\u001b[0m \u001b[0;34m=\u001b[0m \u001b[0;32mTrue\u001b[0m\u001b[0;34m\u001b[0m\u001b[0;34m\u001b[0m\u001b[0m\n\u001b[1;32m    587\u001b[0m \u001b[0;34m\u001b[0m\u001b[0m\n\u001b[0;32m--> 588\u001b[0;31m     json_reader = JsonReader(\n\u001b[0m\u001b[1;32m    589\u001b[0m         \u001b[0mpath_or_buf\u001b[0m\u001b[0;34m,\u001b[0m\u001b[0;34m\u001b[0m\u001b[0;34m\u001b[0m\u001b[0m\n\u001b[1;32m    590\u001b[0m         \u001b[0morient\u001b[0m\u001b[0;34m=\u001b[0m\u001b[0morient\u001b[0m\u001b[0;34m,\u001b[0m\u001b[0;34m\u001b[0m\u001b[0;34m\u001b[0m\u001b[0m\n",
      "\u001b[0;32m~/opt/anaconda3/lib/python3.9/site-packages/pandas/io/json/_json.py\u001b[0m in \u001b[0;36m__init__\u001b[0;34m(self, filepath_or_buffer, orient, typ, dtype, convert_axes, convert_dates, keep_default_dates, numpy, precise_float, date_unit, encoding, lines, chunksize, compression, nrows, storage_options, encoding_errors)\u001b[0m\n\u001b[1;32m    671\u001b[0m                 \u001b[0;32mraise\u001b[0m \u001b[0mValueError\u001b[0m\u001b[0;34m(\u001b[0m\u001b[0;34m\"nrows can only be passed if lines=True\"\u001b[0m\u001b[0;34m)\u001b[0m\u001b[0;34m\u001b[0m\u001b[0;34m\u001b[0m\u001b[0m\n\u001b[1;32m    672\u001b[0m \u001b[0;34m\u001b[0m\u001b[0m\n\u001b[0;32m--> 673\u001b[0;31m         \u001b[0mdata\u001b[0m \u001b[0;34m=\u001b[0m \u001b[0mself\u001b[0m\u001b[0;34m.\u001b[0m\u001b[0m_get_data_from_filepath\u001b[0m\u001b[0;34m(\u001b[0m\u001b[0mfilepath_or_buffer\u001b[0m\u001b[0;34m)\u001b[0m\u001b[0;34m\u001b[0m\u001b[0;34m\u001b[0m\u001b[0m\n\u001b[0m\u001b[1;32m    674\u001b[0m         \u001b[0mself\u001b[0m\u001b[0;34m.\u001b[0m\u001b[0mdata\u001b[0m \u001b[0;34m=\u001b[0m \u001b[0mself\u001b[0m\u001b[0;34m.\u001b[0m\u001b[0m_preprocess_data\u001b[0m\u001b[0;34m(\u001b[0m\u001b[0mdata\u001b[0m\u001b[0;34m)\u001b[0m\u001b[0;34m\u001b[0m\u001b[0;34m\u001b[0m\u001b[0m\n\u001b[1;32m    675\u001b[0m \u001b[0;34m\u001b[0m\u001b[0m\n",
      "\u001b[0;32m~/opt/anaconda3/lib/python3.9/site-packages/pandas/io/json/_json.py\u001b[0m in \u001b[0;36m_get_data_from_filepath\u001b[0;34m(self, filepath_or_buffer)\u001b[0m\n\u001b[1;32m    708\u001b[0m             \u001b[0;32mor\u001b[0m \u001b[0mfile_exists\u001b[0m\u001b[0;34m(\u001b[0m\u001b[0mfilepath_or_buffer\u001b[0m\u001b[0;34m)\u001b[0m\u001b[0;34m\u001b[0m\u001b[0;34m\u001b[0m\u001b[0m\n\u001b[1;32m    709\u001b[0m         ):\n\u001b[0;32m--> 710\u001b[0;31m             self.handles = get_handle(\n\u001b[0m\u001b[1;32m    711\u001b[0m                 \u001b[0mfilepath_or_buffer\u001b[0m\u001b[0;34m,\u001b[0m\u001b[0;34m\u001b[0m\u001b[0;34m\u001b[0m\u001b[0m\n\u001b[1;32m    712\u001b[0m                 \u001b[0;34m\"r\"\u001b[0m\u001b[0;34m,\u001b[0m\u001b[0;34m\u001b[0m\u001b[0;34m\u001b[0m\u001b[0m\n",
      "\u001b[0;32m~/opt/anaconda3/lib/python3.9/site-packages/pandas/io/common.py\u001b[0m in \u001b[0;36mget_handle\u001b[0;34m(path_or_buf, mode, encoding, compression, memory_map, is_text, errors, storage_options)\u001b[0m\n\u001b[1;32m    665\u001b[0m \u001b[0;34m\u001b[0m\u001b[0m\n\u001b[1;32m    666\u001b[0m     \u001b[0;31m# open URLs\u001b[0m\u001b[0;34m\u001b[0m\u001b[0;34m\u001b[0m\u001b[0m\n\u001b[0;32m--> 667\u001b[0;31m     ioargs = _get_filepath_or_buffer(\n\u001b[0m\u001b[1;32m    668\u001b[0m         \u001b[0mpath_or_buf\u001b[0m\u001b[0;34m,\u001b[0m\u001b[0;34m\u001b[0m\u001b[0;34m\u001b[0m\u001b[0m\n\u001b[1;32m    669\u001b[0m         \u001b[0mencoding\u001b[0m\u001b[0;34m=\u001b[0m\u001b[0mencoding\u001b[0m\u001b[0;34m,\u001b[0m\u001b[0;34m\u001b[0m\u001b[0;34m\u001b[0m\u001b[0m\n",
      "\u001b[0;32m~/opt/anaconda3/lib/python3.9/site-packages/pandas/io/common.py\u001b[0m in \u001b[0;36m_get_filepath_or_buffer\u001b[0;34m(filepath_or_buffer, encoding, compression, mode, storage_options)\u001b[0m\n\u001b[1;32m    334\u001b[0m         \u001b[0;31m# assuming storage_options is to be interpreted as headers\u001b[0m\u001b[0;34m\u001b[0m\u001b[0;34m\u001b[0m\u001b[0m\n\u001b[1;32m    335\u001b[0m         \u001b[0mreq_info\u001b[0m \u001b[0;34m=\u001b[0m \u001b[0murllib\u001b[0m\u001b[0;34m.\u001b[0m\u001b[0mrequest\u001b[0m\u001b[0;34m.\u001b[0m\u001b[0mRequest\u001b[0m\u001b[0;34m(\u001b[0m\u001b[0mfilepath_or_buffer\u001b[0m\u001b[0;34m,\u001b[0m \u001b[0mheaders\u001b[0m\u001b[0;34m=\u001b[0m\u001b[0mstorage_options\u001b[0m\u001b[0;34m)\u001b[0m\u001b[0;34m\u001b[0m\u001b[0;34m\u001b[0m\u001b[0m\n\u001b[0;32m--> 336\u001b[0;31m         \u001b[0;32mwith\u001b[0m \u001b[0murlopen\u001b[0m\u001b[0;34m(\u001b[0m\u001b[0mreq_info\u001b[0m\u001b[0;34m)\u001b[0m \u001b[0;32mas\u001b[0m \u001b[0mreq\u001b[0m\u001b[0;34m:\u001b[0m\u001b[0;34m\u001b[0m\u001b[0;34m\u001b[0m\u001b[0m\n\u001b[0m\u001b[1;32m    337\u001b[0m             \u001b[0mcontent_encoding\u001b[0m \u001b[0;34m=\u001b[0m \u001b[0mreq\u001b[0m\u001b[0;34m.\u001b[0m\u001b[0mheaders\u001b[0m\u001b[0;34m.\u001b[0m\u001b[0mget\u001b[0m\u001b[0;34m(\u001b[0m\u001b[0;34m\"Content-Encoding\"\u001b[0m\u001b[0;34m,\u001b[0m \u001b[0;32mNone\u001b[0m\u001b[0;34m)\u001b[0m\u001b[0;34m\u001b[0m\u001b[0;34m\u001b[0m\u001b[0m\n\u001b[1;32m    338\u001b[0m             \u001b[0;32mif\u001b[0m \u001b[0mcontent_encoding\u001b[0m \u001b[0;34m==\u001b[0m \u001b[0;34m\"gzip\"\u001b[0m\u001b[0;34m:\u001b[0m\u001b[0;34m\u001b[0m\u001b[0;34m\u001b[0m\u001b[0m\n",
      "\u001b[0;32m~/opt/anaconda3/lib/python3.9/site-packages/pandas/io/common.py\u001b[0m in \u001b[0;36murlopen\u001b[0;34m(*args, **kwargs)\u001b[0m\n\u001b[1;32m    234\u001b[0m     \u001b[0;32mimport\u001b[0m \u001b[0murllib\u001b[0m\u001b[0;34m.\u001b[0m\u001b[0mrequest\u001b[0m\u001b[0;34m\u001b[0m\u001b[0;34m\u001b[0m\u001b[0m\n\u001b[1;32m    235\u001b[0m \u001b[0;34m\u001b[0m\u001b[0m\n\u001b[0;32m--> 236\u001b[0;31m     \u001b[0;32mreturn\u001b[0m \u001b[0murllib\u001b[0m\u001b[0;34m.\u001b[0m\u001b[0mrequest\u001b[0m\u001b[0;34m.\u001b[0m\u001b[0murlopen\u001b[0m\u001b[0;34m(\u001b[0m\u001b[0;34m*\u001b[0m\u001b[0margs\u001b[0m\u001b[0;34m,\u001b[0m \u001b[0;34m**\u001b[0m\u001b[0mkwargs\u001b[0m\u001b[0;34m)\u001b[0m\u001b[0;34m\u001b[0m\u001b[0;34m\u001b[0m\u001b[0m\n\u001b[0m\u001b[1;32m    237\u001b[0m \u001b[0;34m\u001b[0m\u001b[0m\n\u001b[1;32m    238\u001b[0m \u001b[0;34m\u001b[0m\u001b[0m\n",
      "\u001b[0;32m~/opt/anaconda3/lib/python3.9/urllib/request.py\u001b[0m in \u001b[0;36murlopen\u001b[0;34m(url, data, timeout, cafile, capath, cadefault, context)\u001b[0m\n\u001b[1;32m    212\u001b[0m     \u001b[0;32melse\u001b[0m\u001b[0;34m:\u001b[0m\u001b[0;34m\u001b[0m\u001b[0;34m\u001b[0m\u001b[0m\n\u001b[1;32m    213\u001b[0m         \u001b[0mopener\u001b[0m \u001b[0;34m=\u001b[0m \u001b[0m_opener\u001b[0m\u001b[0;34m\u001b[0m\u001b[0;34m\u001b[0m\u001b[0m\n\u001b[0;32m--> 214\u001b[0;31m     \u001b[0;32mreturn\u001b[0m \u001b[0mopener\u001b[0m\u001b[0;34m.\u001b[0m\u001b[0mopen\u001b[0m\u001b[0;34m(\u001b[0m\u001b[0murl\u001b[0m\u001b[0;34m,\u001b[0m \u001b[0mdata\u001b[0m\u001b[0;34m,\u001b[0m \u001b[0mtimeout\u001b[0m\u001b[0;34m)\u001b[0m\u001b[0;34m\u001b[0m\u001b[0;34m\u001b[0m\u001b[0m\n\u001b[0m\u001b[1;32m    215\u001b[0m \u001b[0;34m\u001b[0m\u001b[0m\n\u001b[1;32m    216\u001b[0m \u001b[0;32mdef\u001b[0m \u001b[0minstall_opener\u001b[0m\u001b[0;34m(\u001b[0m\u001b[0mopener\u001b[0m\u001b[0;34m)\u001b[0m\u001b[0;34m:\u001b[0m\u001b[0;34m\u001b[0m\u001b[0;34m\u001b[0m\u001b[0m\n",
      "\u001b[0;32m~/opt/anaconda3/lib/python3.9/urllib/request.py\u001b[0m in \u001b[0;36mopen\u001b[0;34m(self, fullurl, data, timeout)\u001b[0m\n\u001b[1;32m    521\u001b[0m         \u001b[0;32mfor\u001b[0m \u001b[0mprocessor\u001b[0m \u001b[0;32min\u001b[0m \u001b[0mself\u001b[0m\u001b[0;34m.\u001b[0m\u001b[0mprocess_response\u001b[0m\u001b[0;34m.\u001b[0m\u001b[0mget\u001b[0m\u001b[0;34m(\u001b[0m\u001b[0mprotocol\u001b[0m\u001b[0;34m,\u001b[0m \u001b[0;34m[\u001b[0m\u001b[0;34m]\u001b[0m\u001b[0;34m)\u001b[0m\u001b[0;34m:\u001b[0m\u001b[0;34m\u001b[0m\u001b[0;34m\u001b[0m\u001b[0m\n\u001b[1;32m    522\u001b[0m             \u001b[0mmeth\u001b[0m \u001b[0;34m=\u001b[0m \u001b[0mgetattr\u001b[0m\u001b[0;34m(\u001b[0m\u001b[0mprocessor\u001b[0m\u001b[0;34m,\u001b[0m \u001b[0mmeth_name\u001b[0m\u001b[0;34m)\u001b[0m\u001b[0;34m\u001b[0m\u001b[0;34m\u001b[0m\u001b[0m\n\u001b[0;32m--> 523\u001b[0;31m             \u001b[0mresponse\u001b[0m \u001b[0;34m=\u001b[0m \u001b[0mmeth\u001b[0m\u001b[0;34m(\u001b[0m\u001b[0mreq\u001b[0m\u001b[0;34m,\u001b[0m \u001b[0mresponse\u001b[0m\u001b[0;34m)\u001b[0m\u001b[0;34m\u001b[0m\u001b[0;34m\u001b[0m\u001b[0m\n\u001b[0m\u001b[1;32m    524\u001b[0m \u001b[0;34m\u001b[0m\u001b[0m\n\u001b[1;32m    525\u001b[0m         \u001b[0;32mreturn\u001b[0m \u001b[0mresponse\u001b[0m\u001b[0;34m\u001b[0m\u001b[0;34m\u001b[0m\u001b[0m\n",
      "\u001b[0;32m~/opt/anaconda3/lib/python3.9/urllib/request.py\u001b[0m in \u001b[0;36mhttp_response\u001b[0;34m(self, request, response)\u001b[0m\n\u001b[1;32m    630\u001b[0m         \u001b[0;31m# request was successfully received, understood, and accepted.\u001b[0m\u001b[0;34m\u001b[0m\u001b[0;34m\u001b[0m\u001b[0m\n\u001b[1;32m    631\u001b[0m         \u001b[0;32mif\u001b[0m \u001b[0;32mnot\u001b[0m \u001b[0;34m(\u001b[0m\u001b[0;36m200\u001b[0m \u001b[0;34m<=\u001b[0m \u001b[0mcode\u001b[0m \u001b[0;34m<\u001b[0m \u001b[0;36m300\u001b[0m\u001b[0;34m)\u001b[0m\u001b[0;34m:\u001b[0m\u001b[0;34m\u001b[0m\u001b[0;34m\u001b[0m\u001b[0m\n\u001b[0;32m--> 632\u001b[0;31m             response = self.parent.error(\n\u001b[0m\u001b[1;32m    633\u001b[0m                 'http', request, response, code, msg, hdrs)\n\u001b[1;32m    634\u001b[0m \u001b[0;34m\u001b[0m\u001b[0m\n",
      "\u001b[0;32m~/opt/anaconda3/lib/python3.9/urllib/request.py\u001b[0m in \u001b[0;36merror\u001b[0;34m(self, proto, *args)\u001b[0m\n\u001b[1;32m    559\u001b[0m         \u001b[0;32mif\u001b[0m \u001b[0mhttp_err\u001b[0m\u001b[0;34m:\u001b[0m\u001b[0;34m\u001b[0m\u001b[0;34m\u001b[0m\u001b[0m\n\u001b[1;32m    560\u001b[0m             \u001b[0margs\u001b[0m \u001b[0;34m=\u001b[0m \u001b[0;34m(\u001b[0m\u001b[0mdict\u001b[0m\u001b[0;34m,\u001b[0m \u001b[0;34m'default'\u001b[0m\u001b[0;34m,\u001b[0m \u001b[0;34m'http_error_default'\u001b[0m\u001b[0;34m)\u001b[0m \u001b[0;34m+\u001b[0m \u001b[0morig_args\u001b[0m\u001b[0;34m\u001b[0m\u001b[0;34m\u001b[0m\u001b[0m\n\u001b[0;32m--> 561\u001b[0;31m             \u001b[0;32mreturn\u001b[0m \u001b[0mself\u001b[0m\u001b[0;34m.\u001b[0m\u001b[0m_call_chain\u001b[0m\u001b[0;34m(\u001b[0m\u001b[0;34m*\u001b[0m\u001b[0margs\u001b[0m\u001b[0;34m)\u001b[0m\u001b[0;34m\u001b[0m\u001b[0;34m\u001b[0m\u001b[0m\n\u001b[0m\u001b[1;32m    562\u001b[0m \u001b[0;34m\u001b[0m\u001b[0m\n\u001b[1;32m    563\u001b[0m \u001b[0;31m# XXX probably also want an abstract factory that knows when it makes\u001b[0m\u001b[0;34m\u001b[0m\u001b[0;34m\u001b[0m\u001b[0m\n",
      "\u001b[0;32m~/opt/anaconda3/lib/python3.9/urllib/request.py\u001b[0m in \u001b[0;36m_call_chain\u001b[0;34m(self, chain, kind, meth_name, *args)\u001b[0m\n\u001b[1;32m    492\u001b[0m         \u001b[0;32mfor\u001b[0m \u001b[0mhandler\u001b[0m \u001b[0;32min\u001b[0m \u001b[0mhandlers\u001b[0m\u001b[0;34m:\u001b[0m\u001b[0;34m\u001b[0m\u001b[0;34m\u001b[0m\u001b[0m\n\u001b[1;32m    493\u001b[0m             \u001b[0mfunc\u001b[0m \u001b[0;34m=\u001b[0m \u001b[0mgetattr\u001b[0m\u001b[0;34m(\u001b[0m\u001b[0mhandler\u001b[0m\u001b[0;34m,\u001b[0m \u001b[0mmeth_name\u001b[0m\u001b[0;34m)\u001b[0m\u001b[0;34m\u001b[0m\u001b[0;34m\u001b[0m\u001b[0m\n\u001b[0;32m--> 494\u001b[0;31m             \u001b[0mresult\u001b[0m \u001b[0;34m=\u001b[0m \u001b[0mfunc\u001b[0m\u001b[0;34m(\u001b[0m\u001b[0;34m*\u001b[0m\u001b[0margs\u001b[0m\u001b[0;34m)\u001b[0m\u001b[0;34m\u001b[0m\u001b[0;34m\u001b[0m\u001b[0m\n\u001b[0m\u001b[1;32m    495\u001b[0m             \u001b[0;32mif\u001b[0m \u001b[0mresult\u001b[0m \u001b[0;32mis\u001b[0m \u001b[0;32mnot\u001b[0m \u001b[0;32mNone\u001b[0m\u001b[0;34m:\u001b[0m\u001b[0;34m\u001b[0m\u001b[0;34m\u001b[0m\u001b[0m\n\u001b[1;32m    496\u001b[0m                 \u001b[0;32mreturn\u001b[0m \u001b[0mresult\u001b[0m\u001b[0;34m\u001b[0m\u001b[0;34m\u001b[0m\u001b[0m\n",
      "\u001b[0;32m~/opt/anaconda3/lib/python3.9/urllib/request.py\u001b[0m in \u001b[0;36mhttp_error_default\u001b[0;34m(self, req, fp, code, msg, hdrs)\u001b[0m\n\u001b[1;32m    639\u001b[0m \u001b[0;32mclass\u001b[0m \u001b[0mHTTPDefaultErrorHandler\u001b[0m\u001b[0;34m(\u001b[0m\u001b[0mBaseHandler\u001b[0m\u001b[0;34m)\u001b[0m\u001b[0;34m:\u001b[0m\u001b[0;34m\u001b[0m\u001b[0;34m\u001b[0m\u001b[0m\n\u001b[1;32m    640\u001b[0m     \u001b[0;32mdef\u001b[0m \u001b[0mhttp_error_default\u001b[0m\u001b[0;34m(\u001b[0m\u001b[0mself\u001b[0m\u001b[0;34m,\u001b[0m \u001b[0mreq\u001b[0m\u001b[0;34m,\u001b[0m \u001b[0mfp\u001b[0m\u001b[0;34m,\u001b[0m \u001b[0mcode\u001b[0m\u001b[0;34m,\u001b[0m \u001b[0mmsg\u001b[0m\u001b[0;34m,\u001b[0m \u001b[0mhdrs\u001b[0m\u001b[0;34m)\u001b[0m\u001b[0;34m:\u001b[0m\u001b[0;34m\u001b[0m\u001b[0;34m\u001b[0m\u001b[0m\n\u001b[0;32m--> 641\u001b[0;31m         \u001b[0;32mraise\u001b[0m \u001b[0mHTTPError\u001b[0m\u001b[0;34m(\u001b[0m\u001b[0mreq\u001b[0m\u001b[0;34m.\u001b[0m\u001b[0mfull_url\u001b[0m\u001b[0;34m,\u001b[0m \u001b[0mcode\u001b[0m\u001b[0;34m,\u001b[0m \u001b[0mmsg\u001b[0m\u001b[0;34m,\u001b[0m \u001b[0mhdrs\u001b[0m\u001b[0;34m,\u001b[0m \u001b[0mfp\u001b[0m\u001b[0;34m)\u001b[0m\u001b[0;34m\u001b[0m\u001b[0;34m\u001b[0m\u001b[0m\n\u001b[0m\u001b[1;32m    642\u001b[0m \u001b[0;34m\u001b[0m\u001b[0m\n\u001b[1;32m    643\u001b[0m \u001b[0;32mclass\u001b[0m \u001b[0mHTTPRedirectHandler\u001b[0m\u001b[0;34m(\u001b[0m\u001b[0mBaseHandler\u001b[0m\u001b[0;34m)\u001b[0m\u001b[0;34m:\u001b[0m\u001b[0;34m\u001b[0m\u001b[0;34m\u001b[0m\u001b[0m\n",
      "\u001b[0;31mHTTPError\u001b[0m: HTTP Error 401: Unauthorized"
     ]
    }
   ],
   "source": [
    "response = requests.get(link_to_bill, params=params)"
   ]
  },
  {
   "cell_type": "code",
   "execution_count": null,
   "id": "58b36c12-605b-4f76-9325-a20ae01506e1",
   "metadata": {},
   "outputs": [],
   "source": [
    "#Try reading the response using pandas"
   ]
  },
  {
   "cell_type": "code",
   "execution_count": 62,
   "id": "f30abc2f-be0c-4b30-a451-be33d8f86463",
   "metadata": {},
   "outputs": [
    {
     "ename": "ValueError",
     "evalue": "No tables found",
     "output_type": "error",
     "traceback": [
      "\u001b[0;31m---------------------------------------------------------------------------\u001b[0m",
      "\u001b[0;31mValueError\u001b[0m                                Traceback (most recent call last)",
      "\u001b[0;32m/var/folders/sg/9h_lqlfd6bgb63_prv2nr4mm0000gn/T/ipykernel_5083/675144859.py\u001b[0m in \u001b[0;36m<module>\u001b[0;34m\u001b[0m\n\u001b[0;32m----> 1\u001b[0;31m \u001b[0mpd\u001b[0m\u001b[0;34m.\u001b[0m\u001b[0mread_html\u001b[0m\u001b[0;34m(\u001b[0m\u001b[0mresponse\u001b[0m\u001b[0;34m.\u001b[0m\u001b[0mtext\u001b[0m\u001b[0;34m)\u001b[0m\u001b[0;34m\u001b[0m\u001b[0;34m\u001b[0m\u001b[0m\n\u001b[0m",
      "\u001b[0;32m~/opt/anaconda3/lib/python3.9/site-packages/pandas/util/_decorators.py\u001b[0m in \u001b[0;36mwrapper\u001b[0;34m(*args, **kwargs)\u001b[0m\n\u001b[1;32m    309\u001b[0m                     \u001b[0mstacklevel\u001b[0m\u001b[0;34m=\u001b[0m\u001b[0mstacklevel\u001b[0m\u001b[0;34m,\u001b[0m\u001b[0;34m\u001b[0m\u001b[0;34m\u001b[0m\u001b[0m\n\u001b[1;32m    310\u001b[0m                 )\n\u001b[0;32m--> 311\u001b[0;31m             \u001b[0;32mreturn\u001b[0m \u001b[0mfunc\u001b[0m\u001b[0;34m(\u001b[0m\u001b[0;34m*\u001b[0m\u001b[0margs\u001b[0m\u001b[0;34m,\u001b[0m \u001b[0;34m**\u001b[0m\u001b[0mkwargs\u001b[0m\u001b[0;34m)\u001b[0m\u001b[0;34m\u001b[0m\u001b[0;34m\u001b[0m\u001b[0m\n\u001b[0m\u001b[1;32m    312\u001b[0m \u001b[0;34m\u001b[0m\u001b[0m\n\u001b[1;32m    313\u001b[0m         \u001b[0;32mreturn\u001b[0m \u001b[0mwrapper\u001b[0m\u001b[0;34m\u001b[0m\u001b[0;34m\u001b[0m\u001b[0m\n",
      "\u001b[0;32m~/opt/anaconda3/lib/python3.9/site-packages/pandas/io/html.py\u001b[0m in \u001b[0;36mread_html\u001b[0;34m(io, match, flavor, header, index_col, skiprows, attrs, parse_dates, thousands, encoding, decimal, converters, na_values, keep_default_na, displayed_only)\u001b[0m\n\u001b[1;32m   1111\u001b[0m     \u001b[0mio\u001b[0m \u001b[0;34m=\u001b[0m \u001b[0mstringify_path\u001b[0m\u001b[0;34m(\u001b[0m\u001b[0mio\u001b[0m\u001b[0;34m)\u001b[0m\u001b[0;34m\u001b[0m\u001b[0;34m\u001b[0m\u001b[0m\n\u001b[1;32m   1112\u001b[0m \u001b[0;34m\u001b[0m\u001b[0m\n\u001b[0;32m-> 1113\u001b[0;31m     return _parse(\n\u001b[0m\u001b[1;32m   1114\u001b[0m         \u001b[0mflavor\u001b[0m\u001b[0;34m=\u001b[0m\u001b[0mflavor\u001b[0m\u001b[0;34m,\u001b[0m\u001b[0;34m\u001b[0m\u001b[0;34m\u001b[0m\u001b[0m\n\u001b[1;32m   1115\u001b[0m         \u001b[0mio\u001b[0m\u001b[0;34m=\u001b[0m\u001b[0mio\u001b[0m\u001b[0;34m,\u001b[0m\u001b[0;34m\u001b[0m\u001b[0;34m\u001b[0m\u001b[0m\n",
      "\u001b[0;32m~/opt/anaconda3/lib/python3.9/site-packages/pandas/io/html.py\u001b[0m in \u001b[0;36m_parse\u001b[0;34m(flavor, io, match, attrs, encoding, displayed_only, **kwargs)\u001b[0m\n\u001b[1;32m    937\u001b[0m     \u001b[0;32melse\u001b[0m\u001b[0;34m:\u001b[0m\u001b[0;34m\u001b[0m\u001b[0;34m\u001b[0m\u001b[0m\n\u001b[1;32m    938\u001b[0m         \u001b[0;32massert\u001b[0m \u001b[0mretained\u001b[0m \u001b[0;32mis\u001b[0m \u001b[0;32mnot\u001b[0m \u001b[0;32mNone\u001b[0m  \u001b[0;31m# for mypy\u001b[0m\u001b[0;34m\u001b[0m\u001b[0;34m\u001b[0m\u001b[0m\n\u001b[0;32m--> 939\u001b[0;31m         \u001b[0;32mraise\u001b[0m \u001b[0mretained\u001b[0m\u001b[0;34m\u001b[0m\u001b[0;34m\u001b[0m\u001b[0m\n\u001b[0m\u001b[1;32m    940\u001b[0m \u001b[0;34m\u001b[0m\u001b[0m\n\u001b[1;32m    941\u001b[0m     \u001b[0mret\u001b[0m \u001b[0;34m=\u001b[0m \u001b[0;34m[\u001b[0m\u001b[0;34m]\u001b[0m\u001b[0;34m\u001b[0m\u001b[0;34m\u001b[0m\u001b[0m\n",
      "\u001b[0;32m~/opt/anaconda3/lib/python3.9/site-packages/pandas/io/html.py\u001b[0m in \u001b[0;36m_parse\u001b[0;34m(flavor, io, match, attrs, encoding, displayed_only, **kwargs)\u001b[0m\n\u001b[1;32m    917\u001b[0m \u001b[0;34m\u001b[0m\u001b[0m\n\u001b[1;32m    918\u001b[0m         \u001b[0;32mtry\u001b[0m\u001b[0;34m:\u001b[0m\u001b[0;34m\u001b[0m\u001b[0;34m\u001b[0m\u001b[0m\n\u001b[0;32m--> 919\u001b[0;31m             \u001b[0mtables\u001b[0m \u001b[0;34m=\u001b[0m \u001b[0mp\u001b[0m\u001b[0;34m.\u001b[0m\u001b[0mparse_tables\u001b[0m\u001b[0;34m(\u001b[0m\u001b[0;34m)\u001b[0m\u001b[0;34m\u001b[0m\u001b[0;34m\u001b[0m\u001b[0m\n\u001b[0m\u001b[1;32m    920\u001b[0m         \u001b[0;32mexcept\u001b[0m \u001b[0mValueError\u001b[0m \u001b[0;32mas\u001b[0m \u001b[0mcaught\u001b[0m\u001b[0;34m:\u001b[0m\u001b[0;34m\u001b[0m\u001b[0;34m\u001b[0m\u001b[0m\n\u001b[1;32m    921\u001b[0m             \u001b[0;31m# if `io` is an io-like object, check if it's seekable\u001b[0m\u001b[0;34m\u001b[0m\u001b[0;34m\u001b[0m\u001b[0m\n",
      "\u001b[0;32m~/opt/anaconda3/lib/python3.9/site-packages/pandas/io/html.py\u001b[0m in \u001b[0;36mparse_tables\u001b[0;34m(self)\u001b[0m\n\u001b[1;32m    237\u001b[0m         \u001b[0mlist\u001b[0m \u001b[0mof\u001b[0m \u001b[0mparsed\u001b[0m \u001b[0;34m(\u001b[0m\u001b[0mheader\u001b[0m\u001b[0;34m,\u001b[0m \u001b[0mbody\u001b[0m\u001b[0;34m,\u001b[0m \u001b[0mfooter\u001b[0m\u001b[0;34m)\u001b[0m \u001b[0mtuples\u001b[0m \u001b[0;32mfrom\u001b[0m \u001b[0mtables\u001b[0m\u001b[0;34m.\u001b[0m\u001b[0;34m\u001b[0m\u001b[0;34m\u001b[0m\u001b[0m\n\u001b[1;32m    238\u001b[0m         \"\"\"\n\u001b[0;32m--> 239\u001b[0;31m         \u001b[0mtables\u001b[0m \u001b[0;34m=\u001b[0m \u001b[0mself\u001b[0m\u001b[0;34m.\u001b[0m\u001b[0m_parse_tables\u001b[0m\u001b[0;34m(\u001b[0m\u001b[0mself\u001b[0m\u001b[0;34m.\u001b[0m\u001b[0m_build_doc\u001b[0m\u001b[0;34m(\u001b[0m\u001b[0;34m)\u001b[0m\u001b[0;34m,\u001b[0m \u001b[0mself\u001b[0m\u001b[0;34m.\u001b[0m\u001b[0mmatch\u001b[0m\u001b[0;34m,\u001b[0m \u001b[0mself\u001b[0m\u001b[0;34m.\u001b[0m\u001b[0mattrs\u001b[0m\u001b[0;34m)\u001b[0m\u001b[0;34m\u001b[0m\u001b[0;34m\u001b[0m\u001b[0m\n\u001b[0m\u001b[1;32m    240\u001b[0m         \u001b[0;32mreturn\u001b[0m \u001b[0;34m(\u001b[0m\u001b[0mself\u001b[0m\u001b[0;34m.\u001b[0m\u001b[0m_parse_thead_tbody_tfoot\u001b[0m\u001b[0;34m(\u001b[0m\u001b[0mtable\u001b[0m\u001b[0;34m)\u001b[0m \u001b[0;32mfor\u001b[0m \u001b[0mtable\u001b[0m \u001b[0;32min\u001b[0m \u001b[0mtables\u001b[0m\u001b[0;34m)\u001b[0m\u001b[0;34m\u001b[0m\u001b[0;34m\u001b[0m\u001b[0m\n\u001b[1;32m    241\u001b[0m \u001b[0;34m\u001b[0m\u001b[0m\n",
      "\u001b[0;32m~/opt/anaconda3/lib/python3.9/site-packages/pandas/io/html.py\u001b[0m in \u001b[0;36m_parse_tables\u001b[0;34m(self, doc, match, attrs)\u001b[0m\n\u001b[1;32m    567\u001b[0m \u001b[0;34m\u001b[0m\u001b[0m\n\u001b[1;32m    568\u001b[0m         \u001b[0;32mif\u001b[0m \u001b[0;32mnot\u001b[0m \u001b[0mtables\u001b[0m\u001b[0;34m:\u001b[0m\u001b[0;34m\u001b[0m\u001b[0;34m\u001b[0m\u001b[0m\n\u001b[0;32m--> 569\u001b[0;31m             \u001b[0;32mraise\u001b[0m \u001b[0mValueError\u001b[0m\u001b[0;34m(\u001b[0m\u001b[0;34m\"No tables found\"\u001b[0m\u001b[0;34m)\u001b[0m\u001b[0;34m\u001b[0m\u001b[0;34m\u001b[0m\u001b[0m\n\u001b[0m\u001b[1;32m    570\u001b[0m \u001b[0;34m\u001b[0m\u001b[0m\n\u001b[1;32m    571\u001b[0m         \u001b[0mresult\u001b[0m \u001b[0;34m=\u001b[0m \u001b[0;34m[\u001b[0m\u001b[0;34m]\u001b[0m\u001b[0;34m\u001b[0m\u001b[0;34m\u001b[0m\u001b[0m\n",
      "\u001b[0;31mValueError\u001b[0m: No tables found"
     ]
    }
   ],
   "source": [
    "pd.read_html(response.text)"
   ]
  },
  {
   "cell_type": "code",
   "execution_count": 26,
   "id": "d3056fdc-0205-4518-b283-2db3b8273a3c",
   "metadata": {},
   "outputs": [],
   "source": [
    "# Make a soup variable holding the response content\n",
    "soup = BeautifulSoup(response.text, 'html.parser')"
   ]
  },
  {
   "cell_type": "code",
   "execution_count": 33,
   "id": "a1d857cd-a1c3-4040-9982-13eed958427c",
   "metadata": {},
   "outputs": [],
   "source": [
    "text_of_bill = soup.select('body')"
   ]
  },
  {
   "cell_type": "code",
   "execution_count": 38,
   "id": "013a3b6f-7439-45b2-8f80-d2c87c6ef14b",
   "metadata": {},
   "outputs": [],
   "source": [
    "pd.Series(text_of_bill).to_csv(\"testy_test_test.csv\")"
   ]
  },
  {
   "cell_type": "code",
   "execution_count": 39,
   "id": "bfcad65e-e961-44a9-8c5d-fda9e5e69c3a",
   "metadata": {},
   "outputs": [],
   "source": [
    "tests = pd.read_csv(\"testy_test_test.csv\")"
   ]
  },
  {
   "cell_type": "code",
   "execution_count": 44,
   "id": "241d7c9a-0671-48f2-8c4e-bf1174435201",
   "metadata": {},
   "outputs": [
    {
     "data": {
      "text/plain": [
       "50"
      ]
     },
     "execution_count": 44,
     "metadata": {},
     "output_type": "execute_result"
    }
   ],
   "source": [
    "pd.options.display.max_colwidth"
   ]
  },
  {
   "cell_type": "code",
   "execution_count": 54,
   "id": "fceebe57-5f15-41ed-8794-187d4dcb4a03",
   "metadata": {},
   "outputs": [
    {
     "data": {
      "text/plain": [
       "\"<body><pre>\\n[Congressional Bills 116th Congress]\\n[From the U.S. Government Publishing Office]\\n[H.R. 5273 Reported in House (RH)]\\n\\n&lt;DOC&gt;\\n\\n\\n\\n\\n\\n                                                 Union Calendar No. 317\\n116th CONGRESS\\n  2d Session\\n                                H. R. 5273\\n\\n                          [Report No. 116-394]\\n\\n  To require the Secretary of Homeland Security to develop a plan to \\n    increase to 100 percent the rates of scanning of commercial and \\n passenger vehicles entering the United States at land ports of entry \\nalong the border using large-scale non-intrusive inspection systems to \\n            enhance border security, and for other purposes.\\n\\n\\n_______________________________________________________________________\\n\\n\\n                    IN THE HOUSE OF REPRESENTATIVES\\n\\n                           November 26, 2019\\n\\n     Ms. Torres Small of New Mexico (for herself and Mr. Crenshaw) \\n introduced the following bill; which was referred to the Committee on \\n                           Homeland Security\\n\\n                            February 6, 2020\\n\\nAdditional sponsors: Ms. Slotkin, Mr. Harder of California, Mr. Amodei, \\n     Mr. Gonzalez of Texas, Miss Rice of New York, Mr. Correa, Ms. \\n                       Spanberger, and Mrs. Lesko\\n\\n                            February 6, 2020\\n\\n  Reported with an amendment, committed to the Committee of the Whole \\n       House on the State of the Union, and ordered to be printed\\n [Strike out all after the enacting clause and insert the part printed \\n                               in italic]\\n    [For text of introduced bill, see copy of bill as introduced on \\n                           November 26, 2019]\\n\\n\\n_______________________________________________________________________\\n\\n                                 A BILL\\n\\n\\n \\n  To require the Secretary of Homeland Security to develop a plan to \\n    increase to 100 percent the rates of scanning of commercial and \\n passenger vehicles entering the United States at land ports of entry \\nalong the border using large-scale non-intrusive inspection systems to \\n            enhance border security, and for other purposes.\\n\\n\\n \\n\\n\\n    Be it enacted by the Senate and House of Representatives of the \\nUnited States of America in Congress assembled,\\n\\nSECTION 1. SHORT TITLE.\\n\\n    This Act may be cited as the ``Securing America's Ports Act''.\\n\\nSEC. 2. LARGE-SCALE NON-INTRUSIVE INSPECTION SCANNING PLAN.\\n\\n    (a) In General.--Not later than 180 days after the date of the \\nenactment of this Act, the Secretary of Homeland Security shall submit \\nto the Committee on Homeland Security of the House of Representatives \\nand the Committee on Homeland Security and Governmental Affairs of the \\nSenate a plan to increase to 100 percent the rates of expeditious \\nscanning of commercial and passenger vehicles entering the United \\nStates at land ports of entry along the border using large-scale non-\\nintrusive inspection systems or similar technology to enhance border \\nsecurity.\\n    (b) Baseline Information.--At a minimum, the plan required under \\nsubsection (a) shall include the following information regarding large-\\nscale non-intrusive inspection systems or similar technology operated \\nby U.S. Customs and Border Protection at land ports of entry as of the \\ndate of the enactment of this Act:\\n            (1) An inventory of large-scale non-intrusive inspection \\n        systems or similar technology in use at each land port of \\n        entry.\\n            (2) For each system or technology identified in the \\n        inventory required under paragraph (1), the following \\n        information:\\n                    (A) The scanning method of such system or \\n                technology.\\n                    (B) The location of such system or technology at \\n                each land port of entry that specifies whether in use \\n                in pre-primary, primary, or secondary inspection area, \\n                or some combination thereof.\\n                    (C) The percentage of commercial and passenger \\n                vehicles scanned by such system or technology.\\n                    (D) Seizure data directly attributed to scanned \\n                commercial and passenger vehicles.\\n    (c) Elements.--The plan required under subsection (a) shall include \\nthe following information:\\n            (1) Benchmarks for achieving incremental progress towards \\n        100 percent expeditious scanning of commercial and passenger \\n        vehicles entering the United States at land ports of entry \\n        along the border with corresponding projected incremental \\n        improvements in scanning rates by fiscal year and rationales \\n        for the specified timeframes for each land port of entry.\\n            (2) Estimated costs, together with an acquisition plan, for \\n        achieving the 100 expeditious percent scanning rate within the \\n        timeframes specified in paragraph (1), including acquisition, \\n        operations, and maintenance costs for large-scale non-intrusive \\n        inspection systems or similar technology, as well as associated \\n        costs for any necessary infrastructure enhancements or \\n        configuration changes at each port of entry. To the extent \\n        practicable, such acquisition plan shall promote opportunities \\n        for entities that qualify as small business concerns (as such \\n        term is described under section 3 of the Small Business Act (15 \\n        U.S.C. 632).\\n            (3) Any projected impacts, as identified by the \\n        Commissioner of U.S. Customs and Border Protection, on the \\n        total number of commercial and passenger vehicles entering at \\n        land ports of entry where such systems are in use, and average \\n        wait times at peak and non-peak travel times, by lane type if \\n        applicable, as scanning rates are increased.\\n            (4) Any projected impacts, as identified by the \\n        Commissioner of U.S. Customs and Border Protection, on land \\n        ports of entry border security operations as a result of \\n        implementation actions, including any changes to the number of \\n        U.S. Customs and Border Protection officers or their duties and \\n        assignments.\\n    (d) Research and Development.--In furtherance of the plan required \\nunder subsection (a), the Secretary of Homeland Security, acting \\nthrough the Under Secretary for Science and Technology, shall conduct \\nresearch and development, in coordination with the Commissioner of U.S. \\nCustoms and Border Protection, to enhance large-scale non-intrusive \\ninspections systems or similar technology and refine the operational \\nuse or configuration of such systems or technology in pre-primary, \\nprimary, and secondary inspection areas of land ports of entry. Such \\nresearch and development shall include consideration of emerging large-\\nscale non-intrusive inspection systems or similar technology and \\nmodeling the use of such systems or technology that takes into account \\nthe variations in infrastructure, configurations, and sizes of land \\nports of entry.\\n    (e) Annual Report.--Not later than one year after the submission of \\nthe plan required under subsection (a) and annually thereafter until \\nsuch time as U.S. Customs and Border Protection has achieved 100 \\npercent expeditious scanning of commercial and passenger vehicles \\nentering the United States at land ports of entry along the border \\nusing large-scale non-intrusive inspection systems or similar \\ntechnology in accordance with such plan, the Secretary of Homeland \\nSecurity shall report to the Committee on Homeland Security of the \\nHouse of Representatives and the Committee on Homeland Security and \\nGovernmental Affairs of the Senate on progress implementing the plan. \\nEach such report at a minimum shall include the following information:\\n            (1) An inventory of large-scale non-intrusive inspection \\n        systems or similar technology operated by U.S. Customs and \\n        Border Protection at each land port of entry.\\n            (2) For each system or technology identified in the \\n        inventory required under paragraph (1), the following \\n        information:\\n                    (A) The scanning method of such system or \\n                technology.\\n                    (B) The location of such system or technology at \\n                each land port of entry that specifies whether in use \\n                in pre-primary, primary, or secondary inspection area, \\n                or some combination thereof.\\n                    (C) The percentage of commercial and passenger \\n                vehicles scanned by such system or technology.\\n                    (D) Seizure data directly attributed to scanned \\n                commercial and passenger vehicles.\\n            (3) The total number of commercial and passenger vehicles \\n        entering at each land port of entry where each system or \\n        technology is in use, and information on average wait times at \\n        peak and non-peak travel times, by lane type if applicable.\\n            (4) Progress with respect to the benchmarks specified in \\n        subsection (c)(1), and an explanation if any of such benchmarks \\n        are not achieved as planned.\\n            (5) A comparison of actual costs (including information on \\n        any awards of associated contracts) to estimated costs set \\n        forth in subsection (c)(2).\\n            (6) Any realized impacts, as identified by the Commissioner \\n        of U.S. Customs and Border Protection, on land ports of entry \\n        operations as a result of implementation actions, including any \\n        changes to the number of U.S. Customs and Border Protection \\n        officers or their duties and assignments.\\n            (7) Any proposed changes to the plan and an explanation for \\n        such changes, including changes made in response to any \\n        Department of Homeland Security research and development \\n        findings, including findings resulting from the research and \\n        development conducted pursuant to subsection (d), or changes in \\n        terrorist or transnational criminal organizations tactics, \\n        techniques, or procedures.\\n            (8) Any challenges to implementing the plan or meeting the \\n        benchmarks, and plans to mitigate any such challenges.\\n    (f) Definitions.--In this section:\\n            (1) Large-scale non-intrusive inspection system.--The term \\n        ``large-scale non-intrusive inspection system'' means a \\n        technology, including x-ray and gamma-ray imaging systems, \\n        capable of producing an image of the contents of a commercial \\n        or passenger vehicle in one pass of such vehicle.\\n            (2) Scanning.--The term ``scanning'' means utilizing \\n        technology to produce an image of the contents of a commercial \\n        or passenger vehicle without engaging in a physical inspection \\n        of such vehicle.\\n                                                 Union Calendar No. 317\\n\\n116th CONGRESS\\n\\n  2d Session\\n\\n                               H. R. 5273\\n\\n                          [Report No. 116-394]\\n\\n_______________________________________________________________________\\n\\n                                 A BILL\\n\\n  To require the Secretary of Homeland Security to develop a plan to \\n    increase to 100 percent the rates of scanning of commercial and \\n passenger vehicles entering the United States at land ports of entry \\nalong the border using large-scale non-intrusive inspection systems to \\n            enhance border security, and for other purposes.\\n\\n_______________________________________________________________________\\n\\n                            February 6, 2020\\n\\n  Reported with an amendment, committed to the Committee of the Whole \\n       House on the State of the Union, and ordered to be printed\\n</pre></body>\""
      ]
     },
     "execution_count": 54,
     "metadata": {},
     "output_type": "execute_result"
    }
   ],
   "source": [
    "tests['0'][0]"
   ]
  },
  {
   "cell_type": "code",
   "execution_count": null,
   "id": "83b86a88-c13f-46e6-93dd-4aafeac6ea3d",
   "metadata": {},
   "outputs": [],
   "source": []
  },
  {
   "cell_type": "code",
   "execution_count": 52,
   "id": "fd3ad5c1-aff9-4583-b1f6-24e11d6d508e",
   "metadata": {},
   "outputs": [
    {
     "data": {
      "text/html": [
       "<div>\n",
       "<style scoped>\n",
       "    .dataframe tbody tr th:only-of-type {\n",
       "        vertical-align: middle;\n",
       "    }\n",
       "\n",
       "    .dataframe tbody tr th {\n",
       "        vertical-align: top;\n",
       "    }\n",
       "\n",
       "    .dataframe thead th {\n",
       "        text-align: right;\n",
       "    }\n",
       "</style>\n",
       "<table border=\"1\" class=\"dataframe\">\n",
       "  <thead>\n",
       "    <tr style=\"text-align: right;\">\n",
       "      <th></th>\n",
       "      <th>Unnamed: 0</th>\n",
       "      <th>0</th>\n",
       "    </tr>\n",
       "  </thead>\n",
       "  <tbody>\n",
       "    <tr>\n",
       "      <th>0</th>\n",
       "      <td>0</td>\n",
       "      <td>&lt;body&gt;&lt;pre&gt;\\n[Congressional Bills 116th Congre...</td>\n",
       "    </tr>\n",
       "  </tbody>\n",
       "</table>\n",
       "</div>"
      ],
      "text/plain": [
       "   Unnamed: 0                                                  0\n",
       "0           0  <body><pre>\\n[Congressional Bills 116th Congre..."
      ]
     },
     "execution_count": 52,
     "metadata": {},
     "output_type": "execute_result"
    }
   ],
   "source": [
    "tests.head()"
   ]
  },
  {
   "cell_type": "code",
   "execution_count": 50,
   "id": "2e57bc5a-8e33-4b70-9cfc-12287bc4a976",
   "metadata": {
    "collapsed": true,
    "jupyter": {
     "outputs_hidden": true
    },
    "tags": []
   },
   "outputs": [
    {
     "name": "stdout",
     "output_type": "stream",
     "text": [
      "[<body><pre>\n",
      "[Congressional Bills 116th Congress]\n",
      "[From the U.S. Government Publishing Office]\n",
      "[H.R. 5273 Reported in House (RH)]\n",
      "\n",
      "&lt;DOC&gt;\n",
      "\n",
      "\n",
      "\n",
      "\n",
      "\n",
      "                                                 Union Calendar No. 317\n",
      "116th CONGRESS\n",
      "  2d Session\n",
      "                                H. R. 5273\n",
      "\n",
      "                          [Report No. 116-394]\n",
      "\n",
      "  To require the Secretary of Homeland Security to develop a plan to \n",
      "    increase to 100 percent the rates of scanning of commercial and \n",
      " passenger vehicles entering the United States at land ports of entry \n",
      "along the border using large-scale non-intrusive inspection systems to \n",
      "            enhance border security, and for other purposes.\n",
      "\n",
      "\n",
      "_______________________________________________________________________\n",
      "\n",
      "\n",
      "                    IN THE HOUSE OF REPRESENTATIVES\n",
      "\n",
      "                           November 26, 2019\n",
      "\n",
      "     Ms. Torres Small of New Mexico (for herself and Mr. Crenshaw) \n",
      " introduced the following bill; which was referred to the Committee on \n",
      "                           Homeland Security\n",
      "\n",
      "                            February 6, 2020\n",
      "\n",
      "Additional sponsors: Ms. Slotkin, Mr. Harder of California, Mr. Amodei, \n",
      "     Mr. Gonzalez of Texas, Miss Rice of New York, Mr. Correa, Ms. \n",
      "                       Spanberger, and Mrs. Lesko\n",
      "\n",
      "                            February 6, 2020\n",
      "\n",
      "  Reported with an amendment, committed to the Committee of the Whole \n",
      "       House on the State of the Union, and ordered to be printed\n",
      " [Strike out all after the enacting clause and insert the part printed \n",
      "                               in italic]\n",
      "    [For text of introduced bill, see copy of bill as introduced on \n",
      "                           November 26, 2019]\n",
      "\n",
      "\n",
      "_______________________________________________________________________\n",
      "\n",
      "                                 A BILL\n",
      "\n",
      "\n",
      " \n",
      "  To require the Secretary of Homeland Security to develop a plan to \n",
      "    increase to 100 percent the rates of scanning of commercial and \n",
      " passenger vehicles entering the United States at land ports of entry \n",
      "along the border using large-scale non-intrusive inspection systems to \n",
      "            enhance border security, and for other purposes.\n",
      "\n",
      "\n",
      " \n",
      "\n",
      "\n",
      "    Be it enacted by the Senate and House of Representatives of the \n",
      "United States of America in Congress assembled,\n",
      "\n",
      "SECTION 1. SHORT TITLE.\n",
      "\n",
      "    This Act may be cited as the ``Securing America's Ports Act''.\n",
      "\n",
      "SEC. 2. LARGE-SCALE NON-INTRUSIVE INSPECTION SCANNING PLAN.\n",
      "\n",
      "    (a) In General.--Not later than 180 days after the date of the \n",
      "enactment of this Act, the Secretary of Homeland Security shall submit \n",
      "to the Committee on Homeland Security of the House of Representatives \n",
      "and the Committee on Homeland Security and Governmental Affairs of the \n",
      "Senate a plan to increase to 100 percent the rates of expeditious \n",
      "scanning of commercial and passenger vehicles entering the United \n",
      "States at land ports of entry along the border using large-scale non-\n",
      "intrusive inspection systems or similar technology to enhance border \n",
      "security.\n",
      "    (b) Baseline Information.--At a minimum, the plan required under \n",
      "subsection (a) shall include the following information regarding large-\n",
      "scale non-intrusive inspection systems or similar technology operated \n",
      "by U.S. Customs and Border Protection at land ports of entry as of the \n",
      "date of the enactment of this Act:\n",
      "            (1) An inventory of large-scale non-intrusive inspection \n",
      "        systems or similar technology in use at each land port of \n",
      "        entry.\n",
      "            (2) For each system or technology identified in the \n",
      "        inventory required under paragraph (1), the following \n",
      "        information:\n",
      "                    (A) The scanning method of such system or \n",
      "                technology.\n",
      "                    (B) The location of such system or technology at \n",
      "                each land port of entry that specifies whether in use \n",
      "                in pre-primary, primary, or secondary inspection area, \n",
      "                or some combination thereof.\n",
      "                    (C) The percentage of commercial and passenger \n",
      "                vehicles scanned by such system or technology.\n",
      "                    (D) Seizure data directly attributed to scanned \n",
      "                commercial and passenger vehicles.\n",
      "    (c) Elements.--The plan required under subsection (a) shall include \n",
      "the following information:\n",
      "            (1) Benchmarks for achieving incremental progress towards \n",
      "        100 percent expeditious scanning of commercial and passenger \n",
      "        vehicles entering the United States at land ports of entry \n",
      "        along the border with corresponding projected incremental \n",
      "        improvements in scanning rates by fiscal year and rationales \n",
      "        for the specified timeframes for each land port of entry.\n",
      "            (2) Estimated costs, together with an acquisition plan, for \n",
      "        achieving the 100 expeditious percent scanning rate within the \n",
      "        timeframes specified in paragraph (1), including acquisition, \n",
      "        operations, and maintenance costs for large-scale non-intrusive \n",
      "        inspection systems or similar technology, as well as associated \n",
      "        costs for any necessary infrastructure enhancements or \n",
      "        configuration changes at each port of entry. To the extent \n",
      "        practicable, such acquisition plan shall promote opportunities \n",
      "        for entities that qualify as small business concerns (as such \n",
      "        term is described under section 3 of the Small Business Act (15 \n",
      "        U.S.C. 632).\n",
      "            (3) Any projected impacts, as identified by the \n",
      "        Commissioner of U.S. Customs and Border Protection, on the \n",
      "        total number of commercial and passenger vehicles entering at \n",
      "        land ports of entry where such systems are in use, and average \n",
      "        wait times at peak and non-peak travel times, by lane type if \n",
      "        applicable, as scanning rates are increased.\n",
      "            (4) Any projected impacts, as identified by the \n",
      "        Commissioner of U.S. Customs and Border Protection, on land \n",
      "        ports of entry border security operations as a result of \n",
      "        implementation actions, including any changes to the number of \n",
      "        U.S. Customs and Border Protection officers or their duties and \n",
      "        assignments.\n",
      "    (d) Research and Development.--In furtherance of the plan required \n",
      "under subsection (a), the Secretary of Homeland Security, acting \n",
      "through the Under Secretary for Science and Technology, shall conduct \n",
      "research and development, in coordination with the Commissioner of U.S. \n",
      "Customs and Border Protection, to enhance large-scale non-intrusive \n",
      "inspections systems or similar technology and refine the operational \n",
      "use or configuration of such systems or technology in pre-primary, \n",
      "primary, and secondary inspection areas of land ports of entry. Such \n",
      "research and development shall include consideration of emerging large-\n",
      "scale non-intrusive inspection systems or similar technology and \n",
      "modeling the use of such systems or technology that takes into account \n",
      "the variations in infrastructure, configurations, and sizes of land \n",
      "ports of entry.\n",
      "    (e) Annual Report.--Not later than one year after the submission of \n",
      "the plan required under subsection (a) and annually thereafter until \n",
      "such time as U.S. Customs and Border Protection has achieved 100 \n",
      "percent expeditious scanning of commercial and passenger vehicles \n",
      "entering the United States at land ports of entry along the border \n",
      "using large-scale non-intrusive inspection systems or similar \n",
      "technology in accordance with such plan, the Secretary of Homeland \n",
      "Security shall report to the Committee on Homeland Security of the \n",
      "House of Representatives and the Committee on Homeland Security and \n",
      "Governmental Affairs of the Senate on progress implementing the plan. \n",
      "Each such report at a minimum shall include the following information:\n",
      "            (1) An inventory of large-scale non-intrusive inspection \n",
      "        systems or similar technology operated by U.S. Customs and \n",
      "        Border Protection at each land port of entry.\n",
      "            (2) For each system or technology identified in the \n",
      "        inventory required under paragraph (1), the following \n",
      "        information:\n",
      "                    (A) The scanning method of such system or \n",
      "                technology.\n",
      "                    (B) The location of such system or technology at \n",
      "                each land port of entry that specifies whether in use \n",
      "                in pre-primary, primary, or secondary inspection area, \n",
      "                or some combination thereof.\n",
      "                    (C) The percentage of commercial and passenger \n",
      "                vehicles scanned by such system or technology.\n",
      "                    (D) Seizure data directly attributed to scanned \n",
      "                commercial and passenger vehicles.\n",
      "            (3) The total number of commercial and passenger vehicles \n",
      "        entering at each land port of entry where each system or \n",
      "        technology is in use, and information on average wait times at \n",
      "        peak and non-peak travel times, by lane type if applicable.\n",
      "            (4) Progress with respect to the benchmarks specified in \n",
      "        subsection (c)(1), and an explanation if any of such benchmarks \n",
      "        are not achieved as planned.\n",
      "            (5) A comparison of actual costs (including information on \n",
      "        any awards of associated contracts) to estimated costs set \n",
      "        forth in subsection (c)(2).\n",
      "            (6) Any realized impacts, as identified by the Commissioner \n",
      "        of U.S. Customs and Border Protection, on land ports of entry \n",
      "        operations as a result of implementation actions, including any \n",
      "        changes to the number of U.S. Customs and Border Protection \n",
      "        officers or their duties and assignments.\n",
      "            (7) Any proposed changes to the plan and an explanation for \n",
      "        such changes, including changes made in response to any \n",
      "        Department of Homeland Security research and development \n",
      "        findings, including findings resulting from the research and \n",
      "        development conducted pursuant to subsection (d), or changes in \n",
      "        terrorist or transnational criminal organizations tactics, \n",
      "        techniques, or procedures.\n",
      "            (8) Any challenges to implementing the plan or meeting the \n",
      "        benchmarks, and plans to mitigate any such challenges.\n",
      "    (f) Definitions.--In this section:\n",
      "            (1) Large-scale non-intrusive inspection system.--The term \n",
      "        ``large-scale non-intrusive inspection system'' means a \n",
      "        technology, including x-ray and gamma-ray imaging systems, \n",
      "        capable of producing an image of the contents of a commercial \n",
      "        or passenger vehicle in one pass of such vehicle.\n",
      "            (2) Scanning.--The term ``scanning'' means utilizing \n",
      "        technology to produce an image of the contents of a commercial \n",
      "        or passenger vehicle without engaging in a physical inspection \n",
      "        of such vehicle.\n",
      "                                                 Union Calendar No. 317\n",
      "\n",
      "116th CONGRESS\n",
      "\n",
      "  2d Session\n",
      "\n",
      "                               H. R. 5273\n",
      "\n",
      "                          [Report No. 116-394]\n",
      "\n",
      "_______________________________________________________________________\n",
      "\n",
      "                                 A BILL\n",
      "\n",
      "  To require the Secretary of Homeland Security to develop a plan to \n",
      "    increase to 100 percent the rates of scanning of commercial and \n",
      " passenger vehicles entering the United States at land ports of entry \n",
      "along the border using large-scale non-intrusive inspection systems to \n",
      "            enhance border security, and for other purposes.\n",
      "\n",
      "_______________________________________________________________________\n",
      "\n",
      "                            February 6, 2020\n",
      "\n",
      "  Reported with an amendment, committed to the Committee of the Whole \n",
      "       House on the State of the Union, and ordered to be printed\n",
      "</pre></body>]\n"
     ]
    }
   ],
   "source": [
    "print(text_of_bill)"
   ]
  },
  {
   "cell_type": "code",
   "execution_count": 24,
   "id": "a6a04556-1315-4bef-b207-5cae618fdb49",
   "metadata": {
    "collapsed": true,
    "jupyter": {
     "outputs_hidden": true
    },
    "tags": []
   },
   "outputs": [
    {
     "data": {
      "text/plain": [
       "\"<html><body><pre>\\n[Congressional Bills 116th Congress]\\n[From the U.S. Government Publishing Office]\\n[H.R. 5273 Reported in House (RH)]\\n\\n&lt;DOC&gt;\\n\\n\\n\\n\\n\\n                                                 Union Calendar No. 317\\n116th CONGRESS\\n  2d Session\\n                                H. R. 5273\\n\\n                          [Report No. 116-394]\\n\\n  To require the Secretary of Homeland Security to develop a plan to \\n    increase to 100 percent the rates of scanning of commercial and \\n passenger vehicles entering the United States at land ports of entry \\nalong the border using large-scale non-intrusive inspection systems to \\n            enhance border security, and for other purposes.\\n\\n\\n_______________________________________________________________________\\n\\n\\n                    IN THE HOUSE OF REPRESENTATIVES\\n\\n                           November 26, 2019\\n\\n     Ms. Torres Small of New Mexico (for herself and Mr. Crenshaw) \\n introduced the following bill; which was referred to the Committee on \\n                           Homeland Security\\n\\n                            February 6, 2020\\n\\nAdditional sponsors: Ms. Slotkin, Mr. Harder of California, Mr. Amodei, \\n     Mr. Gonzalez of Texas, Miss Rice of New York, Mr. Correa, Ms. \\n                       Spanberger, and Mrs. Lesko\\n\\n                            February 6, 2020\\n\\n  Reported with an amendment, committed to the Committee of the Whole \\n       House on the State of the Union, and ordered to be printed\\n [Strike out all after the enacting clause and insert the part printed \\n                               in italic]\\n    [For text of introduced bill, see copy of bill as introduced on \\n                           November 26, 2019]\\n\\n\\n_______________________________________________________________________\\n\\n                                 A BILL\\n\\n\\n \\n  To require the Secretary of Homeland Security to develop a plan to \\n    increase to 100 percent the rates of scanning of commercial and \\n passenger vehicles entering the United States at land ports of entry \\nalong the border using large-scale non-intrusive inspection systems to \\n            enhance border security, and for other purposes.\\n\\n\\n \\n\\n\\n    Be it enacted by the Senate and House of Representatives of the \\nUnited States of America in Congress assembled,\\n\\nSECTION 1. SHORT TITLE.\\n\\n    This Act may be cited as the ``Securing America's Ports Act''.\\n\\nSEC. 2. LARGE-SCALE NON-INTRUSIVE INSPECTION SCANNING PLAN.\\n\\n    (a) In General.--Not later than 180 days after the date of the \\nenactment of this Act, the Secretary of Homeland Security shall submit \\nto the Committee on Homeland Security of the House of Representatives \\nand the Committee on Homeland Security and Governmental Affairs of the \\nSenate a plan to increase to 100 percent the rates of expeditious \\nscanning of commercial and passenger vehicles entering the United \\nStates at land ports of entry along the border using large-scale non-\\nintrusive inspection systems or similar technology to enhance border \\nsecurity.\\n    (b) Baseline Information.--At a minimum, the plan required under \\nsubsection (a) shall include the following information regarding large-\\nscale non-intrusive inspection systems or similar technology operated \\nby U.S. Customs and Border Protection at land ports of entry as of the \\ndate of the enactment of this Act:\\n            (1) An inventory of large-scale non-intrusive inspection \\n        systems or similar technology in use at each land port of \\n        entry.\\n            (2) For each system or technology identified in the \\n        inventory required under paragraph (1), the following \\n        information:\\n                    (A) The scanning method of such system or \\n                technology.\\n                    (B) The location of such system or technology at \\n                each land port of entry that specifies whether in use \\n                in pre-primary, primary, or secondary inspection area, \\n                or some combination thereof.\\n                    (C) The percentage of commercial and passenger \\n                vehicles scanned by such system or technology.\\n                    (D) Seizure data directly attributed to scanned \\n                commercial and passenger vehicles.\\n    (c) Elements.--The plan required under subsection (a) shall include \\nthe following information:\\n            (1) Benchmarks for achieving incremental progress towards \\n        100 percent expeditious scanning of commercial and passenger \\n        vehicles entering the United States at land ports of entry \\n        along the border with corresponding projected incremental \\n        improvements in scanning rates by fiscal year and rationales \\n        for the specified timeframes for each land port of entry.\\n            (2) Estimated costs, together with an acquisition plan, for \\n        achieving the 100 expeditious percent scanning rate within the \\n        timeframes specified in paragraph (1), including acquisition, \\n        operations, and maintenance costs for large-scale non-intrusive \\n        inspection systems or similar technology, as well as associated \\n        costs for any necessary infrastructure enhancements or \\n        configuration changes at each port of entry. To the extent \\n        practicable, such acquisition plan shall promote opportunities \\n        for entities that qualify as small business concerns (as such \\n        term is described under section 3 of the Small Business Act (15 \\n        U.S.C. 632).\\n            (3) Any projected impacts, as identified by the \\n        Commissioner of U.S. Customs and Border Protection, on the \\n        total number of commercial and passenger vehicles entering at \\n        land ports of entry where such systems are in use, and average \\n        wait times at peak and non-peak travel times, by lane type if \\n        applicable, as scanning rates are increased.\\n            (4) Any projected impacts, as identified by the \\n        Commissioner of U.S. Customs and Border Protection, on land \\n        ports of entry border security operations as a result of \\n        implementation actions, including any changes to the number of \\n        U.S. Customs and Border Protection officers or their duties and \\n        assignments.\\n    (d) Research and Development.--In furtherance of the plan required \\nunder subsection (a), the Secretary of Homeland Security, acting \\nthrough the Under Secretary for Science and Technology, shall conduct \\nresearch and development, in coordination with the Commissioner of U.S. \\nCustoms and Border Protection, to enhance large-scale non-intrusive \\ninspections systems or similar technology and refine the operational \\nuse or configuration of such systems or technology in pre-primary, \\nprimary, and secondary inspection areas of land ports of entry. Such \\nresearch and development shall include consideration of emerging large-\\nscale non-intrusive inspection systems or similar technology and \\nmodeling the use of such systems or technology that takes into account \\nthe variations in infrastructure, configurations, and sizes of land \\nports of entry.\\n    (e) Annual Report.--Not later than one year after the submission of \\nthe plan required under subsection (a) and annually thereafter until \\nsuch time as U.S. Customs and Border Protection has achieved 100 \\npercent expeditious scanning of commercial and passenger vehicles \\nentering the United States at land ports of entry along the border \\nusing large-scale non-intrusive inspection systems or similar \\ntechnology in accordance with such plan, the Secretary of Homeland \\nSecurity shall report to the Committee on Homeland Security of the \\nHouse of Representatives and the Committee on Homeland Security and \\nGovernmental Affairs of the Senate on progress implementing the plan. \\nEach such report at a minimum shall include the following information:\\n            (1) An inventory of large-scale non-intrusive inspection \\n        systems or similar technology operated by U.S. Customs and \\n        Border Protection at each land port of entry.\\n            (2) For each system or technology identified in the \\n        inventory required under paragraph (1), the following \\n        information:\\n                    (A) The scanning method of such system or \\n                technology.\\n                    (B) The location of such system or technology at \\n                each land port of entry that specifies whether in use \\n                in pre-primary, primary, or secondary inspection area, \\n                or some combination thereof.\\n                    (C) The percentage of commercial and passenger \\n                vehicles scanned by such system or technology.\\n                    (D) Seizure data directly attributed to scanned \\n                commercial and passenger vehicles.\\n            (3) The total number of commercial and passenger vehicles \\n        entering at each land port of entry where each system or \\n        technology is in use, and information on average wait times at \\n        peak and non-peak travel times, by lane type if applicable.\\n            (4) Progress with respect to the benchmarks specified in \\n        subsection (c)(1), and an explanation if any of such benchmarks \\n        are not achieved as planned.\\n            (5) A comparison of actual costs (including information on \\n        any awards of associated contracts) to estimated costs set \\n        forth in subsection (c)(2).\\n            (6) Any realized impacts, as identified by the Commissioner \\n        of U.S. Customs and Border Protection, on land ports of entry \\n        operations as a result of implementation actions, including any \\n        changes to the number of U.S. Customs and Border Protection \\n        officers or their duties and assignments.\\n            (7) Any proposed changes to the plan and an explanation for \\n        such changes, including changes made in response to any \\n        Department of Homeland Security research and development \\n        findings, including findings resulting from the research and \\n        development conducted pursuant to subsection (d), or changes in \\n        terrorist or transnational criminal organizations tactics, \\n        techniques, or procedures.\\n            (8) Any challenges to implementing the plan or meeting the \\n        benchmarks, and plans to mitigate any such challenges.\\n    (f) Definitions.--In this section:\\n            (1) Large-scale non-intrusive inspection system.--The term \\n        ``large-scale non-intrusive inspection system'' means a \\n        technology, including x-ray and gamma-ray imaging systems, \\n        capable of producing an image of the contents of a commercial \\n        or passenger vehicle in one pass of such vehicle.\\n            (2) Scanning.--The term ``scanning'' means utilizing \\n        technology to produce an image of the contents of a commercial \\n        or passenger vehicle without engaging in a physical inspection \\n        of such vehicle.\\n                                                 Union Calendar No. 317\\n\\n116th CONGRESS\\n\\n  2d Session\\n\\n                               H. R. 5273\\n\\n                          [Report No. 116-394]\\n\\n_______________________________________________________________________\\n\\n                                 A BILL\\n\\n  To require the Secretary of Homeland Security to develop a plan to \\n    increase to 100 percent the rates of scanning of commercial and \\n passenger vehicles entering the United States at land ports of entry \\nalong the border using large-scale non-intrusive inspection systems to \\n            enhance border security, and for other purposes.\\n\\n_______________________________________________________________________\\n\\n                            February 6, 2020\\n\\n  Reported with an amendment, committed to the Committee of the Whole \\n       House on the State of the Union, and ordered to be printed\\n</pre></body></html>\\n\""
      ]
     },
     "execution_count": 24,
     "metadata": {},
     "output_type": "execute_result"
    }
   ],
   "source": [
    "response.text"
   ]
  },
  {
   "cell_type": "code",
   "execution_count": null,
   "id": "93d05c19-7fc1-488a-a57d-d6492adbc74c",
   "metadata": {},
   "outputs": [],
   "source": []
  }
 ],
 "metadata": {
  "kernelspec": {
   "display_name": "Python 3 (ipykernel)",
   "language": "python",
   "name": "python3"
  },
  "language_info": {
   "codemirror_mode": {
    "name": "ipython",
    "version": 3
   },
   "file_extension": ".py",
   "mimetype": "text/x-python",
   "name": "python",
   "nbconvert_exporter": "python",
   "pygments_lexer": "ipython3",
   "version": "3.9.15"
  }
 },
 "nbformat": 4,
 "nbformat_minor": 5
}
