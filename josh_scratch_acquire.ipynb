{
 "cells": [
  {
   "cell_type": "code",
   "execution_count": 1,
   "id": "f69a220d-d919-41d9-bb65-9771b00650d0",
   "metadata": {},
   "outputs": [],
   "source": [
    "import pandas as pd\n",
    "import numpy as np\n",
    "from env import api_key\n",
    "import requests\n",
    "import json\n",
    "from acquire import *\n",
    "from bs4 import BeautifulSoup\n",
    "import os"
   ]
  },
  {
   "cell_type": "code",
   "execution_count": 2,
   "id": "1f7b7b16-b8af-4032-8e3b-26e8088f849b",
   "metadata": {},
   "outputs": [],
   "source": [
    "links = get_links_to_bills()"
   ]
  },
  {
   "cell_type": "code",
   "execution_count": 3,
   "id": "dc69900b-a7d1-4244-bc88-61a1e0e5c380",
   "metadata": {},
   "outputs": [
    {
     "data": {
      "text/plain": [
       "['https://api.govinfo.gov/packages/BILLS-116hr561eh/summary']"
      ]
     },
     "execution_count": 3,
     "metadata": {},
     "output_type": "execute_result"
    }
   ],
   "source": [
    "links[2:3]"
   ]
  },
  {
   "cell_type": "markdown",
   "id": "9e114323-0261-4eb9-9864-eb7282a12fea",
   "metadata": {},
   "source": [
    "## Acquire Data...?"
   ]
  },
  {
   "cell_type": "code",
   "execution_count": 4,
   "id": "d692def0-f933-48c9-9d8a-171714d26096",
   "metadata": {},
   "outputs": [],
   "source": [
    "list_chunk0 = links[:5000]\n",
    "list_chunk1 = links[5000:10000]\n",
    "list_chunk2 = links[10000:15000]\n",
    "list_chunk3 = links[15000:20000]\n",
    "list_chunk4 = links[20000:25000]\n",
    "list_chunk5 = links[25000:]"
   ]
  },
  {
   "cell_type": "code",
   "execution_count": 5,
   "id": "6bd94072-e8c8-4cfc-a94a-6e007de3cb41",
   "metadata": {},
   "outputs": [
    {
     "name": "stdout",
     "output_type": "stream",
     "text": [
      "100\n"
     ]
    },
    {
     "ename": "KeyboardInterrupt",
     "evalue": "",
     "output_type": "error",
     "traceback": [
      "\u001b[1;31m---------------------------------------------------------------------------\u001b[0m",
      "\u001b[1;31mKeyboardInterrupt\u001b[0m                         Traceback (most recent call last)",
      "\u001b[1;32m~\\AppData\\Local\\Temp\\ipykernel_12196\\693831679.py\u001b[0m in \u001b[0;36m<module>\u001b[1;34m\u001b[0m\n\u001b[1;32m----> 1\u001b[1;33m \u001b[0mdata_chunk4\u001b[0m \u001b[1;33m=\u001b[0m \u001b[0macquire_bills\u001b[0m\u001b[1;33m(\u001b[0m\u001b[0mlist_chunk4\u001b[0m\u001b[1;33m,\u001b[0m \u001b[0mfilename\u001b[0m\u001b[1;33m=\u001b[0m\u001b[1;34m\"data_chunk4.csv\"\u001b[0m\u001b[1;33m)\u001b[0m\u001b[1;33m\u001b[0m\u001b[1;33m\u001b[0m\u001b[0m\n\u001b[0m",
      "\u001b[1;32m~\\Codeup\\political_parser\\acquire.py\u001b[0m in \u001b[0;36macquire_bills\u001b[1;34m(links, filename)\u001b[0m\n\u001b[0;32m     99\u001b[0m                 \u001b[1;31m#Getting text of bill\u001b[0m\u001b[1;33m\u001b[0m\u001b[1;33m\u001b[0m\u001b[0m\n\u001b[0;32m    100\u001b[0m                 \u001b[0mlink_to_bill\u001b[0m \u001b[1;33m=\u001b[0m \u001b[0mdata\u001b[0m\u001b[1;33m[\u001b[0m\u001b[1;34m'download'\u001b[0m\u001b[1;33m]\u001b[0m\u001b[1;33m[\u001b[0m\u001b[1;34m'txtLink'\u001b[0m\u001b[1;33m]\u001b[0m\u001b[1;33m\u001b[0m\u001b[1;33m\u001b[0m\u001b[0m\n\u001b[1;32m--> 101\u001b[1;33m                 \u001b[0mresponse\u001b[0m \u001b[1;33m=\u001b[0m \u001b[0mrequests\u001b[0m\u001b[1;33m.\u001b[0m\u001b[0mget\u001b[0m\u001b[1;33m(\u001b[0m\u001b[0mlink_to_bill\u001b[0m\u001b[1;33m,\u001b[0m \u001b[0mparams\u001b[0m\u001b[1;33m=\u001b[0m\u001b[0mparams\u001b[0m\u001b[1;33m)\u001b[0m\u001b[1;33m\u001b[0m\u001b[1;33m\u001b[0m\u001b[0m\n\u001b[0m\u001b[0;32m    102\u001b[0m \u001b[1;33m\u001b[0m\u001b[0m\n\u001b[0;32m    103\u001b[0m                 \u001b[1;31m# Make a soup variable holding the response content\u001b[0m\u001b[1;33m\u001b[0m\u001b[1;33m\u001b[0m\u001b[0m\n",
      "\u001b[1;32mC:\\ProgramData\\Anaconda3\\lib\\site-packages\\requests\\api.py\u001b[0m in \u001b[0;36mget\u001b[1;34m(url, params, **kwargs)\u001b[0m\n\u001b[0;32m     71\u001b[0m     \"\"\"\n\u001b[0;32m     72\u001b[0m \u001b[1;33m\u001b[0m\u001b[0m\n\u001b[1;32m---> 73\u001b[1;33m     \u001b[1;32mreturn\u001b[0m \u001b[0mrequest\u001b[0m\u001b[1;33m(\u001b[0m\u001b[1;34m\"get\"\u001b[0m\u001b[1;33m,\u001b[0m \u001b[0murl\u001b[0m\u001b[1;33m,\u001b[0m \u001b[0mparams\u001b[0m\u001b[1;33m=\u001b[0m\u001b[0mparams\u001b[0m\u001b[1;33m,\u001b[0m \u001b[1;33m**\u001b[0m\u001b[0mkwargs\u001b[0m\u001b[1;33m)\u001b[0m\u001b[1;33m\u001b[0m\u001b[1;33m\u001b[0m\u001b[0m\n\u001b[0m\u001b[0;32m     74\u001b[0m \u001b[1;33m\u001b[0m\u001b[0m\n\u001b[0;32m     75\u001b[0m \u001b[1;33m\u001b[0m\u001b[0m\n",
      "\u001b[1;32mC:\\ProgramData\\Anaconda3\\lib\\site-packages\\requests\\api.py\u001b[0m in \u001b[0;36mrequest\u001b[1;34m(method, url, **kwargs)\u001b[0m\n\u001b[0;32m     57\u001b[0m     \u001b[1;31m# cases, and look like a memory leak in others.\u001b[0m\u001b[1;33m\u001b[0m\u001b[1;33m\u001b[0m\u001b[0m\n\u001b[0;32m     58\u001b[0m     \u001b[1;32mwith\u001b[0m \u001b[0msessions\u001b[0m\u001b[1;33m.\u001b[0m\u001b[0mSession\u001b[0m\u001b[1;33m(\u001b[0m\u001b[1;33m)\u001b[0m \u001b[1;32mas\u001b[0m \u001b[0msession\u001b[0m\u001b[1;33m:\u001b[0m\u001b[1;33m\u001b[0m\u001b[1;33m\u001b[0m\u001b[0m\n\u001b[1;32m---> 59\u001b[1;33m         \u001b[1;32mreturn\u001b[0m \u001b[0msession\u001b[0m\u001b[1;33m.\u001b[0m\u001b[0mrequest\u001b[0m\u001b[1;33m(\u001b[0m\u001b[0mmethod\u001b[0m\u001b[1;33m=\u001b[0m\u001b[0mmethod\u001b[0m\u001b[1;33m,\u001b[0m \u001b[0murl\u001b[0m\u001b[1;33m=\u001b[0m\u001b[0murl\u001b[0m\u001b[1;33m,\u001b[0m \u001b[1;33m**\u001b[0m\u001b[0mkwargs\u001b[0m\u001b[1;33m)\u001b[0m\u001b[1;33m\u001b[0m\u001b[1;33m\u001b[0m\u001b[0m\n\u001b[0m\u001b[0;32m     60\u001b[0m \u001b[1;33m\u001b[0m\u001b[0m\n\u001b[0;32m     61\u001b[0m \u001b[1;33m\u001b[0m\u001b[0m\n",
      "\u001b[1;32mC:\\ProgramData\\Anaconda3\\lib\\site-packages\\requests\\sessions.py\u001b[0m in \u001b[0;36mrequest\u001b[1;34m(self, method, url, params, data, headers, cookies, files, auth, timeout, allow_redirects, proxies, hooks, stream, verify, cert, json)\u001b[0m\n\u001b[0;32m    585\u001b[0m         }\n\u001b[0;32m    586\u001b[0m         \u001b[0msend_kwargs\u001b[0m\u001b[1;33m.\u001b[0m\u001b[0mupdate\u001b[0m\u001b[1;33m(\u001b[0m\u001b[0msettings\u001b[0m\u001b[1;33m)\u001b[0m\u001b[1;33m\u001b[0m\u001b[1;33m\u001b[0m\u001b[0m\n\u001b[1;32m--> 587\u001b[1;33m         \u001b[0mresp\u001b[0m \u001b[1;33m=\u001b[0m \u001b[0mself\u001b[0m\u001b[1;33m.\u001b[0m\u001b[0msend\u001b[0m\u001b[1;33m(\u001b[0m\u001b[0mprep\u001b[0m\u001b[1;33m,\u001b[0m \u001b[1;33m**\u001b[0m\u001b[0msend_kwargs\u001b[0m\u001b[1;33m)\u001b[0m\u001b[1;33m\u001b[0m\u001b[1;33m\u001b[0m\u001b[0m\n\u001b[0m\u001b[0;32m    588\u001b[0m \u001b[1;33m\u001b[0m\u001b[0m\n\u001b[0;32m    589\u001b[0m         \u001b[1;32mreturn\u001b[0m \u001b[0mresp\u001b[0m\u001b[1;33m\u001b[0m\u001b[1;33m\u001b[0m\u001b[0m\n",
      "\u001b[1;32mC:\\ProgramData\\Anaconda3\\lib\\site-packages\\requests\\sessions.py\u001b[0m in \u001b[0;36msend\u001b[1;34m(self, request, **kwargs)\u001b[0m\n\u001b[0;32m    699\u001b[0m \u001b[1;33m\u001b[0m\u001b[0m\n\u001b[0;32m    700\u001b[0m         \u001b[1;31m# Send the request\u001b[0m\u001b[1;33m\u001b[0m\u001b[1;33m\u001b[0m\u001b[0m\n\u001b[1;32m--> 701\u001b[1;33m         \u001b[0mr\u001b[0m \u001b[1;33m=\u001b[0m \u001b[0madapter\u001b[0m\u001b[1;33m.\u001b[0m\u001b[0msend\u001b[0m\u001b[1;33m(\u001b[0m\u001b[0mrequest\u001b[0m\u001b[1;33m,\u001b[0m \u001b[1;33m**\u001b[0m\u001b[0mkwargs\u001b[0m\u001b[1;33m)\u001b[0m\u001b[1;33m\u001b[0m\u001b[1;33m\u001b[0m\u001b[0m\n\u001b[0m\u001b[0;32m    702\u001b[0m \u001b[1;33m\u001b[0m\u001b[0m\n\u001b[0;32m    703\u001b[0m         \u001b[1;31m# Total elapsed time of the request (approximately)\u001b[0m\u001b[1;33m\u001b[0m\u001b[1;33m\u001b[0m\u001b[0m\n",
      "\u001b[1;32mC:\\ProgramData\\Anaconda3\\lib\\site-packages\\requests\\adapters.py\u001b[0m in \u001b[0;36msend\u001b[1;34m(self, request, stream, timeout, verify, cert, proxies)\u001b[0m\n\u001b[0;32m    487\u001b[0m         \u001b[1;32mtry\u001b[0m\u001b[1;33m:\u001b[0m\u001b[1;33m\u001b[0m\u001b[1;33m\u001b[0m\u001b[0m\n\u001b[0;32m    488\u001b[0m             \u001b[1;32mif\u001b[0m \u001b[1;32mnot\u001b[0m \u001b[0mchunked\u001b[0m\u001b[1;33m:\u001b[0m\u001b[1;33m\u001b[0m\u001b[1;33m\u001b[0m\u001b[0m\n\u001b[1;32m--> 489\u001b[1;33m                 resp = conn.urlopen(\n\u001b[0m\u001b[0;32m    490\u001b[0m                     \u001b[0mmethod\u001b[0m\u001b[1;33m=\u001b[0m\u001b[0mrequest\u001b[0m\u001b[1;33m.\u001b[0m\u001b[0mmethod\u001b[0m\u001b[1;33m,\u001b[0m\u001b[1;33m\u001b[0m\u001b[1;33m\u001b[0m\u001b[0m\n\u001b[0;32m    491\u001b[0m                     \u001b[0murl\u001b[0m\u001b[1;33m=\u001b[0m\u001b[0murl\u001b[0m\u001b[1;33m,\u001b[0m\u001b[1;33m\u001b[0m\u001b[1;33m\u001b[0m\u001b[0m\n",
      "\u001b[1;32mC:\\ProgramData\\Anaconda3\\lib\\site-packages\\urllib3\\connectionpool.py\u001b[0m in \u001b[0;36murlopen\u001b[1;34m(self, method, url, body, headers, retries, redirect, assert_same_host, timeout, pool_timeout, release_conn, chunked, body_pos, **response_kw)\u001b[0m\n\u001b[0;32m    701\u001b[0m \u001b[1;33m\u001b[0m\u001b[0m\n\u001b[0;32m    702\u001b[0m             \u001b[1;31m# Make the request on the httplib connection object.\u001b[0m\u001b[1;33m\u001b[0m\u001b[1;33m\u001b[0m\u001b[0m\n\u001b[1;32m--> 703\u001b[1;33m             httplib_response = self._make_request(\n\u001b[0m\u001b[0;32m    704\u001b[0m                 \u001b[0mconn\u001b[0m\u001b[1;33m,\u001b[0m\u001b[1;33m\u001b[0m\u001b[1;33m\u001b[0m\u001b[0m\n\u001b[0;32m    705\u001b[0m                 \u001b[0mmethod\u001b[0m\u001b[1;33m,\u001b[0m\u001b[1;33m\u001b[0m\u001b[1;33m\u001b[0m\u001b[0m\n",
      "\u001b[1;32mC:\\ProgramData\\Anaconda3\\lib\\site-packages\\urllib3\\connectionpool.py\u001b[0m in \u001b[0;36m_make_request\u001b[1;34m(self, conn, method, url, timeout, chunked, **httplib_request_kw)\u001b[0m\n\u001b[0;32m    447\u001b[0m                     \u001b[1;31m# Python 3 (including for exceptions like SystemExit).\u001b[0m\u001b[1;33m\u001b[0m\u001b[1;33m\u001b[0m\u001b[0m\n\u001b[0;32m    448\u001b[0m                     \u001b[1;31m# Otherwise it looks like a bug in the code.\u001b[0m\u001b[1;33m\u001b[0m\u001b[1;33m\u001b[0m\u001b[0m\n\u001b[1;32m--> 449\u001b[1;33m                     \u001b[0msix\u001b[0m\u001b[1;33m.\u001b[0m\u001b[0mraise_from\u001b[0m\u001b[1;33m(\u001b[0m\u001b[0me\u001b[0m\u001b[1;33m,\u001b[0m \u001b[1;32mNone\u001b[0m\u001b[1;33m)\u001b[0m\u001b[1;33m\u001b[0m\u001b[1;33m\u001b[0m\u001b[0m\n\u001b[0m\u001b[0;32m    450\u001b[0m         \u001b[1;32mexcept\u001b[0m \u001b[1;33m(\u001b[0m\u001b[0mSocketTimeout\u001b[0m\u001b[1;33m,\u001b[0m \u001b[0mBaseSSLError\u001b[0m\u001b[1;33m,\u001b[0m \u001b[0mSocketError\u001b[0m\u001b[1;33m)\u001b[0m \u001b[1;32mas\u001b[0m \u001b[0me\u001b[0m\u001b[1;33m:\u001b[0m\u001b[1;33m\u001b[0m\u001b[1;33m\u001b[0m\u001b[0m\n\u001b[0;32m    451\u001b[0m             \u001b[0mself\u001b[0m\u001b[1;33m.\u001b[0m\u001b[0m_raise_timeout\u001b[0m\u001b[1;33m(\u001b[0m\u001b[0merr\u001b[0m\u001b[1;33m=\u001b[0m\u001b[0me\u001b[0m\u001b[1;33m,\u001b[0m \u001b[0murl\u001b[0m\u001b[1;33m=\u001b[0m\u001b[0murl\u001b[0m\u001b[1;33m,\u001b[0m \u001b[0mtimeout_value\u001b[0m\u001b[1;33m=\u001b[0m\u001b[0mread_timeout\u001b[0m\u001b[1;33m)\u001b[0m\u001b[1;33m\u001b[0m\u001b[1;33m\u001b[0m\u001b[0m\n",
      "\u001b[1;32mC:\\ProgramData\\Anaconda3\\lib\\site-packages\\urllib3\\packages\\six.py\u001b[0m in \u001b[0;36mraise_from\u001b[1;34m(value, from_value)\u001b[0m\n",
      "\u001b[1;32mC:\\ProgramData\\Anaconda3\\lib\\site-packages\\urllib3\\connectionpool.py\u001b[0m in \u001b[0;36m_make_request\u001b[1;34m(self, conn, method, url, timeout, chunked, **httplib_request_kw)\u001b[0m\n\u001b[0;32m    442\u001b[0m                 \u001b[1;31m# Python 3\u001b[0m\u001b[1;33m\u001b[0m\u001b[1;33m\u001b[0m\u001b[0m\n\u001b[0;32m    443\u001b[0m                 \u001b[1;32mtry\u001b[0m\u001b[1;33m:\u001b[0m\u001b[1;33m\u001b[0m\u001b[1;33m\u001b[0m\u001b[0m\n\u001b[1;32m--> 444\u001b[1;33m                     \u001b[0mhttplib_response\u001b[0m \u001b[1;33m=\u001b[0m \u001b[0mconn\u001b[0m\u001b[1;33m.\u001b[0m\u001b[0mgetresponse\u001b[0m\u001b[1;33m(\u001b[0m\u001b[1;33m)\u001b[0m\u001b[1;33m\u001b[0m\u001b[1;33m\u001b[0m\u001b[0m\n\u001b[0m\u001b[0;32m    445\u001b[0m                 \u001b[1;32mexcept\u001b[0m \u001b[0mBaseException\u001b[0m \u001b[1;32mas\u001b[0m \u001b[0me\u001b[0m\u001b[1;33m:\u001b[0m\u001b[1;33m\u001b[0m\u001b[1;33m\u001b[0m\u001b[0m\n\u001b[0;32m    446\u001b[0m                     \u001b[1;31m# Remove the TypeError from the exception chain in\u001b[0m\u001b[1;33m\u001b[0m\u001b[1;33m\u001b[0m\u001b[0m\n",
      "\u001b[1;32mC:\\ProgramData\\Anaconda3\\lib\\http\\client.py\u001b[0m in \u001b[0;36mgetresponse\u001b[1;34m(self)\u001b[0m\n\u001b[0;32m   1375\u001b[0m         \u001b[1;32mtry\u001b[0m\u001b[1;33m:\u001b[0m\u001b[1;33m\u001b[0m\u001b[1;33m\u001b[0m\u001b[0m\n\u001b[0;32m   1376\u001b[0m             \u001b[1;32mtry\u001b[0m\u001b[1;33m:\u001b[0m\u001b[1;33m\u001b[0m\u001b[1;33m\u001b[0m\u001b[0m\n\u001b[1;32m-> 1377\u001b[1;33m                 \u001b[0mresponse\u001b[0m\u001b[1;33m.\u001b[0m\u001b[0mbegin\u001b[0m\u001b[1;33m(\u001b[0m\u001b[1;33m)\u001b[0m\u001b[1;33m\u001b[0m\u001b[1;33m\u001b[0m\u001b[0m\n\u001b[0m\u001b[0;32m   1378\u001b[0m             \u001b[1;32mexcept\u001b[0m \u001b[0mConnectionError\u001b[0m\u001b[1;33m:\u001b[0m\u001b[1;33m\u001b[0m\u001b[1;33m\u001b[0m\u001b[0m\n\u001b[0;32m   1379\u001b[0m                 \u001b[0mself\u001b[0m\u001b[1;33m.\u001b[0m\u001b[0mclose\u001b[0m\u001b[1;33m(\u001b[0m\u001b[1;33m)\u001b[0m\u001b[1;33m\u001b[0m\u001b[1;33m\u001b[0m\u001b[0m\n",
      "\u001b[1;32mC:\\ProgramData\\Anaconda3\\lib\\http\\client.py\u001b[0m in \u001b[0;36mbegin\u001b[1;34m(self)\u001b[0m\n\u001b[0;32m    318\u001b[0m         \u001b[1;31m# read until we get a non-100 response\u001b[0m\u001b[1;33m\u001b[0m\u001b[1;33m\u001b[0m\u001b[0m\n\u001b[0;32m    319\u001b[0m         \u001b[1;32mwhile\u001b[0m \u001b[1;32mTrue\u001b[0m\u001b[1;33m:\u001b[0m\u001b[1;33m\u001b[0m\u001b[1;33m\u001b[0m\u001b[0m\n\u001b[1;32m--> 320\u001b[1;33m             \u001b[0mversion\u001b[0m\u001b[1;33m,\u001b[0m \u001b[0mstatus\u001b[0m\u001b[1;33m,\u001b[0m \u001b[0mreason\u001b[0m \u001b[1;33m=\u001b[0m \u001b[0mself\u001b[0m\u001b[1;33m.\u001b[0m\u001b[0m_read_status\u001b[0m\u001b[1;33m(\u001b[0m\u001b[1;33m)\u001b[0m\u001b[1;33m\u001b[0m\u001b[1;33m\u001b[0m\u001b[0m\n\u001b[0m\u001b[0;32m    321\u001b[0m             \u001b[1;32mif\u001b[0m \u001b[0mstatus\u001b[0m \u001b[1;33m!=\u001b[0m \u001b[0mCONTINUE\u001b[0m\u001b[1;33m:\u001b[0m\u001b[1;33m\u001b[0m\u001b[1;33m\u001b[0m\u001b[0m\n\u001b[0;32m    322\u001b[0m                 \u001b[1;32mbreak\u001b[0m\u001b[1;33m\u001b[0m\u001b[1;33m\u001b[0m\u001b[0m\n",
      "\u001b[1;32mC:\\ProgramData\\Anaconda3\\lib\\http\\client.py\u001b[0m in \u001b[0;36m_read_status\u001b[1;34m(self)\u001b[0m\n\u001b[0;32m    279\u001b[0m \u001b[1;33m\u001b[0m\u001b[0m\n\u001b[0;32m    280\u001b[0m     \u001b[1;32mdef\u001b[0m \u001b[0m_read_status\u001b[0m\u001b[1;33m(\u001b[0m\u001b[0mself\u001b[0m\u001b[1;33m)\u001b[0m\u001b[1;33m:\u001b[0m\u001b[1;33m\u001b[0m\u001b[1;33m\u001b[0m\u001b[0m\n\u001b[1;32m--> 281\u001b[1;33m         \u001b[0mline\u001b[0m \u001b[1;33m=\u001b[0m \u001b[0mstr\u001b[0m\u001b[1;33m(\u001b[0m\u001b[0mself\u001b[0m\u001b[1;33m.\u001b[0m\u001b[0mfp\u001b[0m\u001b[1;33m.\u001b[0m\u001b[0mreadline\u001b[0m\u001b[1;33m(\u001b[0m\u001b[0m_MAXLINE\u001b[0m \u001b[1;33m+\u001b[0m \u001b[1;36m1\u001b[0m\u001b[1;33m)\u001b[0m\u001b[1;33m,\u001b[0m \u001b[1;34m\"iso-8859-1\"\u001b[0m\u001b[1;33m)\u001b[0m\u001b[1;33m\u001b[0m\u001b[1;33m\u001b[0m\u001b[0m\n\u001b[0m\u001b[0;32m    282\u001b[0m         \u001b[1;32mif\u001b[0m \u001b[0mlen\u001b[0m\u001b[1;33m(\u001b[0m\u001b[0mline\u001b[0m\u001b[1;33m)\u001b[0m \u001b[1;33m>\u001b[0m \u001b[0m_MAXLINE\u001b[0m\u001b[1;33m:\u001b[0m\u001b[1;33m\u001b[0m\u001b[1;33m\u001b[0m\u001b[0m\n\u001b[0;32m    283\u001b[0m             \u001b[1;32mraise\u001b[0m \u001b[0mLineTooLong\u001b[0m\u001b[1;33m(\u001b[0m\u001b[1;34m\"status line\"\u001b[0m\u001b[1;33m)\u001b[0m\u001b[1;33m\u001b[0m\u001b[1;33m\u001b[0m\u001b[0m\n",
      "\u001b[1;32mC:\\ProgramData\\Anaconda3\\lib\\socket.py\u001b[0m in \u001b[0;36mreadinto\u001b[1;34m(self, b)\u001b[0m\n\u001b[0;32m    702\u001b[0m         \u001b[1;32mwhile\u001b[0m \u001b[1;32mTrue\u001b[0m\u001b[1;33m:\u001b[0m\u001b[1;33m\u001b[0m\u001b[1;33m\u001b[0m\u001b[0m\n\u001b[0;32m    703\u001b[0m             \u001b[1;32mtry\u001b[0m\u001b[1;33m:\u001b[0m\u001b[1;33m\u001b[0m\u001b[1;33m\u001b[0m\u001b[0m\n\u001b[1;32m--> 704\u001b[1;33m                 \u001b[1;32mreturn\u001b[0m \u001b[0mself\u001b[0m\u001b[1;33m.\u001b[0m\u001b[0m_sock\u001b[0m\u001b[1;33m.\u001b[0m\u001b[0mrecv_into\u001b[0m\u001b[1;33m(\u001b[0m\u001b[0mb\u001b[0m\u001b[1;33m)\u001b[0m\u001b[1;33m\u001b[0m\u001b[1;33m\u001b[0m\u001b[0m\n\u001b[0m\u001b[0;32m    705\u001b[0m             \u001b[1;32mexcept\u001b[0m \u001b[0mtimeout\u001b[0m\u001b[1;33m:\u001b[0m\u001b[1;33m\u001b[0m\u001b[1;33m\u001b[0m\u001b[0m\n\u001b[0;32m    706\u001b[0m                 \u001b[0mself\u001b[0m\u001b[1;33m.\u001b[0m\u001b[0m_timeout_occurred\u001b[0m \u001b[1;33m=\u001b[0m \u001b[1;32mTrue\u001b[0m\u001b[1;33m\u001b[0m\u001b[1;33m\u001b[0m\u001b[0m\n",
      "\u001b[1;32mC:\\ProgramData\\Anaconda3\\lib\\ssl.py\u001b[0m in \u001b[0;36mrecv_into\u001b[1;34m(self, buffer, nbytes, flags)\u001b[0m\n\u001b[0;32m   1240\u001b[0m                   \u001b[1;34m\"non-zero flags not allowed in calls to recv_into() on %s\"\u001b[0m \u001b[1;33m%\u001b[0m\u001b[1;33m\u001b[0m\u001b[1;33m\u001b[0m\u001b[0m\n\u001b[0;32m   1241\u001b[0m                   self.__class__)\n\u001b[1;32m-> 1242\u001b[1;33m             \u001b[1;32mreturn\u001b[0m \u001b[0mself\u001b[0m\u001b[1;33m.\u001b[0m\u001b[0mread\u001b[0m\u001b[1;33m(\u001b[0m\u001b[0mnbytes\u001b[0m\u001b[1;33m,\u001b[0m \u001b[0mbuffer\u001b[0m\u001b[1;33m)\u001b[0m\u001b[1;33m\u001b[0m\u001b[1;33m\u001b[0m\u001b[0m\n\u001b[0m\u001b[0;32m   1243\u001b[0m         \u001b[1;32melse\u001b[0m\u001b[1;33m:\u001b[0m\u001b[1;33m\u001b[0m\u001b[1;33m\u001b[0m\u001b[0m\n\u001b[0;32m   1244\u001b[0m             \u001b[1;32mreturn\u001b[0m \u001b[0msuper\u001b[0m\u001b[1;33m(\u001b[0m\u001b[1;33m)\u001b[0m\u001b[1;33m.\u001b[0m\u001b[0mrecv_into\u001b[0m\u001b[1;33m(\u001b[0m\u001b[0mbuffer\u001b[0m\u001b[1;33m,\u001b[0m \u001b[0mnbytes\u001b[0m\u001b[1;33m,\u001b[0m \u001b[0mflags\u001b[0m\u001b[1;33m)\u001b[0m\u001b[1;33m\u001b[0m\u001b[1;33m\u001b[0m\u001b[0m\n",
      "\u001b[1;32mC:\\ProgramData\\Anaconda3\\lib\\ssl.py\u001b[0m in \u001b[0;36mread\u001b[1;34m(self, len, buffer)\u001b[0m\n\u001b[0;32m   1098\u001b[0m         \u001b[1;32mtry\u001b[0m\u001b[1;33m:\u001b[0m\u001b[1;33m\u001b[0m\u001b[1;33m\u001b[0m\u001b[0m\n\u001b[0;32m   1099\u001b[0m             \u001b[1;32mif\u001b[0m \u001b[0mbuffer\u001b[0m \u001b[1;32mis\u001b[0m \u001b[1;32mnot\u001b[0m \u001b[1;32mNone\u001b[0m\u001b[1;33m:\u001b[0m\u001b[1;33m\u001b[0m\u001b[1;33m\u001b[0m\u001b[0m\n\u001b[1;32m-> 1100\u001b[1;33m                 \u001b[1;32mreturn\u001b[0m \u001b[0mself\u001b[0m\u001b[1;33m.\u001b[0m\u001b[0m_sslobj\u001b[0m\u001b[1;33m.\u001b[0m\u001b[0mread\u001b[0m\u001b[1;33m(\u001b[0m\u001b[0mlen\u001b[0m\u001b[1;33m,\u001b[0m \u001b[0mbuffer\u001b[0m\u001b[1;33m)\u001b[0m\u001b[1;33m\u001b[0m\u001b[1;33m\u001b[0m\u001b[0m\n\u001b[0m\u001b[0;32m   1101\u001b[0m             \u001b[1;32melse\u001b[0m\u001b[1;33m:\u001b[0m\u001b[1;33m\u001b[0m\u001b[1;33m\u001b[0m\u001b[0m\n\u001b[0;32m   1102\u001b[0m                 \u001b[1;32mreturn\u001b[0m \u001b[0mself\u001b[0m\u001b[1;33m.\u001b[0m\u001b[0m_sslobj\u001b[0m\u001b[1;33m.\u001b[0m\u001b[0mread\u001b[0m\u001b[1;33m(\u001b[0m\u001b[0mlen\u001b[0m\u001b[1;33m)\u001b[0m\u001b[1;33m\u001b[0m\u001b[1;33m\u001b[0m\u001b[0m\n",
      "\u001b[1;31mKeyboardInterrupt\u001b[0m: "
     ]
    }
   ],
   "source": [
    "data_chunk4 = acquire_bills(list_chunk4, filename=\"data_chunk4.csv\")"
   ]
  },
  {
   "cell_type": "code",
   "execution_count": null,
   "id": "b71e7d67-48b9-4914-89ec-a532edcdb9d5",
   "metadata": {},
   "outputs": [],
   "source": []
  },
  {
   "cell_type": "code",
   "execution_count": null,
   "id": "df34292a-bbcc-4b91-83f1-fa64ed85745d",
   "metadata": {},
   "outputs": [],
   "source": []
  },
  {
   "cell_type": "code",
   "execution_count": null,
   "id": "dc2b4097-b345-43f7-8dec-00bc4bf0b47e",
   "metadata": {},
   "outputs": [],
   "source": []
  },
  {
   "cell_type": "code",
   "execution_count": null,
   "id": "42174f98-20ee-47a3-9edd-63064ce58763",
   "metadata": {},
   "outputs": [
    {
     "name": "stdout",
     "output_type": "stream",
     "text": [
      "100\n",
      "200\n",
      "300\n",
      "400\n",
      "500\n",
      "600\n"
     ]
    }
   ],
   "source": [
    "for link in links:\n",
    "    try:\n",
    "        #Get the summary data\n",
    "        response = requests.get(link, params=params)\n",
    "        data = response.json()\n",
    "\n",
    "        #Primary sponsor\n",
    "        member = data['members'][0]['memberName']\n",
    "        #Party affiliation\n",
    "        party = data['members'][0]['party']\n",
    "\n",
    "        #Getting text of bill\n",
    "        link_to_bill = data['download']['txtLink']\n",
    "        response = requests.get(link_to_bill, params=params)\n",
    "\n",
    "        # Make a soup variable holding the response content\n",
    "        soup = BeautifulSoup(response.text, 'html.parser')\n",
    "        text_of_bill = soup.find('body')\n",
    "\n",
    "        #Create a dictionary of the items and append to a list\n",
    "        temp_dictionary = {\"sponsor\":member,\n",
    "                       \"party\":party,\n",
    "                       \"bill_text\":text_of_bill}\n",
    "        master_list.append(temp_dictionary)\n",
    "        \n",
    "        i += 1\n",
    "        if i % 100 == 0:\n",
    "            print(f'{i}')\n",
    "    except KeyError:\n",
    "        pass"
   ]
  },
  {
   "cell_type": "code",
   "execution_count": null,
   "id": "15fafe4f-8bef-4746-bfa1-926efa21ff5d",
   "metadata": {
    "tags": []
   },
   "outputs": [],
   "source": [
    "master_list"
   ]
  },
  {
   "cell_type": "code",
   "execution_count": null,
   "id": "5ae3cbea-a053-4c81-95bd-b799d8aad5cc",
   "metadata": {},
   "outputs": [],
   "source": [
    "return_list = pd.DataFrame(master_list)"
   ]
  },
  {
   "cell_type": "markdown",
   "id": "194fef3c-9fcb-48a0-b442-9add803455f5",
   "metadata": {},
   "source": []
  },
  {
   "cell_type": "code",
   "execution_count": null,
   "id": "fddd63fa-3b3e-4345-88dd-c9c723cdb2bc",
   "metadata": {},
   "outputs": [],
   "source": [
    "return_list.to_csv(\"master_df.csv\", index=False)"
   ]
  },
  {
   "cell_type": "code",
   "execution_count": null,
   "id": "3a5447b0-efe5-41f8-92e7-41f9cd33e042",
   "metadata": {},
   "outputs": [],
   "source": []
  },
  {
   "cell_type": "code",
   "execution_count": null,
   "id": "ca689a06-844a-4f36-b518-81a162ecc845",
   "metadata": {},
   "outputs": [
    {
     "ename": "InvalidSchema",
     "evalue": "No connection adapters were found for \"['https://api.govinfo.gov/packages/BILLS-116hr561eh/summary']\"",
     "output_type": "error",
     "traceback": [
      "\u001b[0;31m---------------------------------------------------------------------------\u001b[0m",
      "\u001b[0;31mInvalidSchema\u001b[0m                             Traceback (most recent call last)",
      "\u001b[0;32m/var/folders/sg/9h_lqlfd6bgb63_prv2nr4mm0000gn/T/ipykernel_1216/2706913288.py\u001b[0m in \u001b[0;36m<module>\u001b[0;34m\u001b[0m\n\u001b[1;32m      1\u001b[0m \u001b[0;31m# Make a request to the API\u001b[0m\u001b[0;34m\u001b[0m\u001b[0;34m\u001b[0m\u001b[0m\n\u001b[0;32m----> 2\u001b[0;31m \u001b[0mresponse0\u001b[0m \u001b[0;34m=\u001b[0m \u001b[0mrequests\u001b[0m\u001b[0;34m.\u001b[0m\u001b[0mget\u001b[0m\u001b[0;34m(\u001b[0m\u001b[0mlinks\u001b[0m\u001b[0;34m[\u001b[0m\u001b[0;36m2\u001b[0m\u001b[0;34m:\u001b[0m\u001b[0;36m3\u001b[0m\u001b[0;34m]\u001b[0m\u001b[0;34m,\u001b[0m \u001b[0mparams\u001b[0m\u001b[0;34m=\u001b[0m\u001b[0mparams\u001b[0m\u001b[0;34m)\u001b[0m\u001b[0;34m\u001b[0m\u001b[0;34m\u001b[0m\u001b[0m\n\u001b[0m",
      "\u001b[0;32m~/opt/anaconda3/lib/python3.9/site-packages/requests/api.py\u001b[0m in \u001b[0;36mget\u001b[0;34m(url, params, **kwargs)\u001b[0m\n\u001b[1;32m     71\u001b[0m     \"\"\"\n\u001b[1;32m     72\u001b[0m \u001b[0;34m\u001b[0m\u001b[0m\n\u001b[0;32m---> 73\u001b[0;31m     \u001b[0;32mreturn\u001b[0m \u001b[0mrequest\u001b[0m\u001b[0;34m(\u001b[0m\u001b[0;34m\"get\"\u001b[0m\u001b[0;34m,\u001b[0m \u001b[0murl\u001b[0m\u001b[0;34m,\u001b[0m \u001b[0mparams\u001b[0m\u001b[0;34m=\u001b[0m\u001b[0mparams\u001b[0m\u001b[0;34m,\u001b[0m \u001b[0;34m**\u001b[0m\u001b[0mkwargs\u001b[0m\u001b[0;34m)\u001b[0m\u001b[0;34m\u001b[0m\u001b[0;34m\u001b[0m\u001b[0m\n\u001b[0m\u001b[1;32m     74\u001b[0m \u001b[0;34m\u001b[0m\u001b[0m\n\u001b[1;32m     75\u001b[0m \u001b[0;34m\u001b[0m\u001b[0m\n",
      "\u001b[0;32m~/opt/anaconda3/lib/python3.9/site-packages/requests/api.py\u001b[0m in \u001b[0;36mrequest\u001b[0;34m(method, url, **kwargs)\u001b[0m\n\u001b[1;32m     57\u001b[0m     \u001b[0;31m# cases, and look like a memory leak in others.\u001b[0m\u001b[0;34m\u001b[0m\u001b[0;34m\u001b[0m\u001b[0m\n\u001b[1;32m     58\u001b[0m     \u001b[0;32mwith\u001b[0m \u001b[0msessions\u001b[0m\u001b[0;34m.\u001b[0m\u001b[0mSession\u001b[0m\u001b[0;34m(\u001b[0m\u001b[0;34m)\u001b[0m \u001b[0;32mas\u001b[0m \u001b[0msession\u001b[0m\u001b[0;34m:\u001b[0m\u001b[0;34m\u001b[0m\u001b[0;34m\u001b[0m\u001b[0m\n\u001b[0;32m---> 59\u001b[0;31m         \u001b[0;32mreturn\u001b[0m \u001b[0msession\u001b[0m\u001b[0;34m.\u001b[0m\u001b[0mrequest\u001b[0m\u001b[0;34m(\u001b[0m\u001b[0mmethod\u001b[0m\u001b[0;34m=\u001b[0m\u001b[0mmethod\u001b[0m\u001b[0;34m,\u001b[0m \u001b[0murl\u001b[0m\u001b[0;34m=\u001b[0m\u001b[0murl\u001b[0m\u001b[0;34m,\u001b[0m \u001b[0;34m**\u001b[0m\u001b[0mkwargs\u001b[0m\u001b[0;34m)\u001b[0m\u001b[0;34m\u001b[0m\u001b[0;34m\u001b[0m\u001b[0m\n\u001b[0m\u001b[1;32m     60\u001b[0m \u001b[0;34m\u001b[0m\u001b[0m\n\u001b[1;32m     61\u001b[0m \u001b[0;34m\u001b[0m\u001b[0m\n",
      "\u001b[0;32m~/opt/anaconda3/lib/python3.9/site-packages/requests/sessions.py\u001b[0m in \u001b[0;36mrequest\u001b[0;34m(self, method, url, params, data, headers, cookies, files, auth, timeout, allow_redirects, proxies, hooks, stream, verify, cert, json)\u001b[0m\n\u001b[1;32m    585\u001b[0m         }\n\u001b[1;32m    586\u001b[0m         \u001b[0msend_kwargs\u001b[0m\u001b[0;34m.\u001b[0m\u001b[0mupdate\u001b[0m\u001b[0;34m(\u001b[0m\u001b[0msettings\u001b[0m\u001b[0;34m)\u001b[0m\u001b[0;34m\u001b[0m\u001b[0;34m\u001b[0m\u001b[0m\n\u001b[0;32m--> 587\u001b[0;31m         \u001b[0mresp\u001b[0m \u001b[0;34m=\u001b[0m \u001b[0mself\u001b[0m\u001b[0;34m.\u001b[0m\u001b[0msend\u001b[0m\u001b[0;34m(\u001b[0m\u001b[0mprep\u001b[0m\u001b[0;34m,\u001b[0m \u001b[0;34m**\u001b[0m\u001b[0msend_kwargs\u001b[0m\u001b[0;34m)\u001b[0m\u001b[0;34m\u001b[0m\u001b[0;34m\u001b[0m\u001b[0m\n\u001b[0m\u001b[1;32m    588\u001b[0m \u001b[0;34m\u001b[0m\u001b[0m\n\u001b[1;32m    589\u001b[0m         \u001b[0;32mreturn\u001b[0m \u001b[0mresp\u001b[0m\u001b[0;34m\u001b[0m\u001b[0;34m\u001b[0m\u001b[0m\n",
      "\u001b[0;32m~/opt/anaconda3/lib/python3.9/site-packages/requests/sessions.py\u001b[0m in \u001b[0;36msend\u001b[0;34m(self, request, **kwargs)\u001b[0m\n\u001b[1;32m    693\u001b[0m \u001b[0;34m\u001b[0m\u001b[0m\n\u001b[1;32m    694\u001b[0m         \u001b[0;31m# Get the appropriate adapter to use\u001b[0m\u001b[0;34m\u001b[0m\u001b[0;34m\u001b[0m\u001b[0m\n\u001b[0;32m--> 695\u001b[0;31m         \u001b[0madapter\u001b[0m \u001b[0;34m=\u001b[0m \u001b[0mself\u001b[0m\u001b[0;34m.\u001b[0m\u001b[0mget_adapter\u001b[0m\u001b[0;34m(\u001b[0m\u001b[0murl\u001b[0m\u001b[0;34m=\u001b[0m\u001b[0mrequest\u001b[0m\u001b[0;34m.\u001b[0m\u001b[0murl\u001b[0m\u001b[0;34m)\u001b[0m\u001b[0;34m\u001b[0m\u001b[0;34m\u001b[0m\u001b[0m\n\u001b[0m\u001b[1;32m    696\u001b[0m \u001b[0;34m\u001b[0m\u001b[0m\n\u001b[1;32m    697\u001b[0m         \u001b[0;31m# Start time (approximately) of the request\u001b[0m\u001b[0;34m\u001b[0m\u001b[0;34m\u001b[0m\u001b[0m\n",
      "\u001b[0;32m~/opt/anaconda3/lib/python3.9/site-packages/requests/sessions.py\u001b[0m in \u001b[0;36mget_adapter\u001b[0;34m(self, url)\u001b[0m\n\u001b[1;32m    790\u001b[0m \u001b[0;34m\u001b[0m\u001b[0m\n\u001b[1;32m    791\u001b[0m         \u001b[0;31m# Nothing matches :-/\u001b[0m\u001b[0;34m\u001b[0m\u001b[0;34m\u001b[0m\u001b[0m\n\u001b[0;32m--> 792\u001b[0;31m         \u001b[0;32mraise\u001b[0m \u001b[0mInvalidSchema\u001b[0m\u001b[0;34m(\u001b[0m\u001b[0;34mf\"No connection adapters were found for {url!r}\"\u001b[0m\u001b[0;34m)\u001b[0m\u001b[0;34m\u001b[0m\u001b[0;34m\u001b[0m\u001b[0m\n\u001b[0m\u001b[1;32m    793\u001b[0m \u001b[0;34m\u001b[0m\u001b[0m\n\u001b[1;32m    794\u001b[0m     \u001b[0;32mdef\u001b[0m \u001b[0mclose\u001b[0m\u001b[0;34m(\u001b[0m\u001b[0mself\u001b[0m\u001b[0;34m)\u001b[0m\u001b[0;34m:\u001b[0m\u001b[0;34m\u001b[0m\u001b[0;34m\u001b[0m\u001b[0m\n",
      "\u001b[0;31mInvalidSchema\u001b[0m: No connection adapters were found for \"['https://api.govinfo.gov/packages/BILLS-116hr561eh/summary']\""
     ]
    }
   ],
   "source": [
    "# Make a request to the API\n",
    "response0 = requests.get(links[2:3], params=params)"
   ]
  },
  {
   "cell_type": "code",
   "execution_count": null,
   "id": "5fbe737d-0acd-4633-8a1f-109f97621d8e",
   "metadata": {},
   "outputs": [],
   "source": [
    "# Convert the response to JSON\n",
    "data0 = response.json()"
   ]
  },
  {
   "cell_type": "code",
   "execution_count": null,
   "id": "a5e639b6-a331-4d0b-bc93-a310dca53dc9",
   "metadata": {
    "collapsed": true,
    "jupyter": {
     "outputs_hidden": true
    },
    "tags": []
   },
   "outputs": [
    {
     "data": {
      "text/plain": [
       "{'originChamber': 'HOUSE',\n",
       " 'references': [{'contents': [{'label': 'U.S.C',\n",
       "     'title': '15',\n",
       "     'sections': ['632']}],\n",
       "   'collectionCode': 'USCODE',\n",
       "   'collectionName': 'U.S. Code'}],\n",
       " 'congress': '116',\n",
       " 'session': '2',\n",
       " 'detailsLink': 'https://www.govinfo.gov/app/details/BILLS-116hr5273rh',\n",
       " 'shortTitle': [{'type': 'measure', 'title': 'Securing America’s Ports Act'}],\n",
       " 'isPrivate': 'false',\n",
       " 'title': 'To require the Secretary of Homeland Security to develop a plan to increase to 100 percent the rates of scanning of commercial and passenger vehicles entering the United States at land ports of entry along the border using large-scale non-intrusive inspection systems to enhance border security, and for other purposes.',\n",
       " 'branch': 'legislative',\n",
       " 'isAppropriation': 'false',\n",
       " 'collectionName': 'Congressional Bills',\n",
       " 'download': {'premisLink': 'https://api.govinfo.gov/packages/BILLS-116hr5273rh/premis',\n",
       "  'xmlLink': 'https://api.govinfo.gov/packages/BILLS-116hr5273rh/xml',\n",
       "  'txtLink': 'https://api.govinfo.gov/packages/BILLS-116hr5273rh/htm',\n",
       "  'zipLink': 'https://api.govinfo.gov/packages/BILLS-116hr5273rh/zip',\n",
       "  'modsLink': 'https://api.govinfo.gov/packages/BILLS-116hr5273rh/mods',\n",
       "  'pdfLink': 'https://api.govinfo.gov/packages/BILLS-116hr5273rh/pdf'},\n",
       " 'pages': '10',\n",
       " 'related': {'billStatusLink': 'https://www.govinfo.gov/bulkdata/BILLSTATUS/116/hr/BILLSTATUS-116hr5273.xml'},\n",
       " 'relatedLink': 'https://api.govinfo.gov/related/BILLS-116hr5273rh',\n",
       " 'members': [{'role': 'SPONSOR',\n",
       "   'chamber': 'H',\n",
       "   'congress': '116',\n",
       "   'bioGuideId': 'T000484',\n",
       "   'memberName': 'Torres Small, Xochitl',\n",
       "   'state': 'NM',\n",
       "   'party': 'D'},\n",
       "  {'role': 'COSPONSOR',\n",
       "   'chamber': 'H',\n",
       "   'congress': '116',\n",
       "   'bioGuideId': 'C001120',\n",
       "   'memberName': 'Crenshaw, Dan',\n",
       "   'state': 'TX',\n",
       "   'party': 'R'},\n",
       "  {'role': 'COSPONSOR',\n",
       "   'chamber': 'H',\n",
       "   'congress': '116',\n",
       "   'bioGuideId': 'S001208',\n",
       "   'memberName': 'Slotkin, Elissa',\n",
       "   'state': 'MI',\n",
       "   'party': 'D'},\n",
       "  {'role': 'COSPONSOR',\n",
       "   'chamber': 'H',\n",
       "   'congress': '116',\n",
       "   'bioGuideId': 'H001090',\n",
       "   'memberName': 'Harder, Josh',\n",
       "   'state': 'CA',\n",
       "   'party': 'D'},\n",
       "  {'role': 'COSPONSOR',\n",
       "   'chamber': 'H',\n",
       "   'congress': '116',\n",
       "   'bioGuideId': 'A000369',\n",
       "   'memberName': 'Amodei, Mark E.',\n",
       "   'state': 'NV',\n",
       "   'party': 'R'},\n",
       "  {'role': 'COSPONSOR',\n",
       "   'chamber': 'H',\n",
       "   'congress': '116',\n",
       "   'bioGuideId': 'G000581',\n",
       "   'memberName': 'Gonzalez, Vicente',\n",
       "   'state': 'TX',\n",
       "   'party': 'D'},\n",
       "  {'role': 'COSPONSOR',\n",
       "   'chamber': 'H',\n",
       "   'congress': '116',\n",
       "   'bioGuideId': 'R000602',\n",
       "   'memberName': 'Rice, Kathleen M.',\n",
       "   'state': 'NY',\n",
       "   'party': 'D'},\n",
       "  {'role': 'COSPONSOR',\n",
       "   'chamber': 'H',\n",
       "   'congress': '116',\n",
       "   'bioGuideId': 'C001110',\n",
       "   'memberName': 'Correa, J. Luis',\n",
       "   'state': 'CA',\n",
       "   'party': 'D'},\n",
       "  {'role': 'COSPONSOR',\n",
       "   'chamber': 'H',\n",
       "   'congress': '116',\n",
       "   'bioGuideId': 'S001209',\n",
       "   'memberName': 'Spanberger, Abigail Davis',\n",
       "   'state': 'VA',\n",
       "   'party': 'D'},\n",
       "  {'role': 'COSPONSOR',\n",
       "   'chamber': 'H',\n",
       "   'congress': '116',\n",
       "   'bioGuideId': 'L000589',\n",
       "   'memberName': 'Lesko, Debbie',\n",
       "   'state': 'AZ',\n",
       "   'party': 'R'}],\n",
       " 'suDocClassNumber': 'Y 1.6:, Y 1.4/6:',\n",
       " 'dateIssued': '2020-02-06',\n",
       " 'currentChamber': 'HOUSE',\n",
       " 'billVersion': 'rh',\n",
       " 'billType': 'hr',\n",
       " 'packageId': 'BILLS-116hr5273rh',\n",
       " 'committees': [{'authorityId': 'hshm00',\n",
       "   'chamber': 'H',\n",
       "   'committeeName': 'Committee on Homeland Security',\n",
       "   'type': 'S'}],\n",
       " 'collectionCode': 'BILLS',\n",
       " 'governmentAuthor2': 'House of Representatives',\n",
       " 'governmentAuthor1': 'Congress',\n",
       " 'publisher': 'U.S. Government Publishing Office',\n",
       " 'docClass': 'hr',\n",
       " 'lastModified': '2023-01-01T01:00:56Z',\n",
       " 'category': 'Bills and Statutes',\n",
       " 'billNumber': '5273',\n",
       " 'otherIdentifier': {'migrated-doc-id': 'f:h5273_rh.txt',\n",
       "  'parent-ils-system-id': '000501532',\n",
       "  'child-ils-title': 'House bills',\n",
       "  'parent-ils-title': 'Congressional bills',\n",
       "  'child-ils-system-id': '000325573',\n",
       "  'stock-number': '021-610-00252-9'}}"
      ]
     },
     "execution_count": 61,
     "metadata": {},
     "output_type": "execute_result"
    }
   ],
   "source": [
    "master_list = []"
   ]
  },
  {
   "cell_type": "code",
   "execution_count": 13,
   "id": "8a7be22a-f7b1-4066-b1e9-ff965773a67c",
   "metadata": {},
   "outputs": [
    {
     "data": {
      "text/plain": [
       "'Torres Small, Xochitl'"
      ]
     },
     "execution_count": 13,
     "metadata": {},
     "output_type": "execute_result"
    }
   ],
   "source": [
    "member = data['members'][0]['memberName']"
   ]
  },
  {
   "cell_type": "code",
   "execution_count": 14,
   "id": "cabbfed3-35b4-4682-96bc-20a2f0bb404b",
   "metadata": {},
   "outputs": [
    {
     "data": {
      "text/plain": [
       "'D'"
      ]
     },
     "execution_count": 14,
     "metadata": {},
     "output_type": "execute_result"
    }
   ],
   "source": [
    "party = data['members'][0]['party']"
   ]
  },
  {
   "cell_type": "code",
   "execution_count": 17,
   "id": "d638d454-e2f2-4540-872c-8590399d11ed",
   "metadata": {},
   "outputs": [],
   "source": [
    "link_to_bill = data['download']['txtLink']"
   ]
  },
  {
   "cell_type": "code",
   "execution_count": 64,
   "id": "334df6ea-e297-4163-9ca3-48b0e4063da2",
   "metadata": {
    "tags": []
   },
   "outputs": [],
   "source": [
    "response = requests.get(link_to_bill, params=params)"
   ]
  },
  {
   "cell_type": "code",
   "execution_count": 26,
   "id": "d3056fdc-0205-4518-b283-2db3b8273a3c",
   "metadata": {},
   "outputs": [],
   "source": [
    "# Make a soup variable holding the response content\n",
    "soup = BeautifulSoup(response.text, 'html.parser')"
   ]
  },
  {
   "cell_type": "code",
   "execution_count": 83,
   "id": "a1d857cd-a1c3-4040-9982-13eed958427c",
   "metadata": {},
   "outputs": [],
   "source": [
    "text_of_bill = soup.find('body')"
   ]
  },
  {
   "cell_type": "code",
   "execution_count": null,
   "id": "095187a0-6833-4c5b-8996-b44aeec083a3",
   "metadata": {},
   "outputs": [],
   "source": [
    "temp_dictionary = {\"sponsor\":member,\n",
    "                   \"party\":party,\n",
    "                   \"bill_text\":text_of_bill}"
   ]
  },
  {
   "cell_type": "code",
   "execution_count": null,
   "id": "58b36c12-605b-4f76-9325-a20ae01506e1",
   "metadata": {},
   "outputs": [],
   "source": [
    "#Try reading the response using pandas"
   ]
  },
  {
   "cell_type": "code",
   "execution_count": 90,
   "id": "9c9412e0-4527-4b46-9b7c-261f213d2035",
   "metadata": {
    "jupyter": {
     "source_hidden": true
    },
    "tags": []
   },
   "outputs": [
    {
     "data": {
      "text/plain": [
       "<body><pre>\n",
       "[Congressional Bills 116th Congress]\n",
       "[From the U.S. Government Publishing Office]\n",
       "[H.R. 5273 Reported in House (RH)]\n",
       "\n",
       "&lt;DOC&gt;\n",
       "\n",
       "\n",
       "\n",
       "\n",
       "\n",
       "                                                 Union Calendar No. 317\n",
       "116th CONGRESS\n",
       "  2d Session\n",
       "                                H. R. 5273\n",
       "\n",
       "                          [Report No. 116-394]\n",
       "\n",
       "  To require the Secretary of Homeland Security to develop a plan to \n",
       "    increase to 100 percent the rates of scanning of commercial and \n",
       " passenger vehicles entering the United States at land ports of entry \n",
       "along the border using large-scale non-intrusive inspection systems to \n",
       "            enhance border security, and for other purposes.\n",
       "\n",
       "\n",
       "_______________________________________________________________________\n",
       "\n",
       "\n",
       "                    IN THE HOUSE OF REPRESENTATIVES\n",
       "\n",
       "                           November 26, 2019\n",
       "\n",
       "     Ms. Torres Small of New Mexico (for herself and Mr. Crenshaw) \n",
       " introduced the following bill; which was referred to the Committee on \n",
       "                           Homeland Security\n",
       "\n",
       "                            February 6, 2020\n",
       "\n",
       "Additional sponsors: Ms. Slotkin, Mr. Harder of California, Mr. Amodei, \n",
       "     Mr. Gonzalez of Texas, Miss Rice of New York, Mr. Correa, Ms. \n",
       "                       Spanberger, and Mrs. Lesko\n",
       "\n",
       "                            February 6, 2020\n",
       "\n",
       "  Reported with an amendment, committed to the Committee of the Whole \n",
       "       House on the State of the Union, and ordered to be printed\n",
       " [Strike out all after the enacting clause and insert the part printed \n",
       "                               in italic]\n",
       "    [For text of introduced bill, see copy of bill as introduced on \n",
       "                           November 26, 2019]\n",
       "\n",
       "\n",
       "_______________________________________________________________________\n",
       "\n",
       "                                 A BILL\n",
       "\n",
       "\n",
       " \n",
       "  To require the Secretary of Homeland Security to develop a plan to \n",
       "    increase to 100 percent the rates of scanning of commercial and \n",
       " passenger vehicles entering the United States at land ports of entry \n",
       "along the border using large-scale non-intrusive inspection systems to \n",
       "            enhance border security, and for other purposes.\n",
       "\n",
       "\n",
       " \n",
       "\n",
       "\n",
       "    Be it enacted by the Senate and House of Representatives of the \n",
       "United States of America in Congress assembled,\n",
       "\n",
       "SECTION 1. SHORT TITLE.\n",
       "\n",
       "    This Act may be cited as the ``Securing America's Ports Act''.\n",
       "\n",
       "SEC. 2. LARGE-SCALE NON-INTRUSIVE INSPECTION SCANNING PLAN.\n",
       "\n",
       "    (a) In General.--Not later than 180 days after the date of the \n",
       "enactment of this Act, the Secretary of Homeland Security shall submit \n",
       "to the Committee on Homeland Security of the House of Representatives \n",
       "and the Committee on Homeland Security and Governmental Affairs of the \n",
       "Senate a plan to increase to 100 percent the rates of expeditious \n",
       "scanning of commercial and passenger vehicles entering the United \n",
       "States at land ports of entry along the border using large-scale non-\n",
       "intrusive inspection systems or similar technology to enhance border \n",
       "security.\n",
       "    (b) Baseline Information.--At a minimum, the plan required under \n",
       "subsection (a) shall include the following information regarding large-\n",
       "scale non-intrusive inspection systems or similar technology operated \n",
       "by U.S. Customs and Border Protection at land ports of entry as of the \n",
       "date of the enactment of this Act:\n",
       "            (1) An inventory of large-scale non-intrusive inspection \n",
       "        systems or similar technology in use at each land port of \n",
       "        entry.\n",
       "            (2) For each system or technology identified in the \n",
       "        inventory required under paragraph (1), the following \n",
       "        information:\n",
       "                    (A) The scanning method of such system or \n",
       "                technology.\n",
       "                    (B) The location of such system or technology at \n",
       "                each land port of entry that specifies whether in use \n",
       "                in pre-primary, primary, or secondary inspection area, \n",
       "                or some combination thereof.\n",
       "                    (C) The percentage of commercial and passenger \n",
       "                vehicles scanned by such system or technology.\n",
       "                    (D) Seizure data directly attributed to scanned \n",
       "                commercial and passenger vehicles.\n",
       "    (c) Elements.--The plan required under subsection (a) shall include \n",
       "the following information:\n",
       "            (1) Benchmarks for achieving incremental progress towards \n",
       "        100 percent expeditious scanning of commercial and passenger \n",
       "        vehicles entering the United States at land ports of entry \n",
       "        along the border with corresponding projected incremental \n",
       "        improvements in scanning rates by fiscal year and rationales \n",
       "        for the specified timeframes for each land port of entry.\n",
       "            (2) Estimated costs, together with an acquisition plan, for \n",
       "        achieving the 100 expeditious percent scanning rate within the \n",
       "        timeframes specified in paragraph (1), including acquisition, \n",
       "        operations, and maintenance costs for large-scale non-intrusive \n",
       "        inspection systems or similar technology, as well as associated \n",
       "        costs for any necessary infrastructure enhancements or \n",
       "        configuration changes at each port of entry. To the extent \n",
       "        practicable, such acquisition plan shall promote opportunities \n",
       "        for entities that qualify as small business concerns (as such \n",
       "        term is described under section 3 of the Small Business Act (15 \n",
       "        U.S.C. 632).\n",
       "            (3) Any projected impacts, as identified by the \n",
       "        Commissioner of U.S. Customs and Border Protection, on the \n",
       "        total number of commercial and passenger vehicles entering at \n",
       "        land ports of entry where such systems are in use, and average \n",
       "        wait times at peak and non-peak travel times, by lane type if \n",
       "        applicable, as scanning rates are increased.\n",
       "            (4) Any projected impacts, as identified by the \n",
       "        Commissioner of U.S. Customs and Border Protection, on land \n",
       "        ports of entry border security operations as a result of \n",
       "        implementation actions, including any changes to the number of \n",
       "        U.S. Customs and Border Protection officers or their duties and \n",
       "        assignments.\n",
       "    (d) Research and Development.--In furtherance of the plan required \n",
       "under subsection (a), the Secretary of Homeland Security, acting \n",
       "through the Under Secretary for Science and Technology, shall conduct \n",
       "research and development, in coordination with the Commissioner of U.S. \n",
       "Customs and Border Protection, to enhance large-scale non-intrusive \n",
       "inspections systems or similar technology and refine the operational \n",
       "use or configuration of such systems or technology in pre-primary, \n",
       "primary, and secondary inspection areas of land ports of entry. Such \n",
       "research and development shall include consideration of emerging large-\n",
       "scale non-intrusive inspection systems or similar technology and \n",
       "modeling the use of such systems or technology that takes into account \n",
       "the variations in infrastructure, configurations, and sizes of land \n",
       "ports of entry.\n",
       "    (e) Annual Report.--Not later than one year after the submission of \n",
       "the plan required under subsection (a) and annually thereafter until \n",
       "such time as U.S. Customs and Border Protection has achieved 100 \n",
       "percent expeditious scanning of commercial and passenger vehicles \n",
       "entering the United States at land ports of entry along the border \n",
       "using large-scale non-intrusive inspection systems or similar \n",
       "technology in accordance with such plan, the Secretary of Homeland \n",
       "Security shall report to the Committee on Homeland Security of the \n",
       "House of Representatives and the Committee on Homeland Security and \n",
       "Governmental Affairs of the Senate on progress implementing the plan. \n",
       "Each such report at a minimum shall include the following information:\n",
       "            (1) An inventory of large-scale non-intrusive inspection \n",
       "        systems or similar technology operated by U.S. Customs and \n",
       "        Border Protection at each land port of entry.\n",
       "            (2) For each system or technology identified in the \n",
       "        inventory required under paragraph (1), the following \n",
       "        information:\n",
       "                    (A) The scanning method of such system or \n",
       "                technology.\n",
       "                    (B) The location of such system or technology at \n",
       "                each land port of entry that specifies whether in use \n",
       "                in pre-primary, primary, or secondary inspection area, \n",
       "                or some combination thereof.\n",
       "                    (C) The percentage of commercial and passenger \n",
       "                vehicles scanned by such system or technology.\n",
       "                    (D) Seizure data directly attributed to scanned \n",
       "                commercial and passenger vehicles.\n",
       "            (3) The total number of commercial and passenger vehicles \n",
       "        entering at each land port of entry where each system or \n",
       "        technology is in use, and information on average wait times at \n",
       "        peak and non-peak travel times, by lane type if applicable.\n",
       "            (4) Progress with respect to the benchmarks specified in \n",
       "        subsection (c)(1), and an explanation if any of such benchmarks \n",
       "        are not achieved as planned.\n",
       "            (5) A comparison of actual costs (including information on \n",
       "        any awards of associated contracts) to estimated costs set \n",
       "        forth in subsection (c)(2).\n",
       "            (6) Any realized impacts, as identified by the Commissioner \n",
       "        of U.S. Customs and Border Protection, on land ports of entry \n",
       "        operations as a result of implementation actions, including any \n",
       "        changes to the number of U.S. Customs and Border Protection \n",
       "        officers or their duties and assignments.\n",
       "            (7) Any proposed changes to the plan and an explanation for \n",
       "        such changes, including changes made in response to any \n",
       "        Department of Homeland Security research and development \n",
       "        findings, including findings resulting from the research and \n",
       "        development conducted pursuant to subsection (d), or changes in \n",
       "        terrorist or transnational criminal organizations tactics, \n",
       "        techniques, or procedures.\n",
       "            (8) Any challenges to implementing the plan or meeting the \n",
       "        benchmarks, and plans to mitigate any such challenges.\n",
       "    (f) Definitions.--In this section:\n",
       "            (1) Large-scale non-intrusive inspection system.--The term \n",
       "        ``large-scale non-intrusive inspection system'' means a \n",
       "        technology, including x-ray and gamma-ray imaging systems, \n",
       "        capable of producing an image of the contents of a commercial \n",
       "        or passenger vehicle in one pass of such vehicle.\n",
       "            (2) Scanning.--The term ``scanning'' means utilizing \n",
       "        technology to produce an image of the contents of a commercial \n",
       "        or passenger vehicle without engaging in a physical inspection \n",
       "        of such vehicle.\n",
       "                                                 Union Calendar No. 317\n",
       "\n",
       "116th CONGRESS\n",
       "\n",
       "  2d Session\n",
       "\n",
       "                               H. R. 5273\n",
       "\n",
       "                          [Report No. 116-394]\n",
       "\n",
       "_______________________________________________________________________\n",
       "\n",
       "                                 A BILL\n",
       "\n",
       "  To require the Secretary of Homeland Security to develop a plan to \n",
       "    increase to 100 percent the rates of scanning of commercial and \n",
       " passenger vehicles entering the United States at land ports of entry \n",
       "along the border using large-scale non-intrusive inspection systems to \n",
       "            enhance border security, and for other purposes.\n",
       "\n",
       "_______________________________________________________________________\n",
       "\n",
       "                            February 6, 2020\n",
       "\n",
       "  Reported with an amendment, committed to the Committee of the Whole \n",
       "       House on the State of the Union, and ordered to be printed\n",
       "</pre></body>"
      ]
     },
     "execution_count": 90,
     "metadata": {},
     "output_type": "execute_result"
    }
   ],
   "source": [
    "text_of_bill"
   ]
  },
  {
   "cell_type": "markdown",
   "id": "9db95ba1-4375-4d95-b5a4-4c36f4289fcd",
   "metadata": {},
   "source": [
    "## Going to and from a file"
   ]
  },
  {
   "cell_type": "code",
   "execution_count": 91,
   "id": "013a3b6f-7439-45b2-8f80-d2c87c6ef14b",
   "metadata": {},
   "outputs": [],
   "source": [
    "pd.Series(text_of_bill.text).to_csv(\"testy_test_test.csv\", index=False)"
   ]
  },
  {
   "cell_type": "code",
   "execution_count": 92,
   "id": "bfcad65e-e961-44a9-8c5d-fda9e5e69c3a",
   "metadata": {},
   "outputs": [],
   "source": [
    "tests = pd.read_csv(\"testy_test_test.csv\")"
   ]
  },
  {
   "cell_type": "code",
   "execution_count": 93,
   "id": "241d7c9a-0671-48f2-8c4e-bf1174435201",
   "metadata": {},
   "outputs": [
    {
     "data": {
      "text/plain": [
       "50"
      ]
     },
     "execution_count": 93,
     "metadata": {},
     "output_type": "execute_result"
    }
   ],
   "source": [
    "pd.options.display.max_colwidth"
   ]
  },
  {
   "cell_type": "code",
   "execution_count": 100,
   "id": "fceebe57-5f15-41ed-8794-187d4dcb4a03",
   "metadata": {},
   "outputs": [],
   "source": [
    "maybe = str(tests['0'][0])"
   ]
  },
  {
   "cell_type": "code",
   "execution_count": 101,
   "id": "83b86a88-c13f-46e6-93dd-4aafeac6ea3d",
   "metadata": {
    "collapsed": true,
    "jupyter": {
     "outputs_hidden": true
    },
    "tags": []
   },
   "outputs": [
    {
     "data": {
      "text/plain": [
       "\"\\n[Congressional Bills 116th Congress]\\n[From the U.S. Government Publishing Office]\\n[H.R. 5273 Reported in House (RH)]\\n\\n<DOC>\\n\\n\\n\\n\\n\\n                                                 Union Calendar No. 317\\n116th CONGRESS\\n  2d Session\\n                                H. R. 5273\\n\\n                          [Report No. 116-394]\\n\\n  To require the Secretary of Homeland Security to develop a plan to \\n    increase to 100 percent the rates of scanning of commercial and \\n passenger vehicles entering the United States at land ports of entry \\nalong the border using large-scale non-intrusive inspection systems to \\n            enhance border security, and for other purposes.\\n\\n\\n_______________________________________________________________________\\n\\n\\n                    IN THE HOUSE OF REPRESENTATIVES\\n\\n                           November 26, 2019\\n\\n     Ms. Torres Small of New Mexico (for herself and Mr. Crenshaw) \\n introduced the following bill; which was referred to the Committee on \\n                           Homeland Security\\n\\n                            February 6, 2020\\n\\nAdditional sponsors: Ms. Slotkin, Mr. Harder of California, Mr. Amodei, \\n     Mr. Gonzalez of Texas, Miss Rice of New York, Mr. Correa, Ms. \\n                       Spanberger, and Mrs. Lesko\\n\\n                            February 6, 2020\\n\\n  Reported with an amendment, committed to the Committee of the Whole \\n       House on the State of the Union, and ordered to be printed\\n [Strike out all after the enacting clause and insert the part printed \\n                               in italic]\\n    [For text of introduced bill, see copy of bill as introduced on \\n                           November 26, 2019]\\n\\n\\n_______________________________________________________________________\\n\\n                                 A BILL\\n\\n\\n \\n  To require the Secretary of Homeland Security to develop a plan to \\n    increase to 100 percent the rates of scanning of commercial and \\n passenger vehicles entering the United States at land ports of entry \\nalong the border using large-scale non-intrusive inspection systems to \\n            enhance border security, and for other purposes.\\n\\n\\n \\n\\n\\n    Be it enacted by the Senate and House of Representatives of the \\nUnited States of America in Congress assembled,\\n\\nSECTION 1. SHORT TITLE.\\n\\n    This Act may be cited as the ``Securing America's Ports Act''.\\n\\nSEC. 2. LARGE-SCALE NON-INTRUSIVE INSPECTION SCANNING PLAN.\\n\\n    (a) In General.--Not later than 180 days after the date of the \\nenactment of this Act, the Secretary of Homeland Security shall submit \\nto the Committee on Homeland Security of the House of Representatives \\nand the Committee on Homeland Security and Governmental Affairs of the \\nSenate a plan to increase to 100 percent the rates of expeditious \\nscanning of commercial and passenger vehicles entering the United \\nStates at land ports of entry along the border using large-scale non-\\nintrusive inspection systems or similar technology to enhance border \\nsecurity.\\n    (b) Baseline Information.--At a minimum, the plan required under \\nsubsection (a) shall include the following information regarding large-\\nscale non-intrusive inspection systems or similar technology operated \\nby U.S. Customs and Border Protection at land ports of entry as of the \\ndate of the enactment of this Act:\\n            (1) An inventory of large-scale non-intrusive inspection \\n        systems or similar technology in use at each land port of \\n        entry.\\n            (2) For each system or technology identified in the \\n        inventory required under paragraph (1), the following \\n        information:\\n                    (A) The scanning method of such system or \\n                technology.\\n                    (B) The location of such system or technology at \\n                each land port of entry that specifies whether in use \\n                in pre-primary, primary, or secondary inspection area, \\n                or some combination thereof.\\n                    (C) The percentage of commercial and passenger \\n                vehicles scanned by such system or technology.\\n                    (D) Seizure data directly attributed to scanned \\n                commercial and passenger vehicles.\\n    (c) Elements.--The plan required under subsection (a) shall include \\nthe following information:\\n            (1) Benchmarks for achieving incremental progress towards \\n        100 percent expeditious scanning of commercial and passenger \\n        vehicles entering the United States at land ports of entry \\n        along the border with corresponding projected incremental \\n        improvements in scanning rates by fiscal year and rationales \\n        for the specified timeframes for each land port of entry.\\n            (2) Estimated costs, together with an acquisition plan, for \\n        achieving the 100 expeditious percent scanning rate within the \\n        timeframes specified in paragraph (1), including acquisition, \\n        operations, and maintenance costs for large-scale non-intrusive \\n        inspection systems or similar technology, as well as associated \\n        costs for any necessary infrastructure enhancements or \\n        configuration changes at each port of entry. To the extent \\n        practicable, such acquisition plan shall promote opportunities \\n        for entities that qualify as small business concerns (as such \\n        term is described under section 3 of the Small Business Act (15 \\n        U.S.C. 632).\\n            (3) Any projected impacts, as identified by the \\n        Commissioner of U.S. Customs and Border Protection, on the \\n        total number of commercial and passenger vehicles entering at \\n        land ports of entry where such systems are in use, and average \\n        wait times at peak and non-peak travel times, by lane type if \\n        applicable, as scanning rates are increased.\\n            (4) Any projected impacts, as identified by the \\n        Commissioner of U.S. Customs and Border Protection, on land \\n        ports of entry border security operations as a result of \\n        implementation actions, including any changes to the number of \\n        U.S. Customs and Border Protection officers or their duties and \\n        assignments.\\n    (d) Research and Development.--In furtherance of the plan required \\nunder subsection (a), the Secretary of Homeland Security, acting \\nthrough the Under Secretary for Science and Technology, shall conduct \\nresearch and development, in coordination with the Commissioner of U.S. \\nCustoms and Border Protection, to enhance large-scale non-intrusive \\ninspections systems or similar technology and refine the operational \\nuse or configuration of such systems or technology in pre-primary, \\nprimary, and secondary inspection areas of land ports of entry. Such \\nresearch and development shall include consideration of emerging large-\\nscale non-intrusive inspection systems or similar technology and \\nmodeling the use of such systems or technology that takes into account \\nthe variations in infrastructure, configurations, and sizes of land \\nports of entry.\\n    (e) Annual Report.--Not later than one year after the submission of \\nthe plan required under subsection (a) and annually thereafter until \\nsuch time as U.S. Customs and Border Protection has achieved 100 \\npercent expeditious scanning of commercial and passenger vehicles \\nentering the United States at land ports of entry along the border \\nusing large-scale non-intrusive inspection systems or similar \\ntechnology in accordance with such plan, the Secretary of Homeland \\nSecurity shall report to the Committee on Homeland Security of the \\nHouse of Representatives and the Committee on Homeland Security and \\nGovernmental Affairs of the Senate on progress implementing the plan. \\nEach such report at a minimum shall include the following information:\\n            (1) An inventory of large-scale non-intrusive inspection \\n        systems or similar technology operated by U.S. Customs and \\n        Border Protection at each land port of entry.\\n            (2) For each system or technology identified in the \\n        inventory required under paragraph (1), the following \\n        information:\\n                    (A) The scanning method of such system or \\n                technology.\\n                    (B) The location of such system or technology at \\n                each land port of entry that specifies whether in use \\n                in pre-primary, primary, or secondary inspection area, \\n                or some combination thereof.\\n                    (C) The percentage of commercial and passenger \\n                vehicles scanned by such system or technology.\\n                    (D) Seizure data directly attributed to scanned \\n                commercial and passenger vehicles.\\n            (3) The total number of commercial and passenger vehicles \\n        entering at each land port of entry where each system or \\n        technology is in use, and information on average wait times at \\n        peak and non-peak travel times, by lane type if applicable.\\n            (4) Progress with respect to the benchmarks specified in \\n        subsection (c)(1), and an explanation if any of such benchmarks \\n        are not achieved as planned.\\n            (5) A comparison of actual costs (including information on \\n        any awards of associated contracts) to estimated costs set \\n        forth in subsection (c)(2).\\n            (6) Any realized impacts, as identified by the Commissioner \\n        of U.S. Customs and Border Protection, on land ports of entry \\n        operations as a result of implementation actions, including any \\n        changes to the number of U.S. Customs and Border Protection \\n        officers or their duties and assignments.\\n            (7) Any proposed changes to the plan and an explanation for \\n        such changes, including changes made in response to any \\n        Department of Homeland Security research and development \\n        findings, including findings resulting from the research and \\n        development conducted pursuant to subsection (d), or changes in \\n        terrorist or transnational criminal organizations tactics, \\n        techniques, or procedures.\\n            (8) Any challenges to implementing the plan or meeting the \\n        benchmarks, and plans to mitigate any such challenges.\\n    (f) Definitions.--In this section:\\n            (1) Large-scale non-intrusive inspection system.--The term \\n        ``large-scale non-intrusive inspection system'' means a \\n        technology, including x-ray and gamma-ray imaging systems, \\n        capable of producing an image of the contents of a commercial \\n        or passenger vehicle in one pass of such vehicle.\\n            (2) Scanning.--The term ``scanning'' means utilizing \\n        technology to produce an image of the contents of a commercial \\n        or passenger vehicle without engaging in a physical inspection \\n        of such vehicle.\\n                                                 Union Calendar No. 317\\n\\n116th CONGRESS\\n\\n  2d Session\\n\\n                               H. R. 5273\\n\\n                          [Report No. 116-394]\\n\\n_______________________________________________________________________\\n\\n                                 A BILL\\n\\n  To require the Secretary of Homeland Security to develop a plan to \\n    increase to 100 percent the rates of scanning of commercial and \\n passenger vehicles entering the United States at land ports of entry \\nalong the border using large-scale non-intrusive inspection systems to \\n            enhance border security, and for other purposes.\\n\\n_______________________________________________________________________\\n\\n                            February 6, 2020\\n\\n  Reported with an amendment, committed to the Committee of the Whole \\n       House on the State of the Union, and ordered to be printed\\n\""
      ]
     },
     "execution_count": 101,
     "metadata": {},
     "output_type": "execute_result"
    }
   ],
   "source": [
    "maybe"
   ]
  },
  {
   "cell_type": "code",
   "execution_count": 52,
   "id": "fd3ad5c1-aff9-4583-b1f6-24e11d6d508e",
   "metadata": {},
   "outputs": [
    {
     "data": {
      "text/html": [
       "<div>\n",
       "<style scoped>\n",
       "    .dataframe tbody tr th:only-of-type {\n",
       "        vertical-align: middle;\n",
       "    }\n",
       "\n",
       "    .dataframe tbody tr th {\n",
       "        vertical-align: top;\n",
       "    }\n",
       "\n",
       "    .dataframe thead th {\n",
       "        text-align: right;\n",
       "    }\n",
       "</style>\n",
       "<table border=\"1\" class=\"dataframe\">\n",
       "  <thead>\n",
       "    <tr style=\"text-align: right;\">\n",
       "      <th></th>\n",
       "      <th>Unnamed: 0</th>\n",
       "      <th>0</th>\n",
       "    </tr>\n",
       "  </thead>\n",
       "  <tbody>\n",
       "    <tr>\n",
       "      <th>0</th>\n",
       "      <td>0</td>\n",
       "      <td>&lt;body&gt;&lt;pre&gt;\\n[Congressional Bills 116th Congre...</td>\n",
       "    </tr>\n",
       "  </tbody>\n",
       "</table>\n",
       "</div>"
      ],
      "text/plain": [
       "   Unnamed: 0                                                  0\n",
       "0           0  <body><pre>\\n[Congressional Bills 116th Congre..."
      ]
     },
     "execution_count": 52,
     "metadata": {},
     "output_type": "execute_result"
    }
   ],
   "source": [
    "tests.head()"
   ]
  },
  {
   "cell_type": "code",
   "execution_count": 24,
   "id": "a6a04556-1315-4bef-b207-5cae618fdb49",
   "metadata": {
    "collapsed": true,
    "jupyter": {
     "outputs_hidden": true
    },
    "tags": []
   },
   "outputs": [
    {
     "data": {
      "text/plain": [
       "\"<html><body><pre>\\n[Congressional Bills 116th Congress]\\n[From the U.S. Government Publishing Office]\\n[H.R. 5273 Reported in House (RH)]\\n\\n&lt;DOC&gt;\\n\\n\\n\\n\\n\\n                                                 Union Calendar No. 317\\n116th CONGRESS\\n  2d Session\\n                                H. R. 5273\\n\\n                          [Report No. 116-394]\\n\\n  To require the Secretary of Homeland Security to develop a plan to \\n    increase to 100 percent the rates of scanning of commercial and \\n passenger vehicles entering the United States at land ports of entry \\nalong the border using large-scale non-intrusive inspection systems to \\n            enhance border security, and for other purposes.\\n\\n\\n_______________________________________________________________________\\n\\n\\n                    IN THE HOUSE OF REPRESENTATIVES\\n\\n                           November 26, 2019\\n\\n     Ms. Torres Small of New Mexico (for herself and Mr. Crenshaw) \\n introduced the following bill; which was referred to the Committee on \\n                           Homeland Security\\n\\n                            February 6, 2020\\n\\nAdditional sponsors: Ms. Slotkin, Mr. Harder of California, Mr. Amodei, \\n     Mr. Gonzalez of Texas, Miss Rice of New York, Mr. Correa, Ms. \\n                       Spanberger, and Mrs. Lesko\\n\\n                            February 6, 2020\\n\\n  Reported with an amendment, committed to the Committee of the Whole \\n       House on the State of the Union, and ordered to be printed\\n [Strike out all after the enacting clause and insert the part printed \\n                               in italic]\\n    [For text of introduced bill, see copy of bill as introduced on \\n                           November 26, 2019]\\n\\n\\n_______________________________________________________________________\\n\\n                                 A BILL\\n\\n\\n \\n  To require the Secretary of Homeland Security to develop a plan to \\n    increase to 100 percent the rates of scanning of commercial and \\n passenger vehicles entering the United States at land ports of entry \\nalong the border using large-scale non-intrusive inspection systems to \\n            enhance border security, and for other purposes.\\n\\n\\n \\n\\n\\n    Be it enacted by the Senate and House of Representatives of the \\nUnited States of America in Congress assembled,\\n\\nSECTION 1. SHORT TITLE.\\n\\n    This Act may be cited as the ``Securing America's Ports Act''.\\n\\nSEC. 2. LARGE-SCALE NON-INTRUSIVE INSPECTION SCANNING PLAN.\\n\\n    (a) In General.--Not later than 180 days after the date of the \\nenactment of this Act, the Secretary of Homeland Security shall submit \\nto the Committee on Homeland Security of the House of Representatives \\nand the Committee on Homeland Security and Governmental Affairs of the \\nSenate a plan to increase to 100 percent the rates of expeditious \\nscanning of commercial and passenger vehicles entering the United \\nStates at land ports of entry along the border using large-scale non-\\nintrusive inspection systems or similar technology to enhance border \\nsecurity.\\n    (b) Baseline Information.--At a minimum, the plan required under \\nsubsection (a) shall include the following information regarding large-\\nscale non-intrusive inspection systems or similar technology operated \\nby U.S. Customs and Border Protection at land ports of entry as of the \\ndate of the enactment of this Act:\\n            (1) An inventory of large-scale non-intrusive inspection \\n        systems or similar technology in use at each land port of \\n        entry.\\n            (2) For each system or technology identified in the \\n        inventory required under paragraph (1), the following \\n        information:\\n                    (A) The scanning method of such system or \\n                technology.\\n                    (B) The location of such system or technology at \\n                each land port of entry that specifies whether in use \\n                in pre-primary, primary, or secondary inspection area, \\n                or some combination thereof.\\n                    (C) The percentage of commercial and passenger \\n                vehicles scanned by such system or technology.\\n                    (D) Seizure data directly attributed to scanned \\n                commercial and passenger vehicles.\\n    (c) Elements.--The plan required under subsection (a) shall include \\nthe following information:\\n            (1) Benchmarks for achieving incremental progress towards \\n        100 percent expeditious scanning of commercial and passenger \\n        vehicles entering the United States at land ports of entry \\n        along the border with corresponding projected incremental \\n        improvements in scanning rates by fiscal year and rationales \\n        for the specified timeframes for each land port of entry.\\n            (2) Estimated costs, together with an acquisition plan, for \\n        achieving the 100 expeditious percent scanning rate within the \\n        timeframes specified in paragraph (1), including acquisition, \\n        operations, and maintenance costs for large-scale non-intrusive \\n        inspection systems or similar technology, as well as associated \\n        costs for any necessary infrastructure enhancements or \\n        configuration changes at each port of entry. To the extent \\n        practicable, such acquisition plan shall promote opportunities \\n        for entities that qualify as small business concerns (as such \\n        term is described under section 3 of the Small Business Act (15 \\n        U.S.C. 632).\\n            (3) Any projected impacts, as identified by the \\n        Commissioner of U.S. Customs and Border Protection, on the \\n        total number of commercial and passenger vehicles entering at \\n        land ports of entry where such systems are in use, and average \\n        wait times at peak and non-peak travel times, by lane type if \\n        applicable, as scanning rates are increased.\\n            (4) Any projected impacts, as identified by the \\n        Commissioner of U.S. Customs and Border Protection, on land \\n        ports of entry border security operations as a result of \\n        implementation actions, including any changes to the number of \\n        U.S. Customs and Border Protection officers or their duties and \\n        assignments.\\n    (d) Research and Development.--In furtherance of the plan required \\nunder subsection (a), the Secretary of Homeland Security, acting \\nthrough the Under Secretary for Science and Technology, shall conduct \\nresearch and development, in coordination with the Commissioner of U.S. \\nCustoms and Border Protection, to enhance large-scale non-intrusive \\ninspections systems or similar technology and refine the operational \\nuse or configuration of such systems or technology in pre-primary, \\nprimary, and secondary inspection areas of land ports of entry. Such \\nresearch and development shall include consideration of emerging large-\\nscale non-intrusive inspection systems or similar technology and \\nmodeling the use of such systems or technology that takes into account \\nthe variations in infrastructure, configurations, and sizes of land \\nports of entry.\\n    (e) Annual Report.--Not later than one year after the submission of \\nthe plan required under subsection (a) and annually thereafter until \\nsuch time as U.S. Customs and Border Protection has achieved 100 \\npercent expeditious scanning of commercial and passenger vehicles \\nentering the United States at land ports of entry along the border \\nusing large-scale non-intrusive inspection systems or similar \\ntechnology in accordance with such plan, the Secretary of Homeland \\nSecurity shall report to the Committee on Homeland Security of the \\nHouse of Representatives and the Committee on Homeland Security and \\nGovernmental Affairs of the Senate on progress implementing the plan. \\nEach such report at a minimum shall include the following information:\\n            (1) An inventory of large-scale non-intrusive inspection \\n        systems or similar technology operated by U.S. Customs and \\n        Border Protection at each land port of entry.\\n            (2) For each system or technology identified in the \\n        inventory required under paragraph (1), the following \\n        information:\\n                    (A) The scanning method of such system or \\n                technology.\\n                    (B) The location of such system or technology at \\n                each land port of entry that specifies whether in use \\n                in pre-primary, primary, or secondary inspection area, \\n                or some combination thereof.\\n                    (C) The percentage of commercial and passenger \\n                vehicles scanned by such system or technology.\\n                    (D) Seizure data directly attributed to scanned \\n                commercial and passenger vehicles.\\n            (3) The total number of commercial and passenger vehicles \\n        entering at each land port of entry where each system or \\n        technology is in use, and information on average wait times at \\n        peak and non-peak travel times, by lane type if applicable.\\n            (4) Progress with respect to the benchmarks specified in \\n        subsection (c)(1), and an explanation if any of such benchmarks \\n        are not achieved as planned.\\n            (5) A comparison of actual costs (including information on \\n        any awards of associated contracts) to estimated costs set \\n        forth in subsection (c)(2).\\n            (6) Any realized impacts, as identified by the Commissioner \\n        of U.S. Customs and Border Protection, on land ports of entry \\n        operations as a result of implementation actions, including any \\n        changes to the number of U.S. Customs and Border Protection \\n        officers or their duties and assignments.\\n            (7) Any proposed changes to the plan and an explanation for \\n        such changes, including changes made in response to any \\n        Department of Homeland Security research and development \\n        findings, including findings resulting from the research and \\n        development conducted pursuant to subsection (d), or changes in \\n        terrorist or transnational criminal organizations tactics, \\n        techniques, or procedures.\\n            (8) Any challenges to implementing the plan or meeting the \\n        benchmarks, and plans to mitigate any such challenges.\\n    (f) Definitions.--In this section:\\n            (1) Large-scale non-intrusive inspection system.--The term \\n        ``large-scale non-intrusive inspection system'' means a \\n        technology, including x-ray and gamma-ray imaging systems, \\n        capable of producing an image of the contents of a commercial \\n        or passenger vehicle in one pass of such vehicle.\\n            (2) Scanning.--The term ``scanning'' means utilizing \\n        technology to produce an image of the contents of a commercial \\n        or passenger vehicle without engaging in a physical inspection \\n        of such vehicle.\\n                                                 Union Calendar No. 317\\n\\n116th CONGRESS\\n\\n  2d Session\\n\\n                               H. R. 5273\\n\\n                          [Report No. 116-394]\\n\\n_______________________________________________________________________\\n\\n                                 A BILL\\n\\n  To require the Secretary of Homeland Security to develop a plan to \\n    increase to 100 percent the rates of scanning of commercial and \\n passenger vehicles entering the United States at land ports of entry \\nalong the border using large-scale non-intrusive inspection systems to \\n            enhance border security, and for other purposes.\\n\\n_______________________________________________________________________\\n\\n                            February 6, 2020\\n\\n  Reported with an amendment, committed to the Committee of the Whole \\n       House on the State of the Union, and ordered to be printed\\n</pre></body></html>\\n\""
      ]
     },
     "execution_count": 24,
     "metadata": {},
     "output_type": "execute_result"
    }
   ],
   "source": [
    "response.text"
   ]
  },
  {
   "cell_type": "code",
   "execution_count": null,
   "id": "93d05c19-7fc1-488a-a57d-d6492adbc74c",
   "metadata": {},
   "outputs": [],
   "source": []
  }
 ],
 "metadata": {
  "kernelspec": {
   "display_name": "Python 3 (ipykernel)",
   "language": "python",
   "name": "python3"
  },
  "language_info": {
   "codemirror_mode": {
    "name": "ipython",
    "version": 3
   },
   "file_extension": ".py",
   "mimetype": "text/x-python",
   "name": "python",
   "nbconvert_exporter": "python",
   "pygments_lexer": "ipython3",
   "version": "3.9.15"
  }
 },
 "nbformat": 4,
 "nbformat_minor": 5
}
