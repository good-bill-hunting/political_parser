{
 "cells": [
  {
   "cell_type": "code",
   "execution_count": 464,
   "id": "b660ad63",
   "metadata": {},
   "outputs": [],
   "source": [
    "import warnings\n",
    "warnings.filterwarnings(\"ignore\")\n",
    "import pandas as pd\n",
    "import numpy as np\n",
    "from env import api_key\n",
    "import requests\n",
    "import json\n",
    "from acquire import *\n",
    "from bs4 import BeautifulSoup\n",
    "import os\n",
    "import re\n",
    "from prepare import *\n",
    "import IPython\n",
    "import matplotlib.pyplot as plt\n",
    "from sklearn.feature_extraction.text import TfidfVectorizer\n",
    "import plotly.express as px\n",
    "from plotly.subplots import make_subplots\n",
    "import plotly.graph_objects as go\n",
    "import seaborn as sns\n"
   ]
  },
  {
   "cell_type": "code",
   "execution_count": 451,
   "id": "ccdf23d8",
   "metadata": {},
   "outputs": [],
   "source": [
    "from sklearn.preprocessing import MinMaxScaler, StandardScaler, MaxAbsScaler"
   ]
  },
  {
   "cell_type": "code",
   "execution_count": 2,
   "id": "018edce8",
   "metadata": {},
   "outputs": [],
   "source": [
    "df = pd.read_csv(\"master_df.csv\")"
   ]
  },
  {
   "cell_type": "code",
   "execution_count": 3,
   "id": "0e807dba",
   "metadata": {},
   "outputs": [],
   "source": [
    "df = prepare_bills_for_processing(df)"
   ]
  },
  {
   "cell_type": "code",
   "execution_count": 4,
   "id": "dae6607a",
   "metadata": {},
   "outputs": [],
   "source": [
    "df['lem'] = df.bill_text.apply(clean_text)"
   ]
  },
  {
   "cell_type": "code",
   "execution_count": 5,
   "id": "5805eee5",
   "metadata": {},
   "outputs": [],
   "source": [
    "df['model'] = df.lem.apply(join)"
   ]
  },
  {
   "cell_type": "code",
   "execution_count": 6,
   "id": "80e72805",
   "metadata": {},
   "outputs": [
    {
     "data": {
      "text/html": [
       "<div>\n",
       "<style scoped>\n",
       "    .dataframe tbody tr th:only-of-type {\n",
       "        vertical-align: middle;\n",
       "    }\n",
       "\n",
       "    .dataframe tbody tr th {\n",
       "        vertical-align: top;\n",
       "    }\n",
       "\n",
       "    .dataframe thead th {\n",
       "        text-align: right;\n",
       "    }\n",
       "</style>\n",
       "<table border=\"1\" class=\"dataframe\">\n",
       "  <thead>\n",
       "    <tr style=\"text-align: right;\">\n",
       "      <th></th>\n",
       "      <th>sponsor</th>\n",
       "      <th>party</th>\n",
       "      <th>bill_text</th>\n",
       "      <th>lem</th>\n",
       "      <th>model</th>\n",
       "    </tr>\n",
       "  </thead>\n",
       "  <tbody>\n",
       "    <tr>\n",
       "      <th>0</th>\n",
       "      <td>Torres Small, Xochitl</td>\n",
       "      <td>D</td>\n",
       "      <td>\\n\\n\\n \\n  To require the Secretary of Homelan...</td>\n",
       "      <td>[require, homeland, security, develop, plan, i...</td>\n",
       "      <td>require homeland security develop plan increas...</td>\n",
       "    </tr>\n",
       "    <tr>\n",
       "      <th>1</th>\n",
       "      <td>Sewell, Terri A.</td>\n",
       "      <td>D</td>\n",
       "      <td>\\n\\n\\n \\nTo amend title XI of the Social Secur...</td>\n",
       "      <td>[amend, xi, social, security, clarify, paramet...</td>\n",
       "      <td>amend xi social security clarify parameter mod...</td>\n",
       "    </tr>\n",
       "    <tr>\n",
       "      <th>2</th>\n",
       "      <td>Finkenauer, Abby</td>\n",
       "      <td>D</td>\n",
       "      <td>\\n\\n\\n \\n To repeal the funding authorization ...</td>\n",
       "      <td>[repeal, funding, sunset, total, funding, cap,...</td>\n",
       "      <td>repeal funding sunset total funding cap americ...</td>\n",
       "    </tr>\n",
       "    <tr>\n",
       "      <th>3</th>\n",
       "      <td>Casten, Sean</td>\n",
       "      <td>D</td>\n",
       "      <td>\\n\\n\\n \\nTo direct the Federal Energy Regulato...</td>\n",
       "      <td>[direct, federal, energy, regulatory, commissi...</td>\n",
       "      <td>direct federal energy regulatory commission fi...</td>\n",
       "    </tr>\n",
       "    <tr>\n",
       "      <th>4</th>\n",
       "      <td>LaMalfa, Doug</td>\n",
       "      <td>R</td>\n",
       "      <td>\\n\\n\\n \\n  To establish a categorical exclusio...</td>\n",
       "      <td>[exclusion, electric, utility, rightsof, way, ...</td>\n",
       "      <td>exclusion electric utility rightsof way purpos...</td>\n",
       "    </tr>\n",
       "  </tbody>\n",
       "</table>\n",
       "</div>"
      ],
      "text/plain": [
       "                 sponsor party  \\\n",
       "0  Torres Small, Xochitl     D   \n",
       "1       Sewell, Terri A.     D   \n",
       "2       Finkenauer, Abby     D   \n",
       "3           Casten, Sean     D   \n",
       "4          LaMalfa, Doug     R   \n",
       "\n",
       "                                           bill_text  \\\n",
       "0  \\n\\n\\n \\n  To require the Secretary of Homelan...   \n",
       "1  \\n\\n\\n \\nTo amend title XI of the Social Secur...   \n",
       "2  \\n\\n\\n \\n To repeal the funding authorization ...   \n",
       "3  \\n\\n\\n \\nTo direct the Federal Energy Regulato...   \n",
       "4  \\n\\n\\n \\n  To establish a categorical exclusio...   \n",
       "\n",
       "                                                 lem  \\\n",
       "0  [require, homeland, security, develop, plan, i...   \n",
       "1  [amend, xi, social, security, clarify, paramet...   \n",
       "2  [repeal, funding, sunset, total, funding, cap,...   \n",
       "3  [direct, federal, energy, regulatory, commissi...   \n",
       "4  [exclusion, electric, utility, rightsof, way, ...   \n",
       "\n",
       "                                               model  \n",
       "0  require homeland security develop plan increas...  \n",
       "1  amend xi social security clarify parameter mod...  \n",
       "2  repeal funding sunset total funding cap americ...  \n",
       "3  direct federal energy regulatory commission fi...  \n",
       "4  exclusion electric utility rightsof way purpos...  "
      ]
     },
     "execution_count": 6,
     "metadata": {},
     "output_type": "execute_result"
    }
   ],
   "source": [
    "df.head()"
   ]
  },
  {
   "cell_type": "code",
   "execution_count": 7,
   "id": "63a29777",
   "metadata": {},
   "outputs": [],
   "source": [
    "train, X_train, y_train, X_val, y_val, X_test, y_test = split_data(df, 'party')"
   ]
  },
  {
   "cell_type": "code",
   "execution_count": 8,
   "id": "5d8cbaff",
   "metadata": {},
   "outputs": [
    {
     "data": {
      "text/html": [
       "<div>\n",
       "<style scoped>\n",
       "    .dataframe tbody tr th:only-of-type {\n",
       "        vertical-align: middle;\n",
       "    }\n",
       "\n",
       "    .dataframe tbody tr th {\n",
       "        vertical-align: top;\n",
       "    }\n",
       "\n",
       "    .dataframe thead th {\n",
       "        text-align: right;\n",
       "    }\n",
       "</style>\n",
       "<table border=\"1\" class=\"dataframe\">\n",
       "  <thead>\n",
       "    <tr style=\"text-align: right;\">\n",
       "      <th></th>\n",
       "      <th>sponsor</th>\n",
       "      <th>bill_text</th>\n",
       "      <th>lem</th>\n",
       "      <th>model</th>\n",
       "    </tr>\n",
       "  </thead>\n",
       "  <tbody>\n",
       "    <tr>\n",
       "      <th>25840</th>\n",
       "      <td>Frelinghuysen, Rodney P.</td>\n",
       "      <td>\\n\\n\\n \\n      To suspend temporarily the duty...</td>\n",
       "      <td>[suspend, temporarily, duty, 3amino12propanedi...</td>\n",
       "      <td>suspend temporarily duty 3amino12propanediol 3...</td>\n",
       "    </tr>\n",
       "    <tr>\n",
       "      <th>24423</th>\n",
       "      <td>Foxx, Virginia</td>\n",
       "      <td>\\n\\n\\n \\n  Of inquiry requesting the President...</td>\n",
       "      <td>[inquiry, requesting, president, directing, ed...</td>\n",
       "      <td>inquiry requesting president directing educati...</td>\n",
       "    </tr>\n",
       "    <tr>\n",
       "      <th>16270</th>\n",
       "      <td>Scott, Rick</td>\n",
       "      <td>\\n\\n\\n \\n To allow National Flood Insurance Pr...</td>\n",
       "      <td>[allow, national, flood, insurance, program, p...</td>\n",
       "      <td>allow national flood insurance program policyh...</td>\n",
       "    </tr>\n",
       "    <tr>\n",
       "      <th>21136</th>\n",
       "      <td>Hickenlooper, John W.</td>\n",
       "      <td>\\n\\n\\n \\n To provide better access to retireme...</td>\n",
       "      <td>[provide, better, access, retirement, plan, sm...</td>\n",
       "      <td>provide better access retirement plan small bu...</td>\n",
       "    </tr>\n",
       "    <tr>\n",
       "      <th>11697</th>\n",
       "      <td>Dingell, Debbie</td>\n",
       "      <td>\\n\\n\\n \\n     To amend the Energy Policy and C...</td>\n",
       "      <td>[amend, energy, policy, conservation, modify, ...</td>\n",
       "      <td>amend energy policy conservation modify defini...</td>\n",
       "    </tr>\n",
       "  </tbody>\n",
       "</table>\n",
       "</div>"
      ],
      "text/plain": [
       "                        sponsor  \\\n",
       "25840  Frelinghuysen, Rodney P.   \n",
       "24423            Foxx, Virginia   \n",
       "16270               Scott, Rick   \n",
       "21136     Hickenlooper, John W.   \n",
       "11697           Dingell, Debbie   \n",
       "\n",
       "                                               bill_text  \\\n",
       "25840  \\n\\n\\n \\n      To suspend temporarily the duty...   \n",
       "24423  \\n\\n\\n \\n  Of inquiry requesting the President...   \n",
       "16270  \\n\\n\\n \\n To allow National Flood Insurance Pr...   \n",
       "21136  \\n\\n\\n \\n To provide better access to retireme...   \n",
       "11697  \\n\\n\\n \\n     To amend the Energy Policy and C...   \n",
       "\n",
       "                                                     lem  \\\n",
       "25840  [suspend, temporarily, duty, 3amino12propanedi...   \n",
       "24423  [inquiry, requesting, president, directing, ed...   \n",
       "16270  [allow, national, flood, insurance, program, p...   \n",
       "21136  [provide, better, access, retirement, plan, sm...   \n",
       "11697  [amend, energy, policy, conservation, modify, ...   \n",
       "\n",
       "                                                   model  \n",
       "25840  suspend temporarily duty 3amino12propanediol 3...  \n",
       "24423  inquiry requesting president directing educati...  \n",
       "16270  allow national flood insurance program policyh...  \n",
       "21136  provide better access retirement plan small bu...  \n",
       "11697  amend energy policy conservation modify defini...  "
      ]
     },
     "execution_count": 8,
     "metadata": {},
     "output_type": "execute_result"
    }
   ],
   "source": [
    "X_train.head()"
   ]
  },
  {
   "cell_type": "code",
   "execution_count": 9,
   "id": "540a4670",
   "metadata": {},
   "outputs": [],
   "source": [
    "all_bill_words = clean_text(' '.join(df['bill_text']))"
   ]
  },
  {
   "cell_type": "code",
   "execution_count": 10,
   "id": "922cbc6d",
   "metadata": {},
   "outputs": [],
   "source": [
    "democrat_words = clean_text(' '.join(df[df['party'] == 'D']['bill_text']))"
   ]
  },
  {
   "cell_type": "code",
   "execution_count": 11,
   "id": "4d8d9ab3",
   "metadata": {},
   "outputs": [],
   "source": [
    "republican_words = clean_text(' '.join(df[df['party'] == 'R']['bill_text']))"
   ]
  },
  {
   "cell_type": "code",
   "execution_count": 12,
   "id": "cc2c42ac",
   "metadata": {},
   "outputs": [
    {
     "data": {
      "text/plain": [
       "0                (require, homeland)\n",
       "1               (homeland, security)\n",
       "2                (security, develop)\n",
       "3                    (develop, plan)\n",
       "4                   (plan, increase)\n",
       "                      ...           \n",
       "24484553        (entered, withdrawn)\n",
       "24484554      (withdrawn, warehouse)\n",
       "24484555    (warehouse, consumption)\n",
       "24484556         (consumption, 15th)\n",
       "24484557             (15th, ltallgt)\n",
       "Length: 24484558, dtype: object"
      ]
     },
     "execution_count": 12,
     "metadata": {},
     "output_type": "execute_result"
    }
   ],
   "source": [
    "all_bill_bigrams = pd.Series(nltk.ngrams(all_bill_words, 2))\n",
    "all_bill_bigrams"
   ]
  },
  {
   "cell_type": "code",
   "execution_count": 13,
   "id": "0a5daa7c",
   "metadata": {},
   "outputs": [],
   "source": [
    "top_bill_bigrams = all_bill_bigrams.value_counts().head(40)"
   ]
  },
  {
   "cell_type": "code",
   "execution_count": 14,
   "id": "616954c1",
   "metadata": {},
   "outputs": [
    {
     "data": {
      "text/plain": [
       "(public, health)            22857\n",
       "(health, care)              20538\n",
       "(public, law)               18478\n",
       "(state, local)              17875\n",
       "(higher, education)         17493\n",
       "(social, security)          17308\n",
       "(homeland, security)        16395\n",
       "(meaning, given)            16092\n",
       "(given, term)               15868\n",
       "(law, enforcement)          15468\n",
       "(internal, revenue)         15064\n",
       "(indian, tribe)             15000\n",
       "(small, business)           14057\n",
       "(health, service)           13736\n",
       "(attorney, general)         13678\n",
       "(federal, agency)           13592\n",
       "(revenue, 1986)             13153\n",
       "(health, human)             11866\n",
       "(human, service)            11837\n",
       "(purpose, cited)            11714\n",
       "(local, government)         11661\n",
       "(institution, higher)       11206\n",
       "(mental, health)            10592\n",
       "(grant, program)            10412\n",
       "(generalnot, later)         10090\n",
       "(180, day)                  10009\n",
       "(pilot, program)             9979\n",
       "(inspector, general)         9416\n",
       "(federal, government)        9357\n",
       "(national, security)         9007\n",
       "(federal, state)             8964\n",
       "(educational, agency)        8721\n",
       "(armed, force)               8624\n",
       "(technical, assistance)      8333\n",
       "(veteran, affair)            8301\n",
       "(department, defense)        8197\n",
       "(education, 1965)            8054\n",
       "(subparagraph, striking)     8044\n",
       "(30, day)                    7979\n",
       "(read, follows)              7973\n",
       "dtype: int64"
      ]
     },
     "execution_count": 14,
     "metadata": {},
     "output_type": "execute_result"
    }
   ],
   "source": [
    "top_bill_bigrams"
   ]
  },
  {
   "cell_type": "code",
   "execution_count": 459,
   "id": "04852951",
   "metadata": {},
   "outputs": [],
   "source": [
    "def democrat_bigrams_viz(df):\n",
    "    more_stopwords = ['secretary','united','states','senate','house','representative',\n",
    "                   'representatives','fiscal','year','shall','adding','end','paragraph',\n",
    "                   'made','available','prebody','subsection','day','date','submit','described',\n",
    "                   'may','congress','following','new','enactment','code','section','assembled',\n",
    "                   'b','c','amended','short','title','sec','heading', 'et', 'seq',\n",
    "                    'chapter', 'effective','enacted','subchapter','entity', '42', 'usc', 'act', 'establish',\n",
    "                       'categorical', 'america', '1', '2', 'seq','authorization',\n",
    "                       'appropriations', 'appropriated', 'inserting','numerical',\n",
    "                       'sequence','ii']\n",
    "    \n",
    "    democrat_words = clean_text(' '.join(df[df['party'] == 'D']['bill_text']), \n",
    "                                 more_stopwords)\n",
    "    democrat_bigrams = pd.Series(nltk.ngrams(democrat_words, 2))\n",
    "    top_democrat_bigrams =democrat_bigrams.value_counts().head(40)\n",
    "    top_democrat_bigrams = pd.DataFrame(top_democrat_bigrams)\n",
    "    top_democrat_bigrams['party'] = 'D'\n",
    "    republican_words = clean_text(' '.join(df[df['party'] == 'R']['bill_text']), \n",
    "                                  more_stopwords)\n",
    "    republican_bigrams = pd.Series(nltk.ngrams(republican_words, 2))\n",
    "    top_republican_bigrams =republican_bigrams.value_counts().head(40)\n",
    "    top_republican_bigrams = pd.DataFrame(top_republican_bigrams)\n",
    "    top_republican_bigrams['party'] = 'R'\n",
    "    top_democrat_bigrams.reset_index(inplace = True)\n",
    "    top_republican_bigrams.reset_index(inplace = True)\n",
    "    top_democrat_bigrams.rename(columns={\"index\": \"bigram\", \n",
    "                                         0: \"frequency\"},inplace = True)\n",
    "        \n",
    "    top_republican_bigrams.rename(columns={\"index\": \"bigram\", \n",
    "                                       0: \"frequency\"},inplace = True)\n",
    "    scaler = StandardScaler()\n",
    "    top_republican_bigrams['scaled_freq'] = scaler.fit_transform(top_republican_bigrams['frequency'].values.reshape(-1, 1))\n",
    "\n",
    "    top_democrat_bigrams['scaled_freq'] = scaler.fit_transform(top_democrat_bigrams['frequency'].values.reshape(-1, 1))\n",
    "    top_bigrams = pd.concat([top_democrat_bigrams.head(10), top_republican_bigrams.head(10)], \n",
    "                       ignore_index = True)\n",
    "    top_bigrams.sort_values(by = ['scaled_freq'], ascending = False ,inplace = True)\n",
    "\n",
    "    fig = px.bar(top_bigrams, x='scaled_freq', y='party', \n",
    "                 template='plotly_white', orientation='h',\n",
    "                 labels={'scaled_freq': 'Frequency of Bigram', 'bigram': 'Bigram', \n",
    "                         'party': 'Party'},\n",
    "                 color='bigram', color_discrete_sequence=px.colors.qualitative.Safe)\n",
    "        \n",
    "    fig.update_layout(font=dict(size=10, color='DarkSlateGray'))\n",
    "    fig.update_layout(width=800, height=500)\n",
    "    fig.show()\n",
    "    \n",
    "    return top_bigrams.head(2)\n",
    "\n",
    "\n"
   ]
  },
  {
   "cell_type": "code",
   "execution_count": 460,
   "id": "5e34c2ce",
   "metadata": {},
   "outputs": [
    {
     "data": {
      "application/vnd.plotly.v1+json": {
       "config": {
        "plotlyServerURL": "https://plot.ly"
       },
       "data": [
        {
         "alignmentgroup": "True",
         "hovertemplate": "Bigram=('homeland', 'security')<br>Frequency of Bigram=%{x}<br>Party=%{y}<extra></extra>",
         "legendgroup": "('homeland', 'security')",
         "marker": {
          "color": "rgb(136, 204, 238)",
          "pattern": {
           "shape": ""
          }
         },
         "name": "('homeland', 'security')",
         "offsetgroup": "('homeland', 'security')",
         "orientation": "h",
         "showlegend": true,
         "textposition": "auto",
         "type": "bar",
         "x": [
          3.859655845081216
         ],
         "xaxis": "x",
         "y": [
          "R"
         ],
         "yaxis": "y"
        },
        {
         "alignmentgroup": "True",
         "hovertemplate": "Bigram=('public', 'health')<br>Frequency of Bigram=%{x}<br>Party=%{y}<extra></extra>",
         "legendgroup": "('public', 'health')",
         "marker": {
          "color": "rgb(204, 102, 119)",
          "pattern": {
           "shape": ""
          }
         },
         "name": "('public', 'health')",
         "offsetgroup": "('public', 'health')",
         "orientation": "h",
         "showlegend": true,
         "textposition": "auto",
         "type": "bar",
         "x": [
          2.8998765837568556,
          1.4082290800078965
         ],
         "xaxis": "x",
         "y": [
          "D",
          "R"
         ],
         "yaxis": "y"
        },
        {
         "alignmentgroup": "True",
         "hovertemplate": "Bigram=('health', 'care')<br>Frequency of Bigram=%{x}<br>Party=%{y}<extra></extra>",
         "legendgroup": "('health', 'care')",
         "marker": {
          "color": "rgb(221, 204, 119)",
          "pattern": {
           "shape": ""
          }
         },
         "name": "('health', 'care')",
         "offsetgroup": "('health', 'care')",
         "orientation": "h",
         "showlegend": true,
         "textposition": "auto",
         "type": "bar",
         "x": [
          2.19228200834987,
          1.0989961772907288
         ],
         "xaxis": "x",
         "y": [
          "D",
          "R"
         ],
         "yaxis": "y"
        },
        {
         "alignmentgroup": "True",
         "hovertemplate": "Bigram=('higher', 'education')<br>Frequency of Bigram=%{x}<br>Party=%{y}<extra></extra>",
         "legendgroup": "('higher', 'education')",
         "marker": {
          "color": "rgb(17, 119, 51)",
          "pattern": {
           "shape": ""
          }
         },
         "name": "('higher', 'education')",
         "offsetgroup": "('higher', 'education')",
         "orientation": "h",
         "showlegend": true,
         "textposition": "auto",
         "type": "bar",
         "x": [
          1.6787915161871991
         ],
         "xaxis": "x",
         "y": [
          "D"
         ],
         "yaxis": "y"
        },
        {
         "alignmentgroup": "True",
         "hovertemplate": "Bigram=('state', 'local')<br>Frequency of Bigram=%{x}<br>Party=%{y}<extra></extra>",
         "legendgroup": "('state', 'local')",
         "marker": {
          "color": "rgb(51, 34, 136)",
          "pattern": {
           "shape": ""
          }
         },
         "name": "('state', 'local')",
         "offsetgroup": "('state', 'local')",
         "orientation": "h",
         "showlegend": true,
         "textposition": "auto",
         "type": "bar",
         "x": [
          1.4836851743374921,
          0.7341598819714207
         ],
         "xaxis": "x",
         "y": [
          "D",
          "R"
         ],
         "yaxis": "y"
        },
        {
         "alignmentgroup": "True",
         "hovertemplate": "Bigram=('public', 'law')<br>Frequency of Bigram=%{x}<br>Party=%{y}<extra></extra>",
         "legendgroup": "('public', 'law')",
         "marker": {
          "color": "rgb(170, 68, 153)",
          "pattern": {
           "shape": ""
          }
         },
         "name": "('public', 'law')",
         "offsetgroup": "('public', 'law')",
         "orientation": "h",
         "showlegend": true,
         "textposition": "auto",
         "type": "bar",
         "x": [
          1.4496083817541527,
          1.3945721063863181
         ],
         "xaxis": "x",
         "y": [
          "D",
          "R"
         ],
         "yaxis": "y"
        },
        {
         "alignmentgroup": "True",
         "hovertemplate": "Bigram=('law', 'enforcement')<br>Frequency of Bigram=%{x}<br>Party=%{y}<extra></extra>",
         "legendgroup": "('law', 'enforcement')",
         "marker": {
          "color": "rgb(68, 170, 153)",
          "pattern": {
           "shape": ""
          }
         },
         "name": "('law', 'enforcement')",
         "offsetgroup": "('law', 'enforcement')",
         "orientation": "h",
         "showlegend": true,
         "textposition": "auto",
         "type": "bar",
         "x": [
          1.2609288645180154,
          0.5074852926853617
         ],
         "xaxis": "x",
         "y": [
          "R",
          "D"
         ],
         "yaxis": "y"
        },
        {
         "alignmentgroup": "True",
         "hovertemplate": "Bigram=('indian', 'tribe')<br>Frequency of Bigram=%{x}<br>Party=%{y}<extra></extra>",
         "legendgroup": "('indian', 'tribe')",
         "marker": {
          "color": "rgb(153, 153, 51)",
          "pattern": {
           "shape": ""
          }
         },
         "name": "('indian', 'tribe')",
         "offsetgroup": "('indian', 'tribe')",
         "orientation": "h",
         "showlegend": true,
         "textposition": "auto",
         "type": "bar",
         "x": [
          1.1185289557728861
         ],
         "xaxis": "x",
         "y": [
          "D"
         ],
         "yaxis": "y"
        },
        {
         "alignmentgroup": "True",
         "hovertemplate": "Bigram=('social', 'security')<br>Frequency of Bigram=%{x}<br>Party=%{y}<extra></extra>",
         "legendgroup": "('social', 'security')",
         "marker": {
          "color": "rgb(136, 34, 85)",
          "pattern": {
           "shape": ""
          }
         },
         "name": "('social', 'security')",
         "offsetgroup": "('social', 'security')",
         "orientation": "h",
         "showlegend": true,
         "textposition": "auto",
         "type": "bar",
         "x": [
          1.096069682943248,
          1.0861225941985342
         ],
         "xaxis": "x",
         "y": [
          "R",
          "D"
         ],
         "yaxis": "y"
        },
        {
         "alignmentgroup": "True",
         "hovertemplate": "Bigram=('purpose', 'cited')<br>Frequency of Bigram=%{x}<br>Party=%{y}<extra></extra>",
         "legendgroup": "('purpose', 'cited')",
         "marker": {
          "color": "rgb(102, 17, 0)",
          "pattern": {
           "shape": ""
          }
         },
         "name": "('purpose', 'cited')",
         "offsetgroup": "('purpose', 'cited')",
         "orientation": "h",
         "showlegend": true,
         "textposition": "auto",
         "type": "bar",
         "x": [
          1.0375397959936261
         ],
         "xaxis": "x",
         "y": [
          "R"
         ],
         "yaxis": "y"
        },
        {
         "alignmentgroup": "True",
         "hovertemplate": "Bigram=('meaning', 'given')<br>Frequency of Bigram=%{x}<br>Party=%{y}<extra></extra>",
         "legendgroup": "('meaning', 'given')",
         "marker": {
          "color": "rgb(136, 136, 136)",
          "pattern": {
           "shape": ""
          }
         },
         "name": "('meaning', 'given')",
         "offsetgroup": "('meaning', 'given')",
         "orientation": "h",
         "showlegend": true,
         "textposition": "auto",
         "type": "bar",
         "x": [
          1.0343392329199304
         ],
         "xaxis": "x",
         "y": [
          "D"
         ],
         "yaxis": "y"
        },
        {
         "alignmentgroup": "True",
         "hovertemplate": "Bigram=('federal', 'agency')<br>Frequency of Bigram=%{x}<br>Party=%{y}<extra></extra>",
         "legendgroup": "('federal', 'agency')",
         "marker": {
          "color": "rgb(136, 204, 238)",
          "pattern": {
           "shape": ""
          }
         },
         "name": "('federal', 'agency')",
         "offsetgroup": "('federal', 'agency')",
         "orientation": "h",
         "showlegend": true,
         "textposition": "auto",
         "type": "bar",
         "x": [
          1.026809316719529
         ],
         "xaxis": "x",
         "y": [
          "R"
         ],
         "yaxis": "y"
        },
        {
         "alignmentgroup": "True",
         "hovertemplate": "Bigram=('given', 'term')<br>Frequency of Bigram=%{x}<br>Party=%{y}<extra></extra>",
         "legendgroup": "('given', 'term')",
         "marker": {
          "color": "rgb(204, 102, 119)",
          "pattern": {
           "shape": ""
          }
         },
         "name": "('given', 'term')",
         "offsetgroup": "('given', 'term')",
         "orientation": "h",
         "showlegend": true,
         "textposition": "auto",
         "type": "bar",
         "x": [
          0.9698605959730238
         ],
         "xaxis": "x",
         "y": [
          "D"
         ],
         "yaxis": "y"
        },
        {
         "alignmentgroup": "True",
         "hovertemplate": "Bigram=('internal', 'revenue')<br>Frequency of Bigram=%{x}<br>Party=%{y}<extra></extra>",
         "legendgroup": "('internal', 'revenue')",
         "marker": {
          "color": "rgb(221, 204, 119)",
          "pattern": {
           "shape": ""
          }
         },
         "name": "('internal', 'revenue')",
         "offsetgroup": "('internal', 'revenue')",
         "orientation": "h",
         "showlegend": true,
         "textposition": "auto",
         "type": "bar",
         "x": [
          0.959499946727464
         ],
         "xaxis": "x",
         "y": [
          "R"
         ],
         "yaxis": "y"
        }
       ],
       "layout": {
        "barmode": "relative",
        "font": {
         "color": "DarkSlateGray",
         "size": 10
        },
        "height": 500,
        "legend": {
         "title": {
          "text": "Bigram"
         },
         "tracegroupgap": 0
        },
        "margin": {
         "t": 60
        },
        "template": {
         "data": {
          "bar": [
           {
            "error_x": {
             "color": "#2a3f5f"
            },
            "error_y": {
             "color": "#2a3f5f"
            },
            "marker": {
             "line": {
              "color": "white",
              "width": 0.5
             },
             "pattern": {
              "fillmode": "overlay",
              "size": 10,
              "solidity": 0.2
             }
            },
            "type": "bar"
           }
          ],
          "barpolar": [
           {
            "marker": {
             "line": {
              "color": "white",
              "width": 0.5
             },
             "pattern": {
              "fillmode": "overlay",
              "size": 10,
              "solidity": 0.2
             }
            },
            "type": "barpolar"
           }
          ],
          "carpet": [
           {
            "aaxis": {
             "endlinecolor": "#2a3f5f",
             "gridcolor": "#C8D4E3",
             "linecolor": "#C8D4E3",
             "minorgridcolor": "#C8D4E3",
             "startlinecolor": "#2a3f5f"
            },
            "baxis": {
             "endlinecolor": "#2a3f5f",
             "gridcolor": "#C8D4E3",
             "linecolor": "#C8D4E3",
             "minorgridcolor": "#C8D4E3",
             "startlinecolor": "#2a3f5f"
            },
            "type": "carpet"
           }
          ],
          "choropleth": [
           {
            "colorbar": {
             "outlinewidth": 0,
             "ticks": ""
            },
            "type": "choropleth"
           }
          ],
          "contour": [
           {
            "colorbar": {
             "outlinewidth": 0,
             "ticks": ""
            },
            "colorscale": [
             [
              0,
              "#0d0887"
             ],
             [
              0.1111111111111111,
              "#46039f"
             ],
             [
              0.2222222222222222,
              "#7201a8"
             ],
             [
              0.3333333333333333,
              "#9c179e"
             ],
             [
              0.4444444444444444,
              "#bd3786"
             ],
             [
              0.5555555555555556,
              "#d8576b"
             ],
             [
              0.6666666666666666,
              "#ed7953"
             ],
             [
              0.7777777777777778,
              "#fb9f3a"
             ],
             [
              0.8888888888888888,
              "#fdca26"
             ],
             [
              1,
              "#f0f921"
             ]
            ],
            "type": "contour"
           }
          ],
          "contourcarpet": [
           {
            "colorbar": {
             "outlinewidth": 0,
             "ticks": ""
            },
            "type": "contourcarpet"
           }
          ],
          "heatmap": [
           {
            "colorbar": {
             "outlinewidth": 0,
             "ticks": ""
            },
            "colorscale": [
             [
              0,
              "#0d0887"
             ],
             [
              0.1111111111111111,
              "#46039f"
             ],
             [
              0.2222222222222222,
              "#7201a8"
             ],
             [
              0.3333333333333333,
              "#9c179e"
             ],
             [
              0.4444444444444444,
              "#bd3786"
             ],
             [
              0.5555555555555556,
              "#d8576b"
             ],
             [
              0.6666666666666666,
              "#ed7953"
             ],
             [
              0.7777777777777778,
              "#fb9f3a"
             ],
             [
              0.8888888888888888,
              "#fdca26"
             ],
             [
              1,
              "#f0f921"
             ]
            ],
            "type": "heatmap"
           }
          ],
          "heatmapgl": [
           {
            "colorbar": {
             "outlinewidth": 0,
             "ticks": ""
            },
            "colorscale": [
             [
              0,
              "#0d0887"
             ],
             [
              0.1111111111111111,
              "#46039f"
             ],
             [
              0.2222222222222222,
              "#7201a8"
             ],
             [
              0.3333333333333333,
              "#9c179e"
             ],
             [
              0.4444444444444444,
              "#bd3786"
             ],
             [
              0.5555555555555556,
              "#d8576b"
             ],
             [
              0.6666666666666666,
              "#ed7953"
             ],
             [
              0.7777777777777778,
              "#fb9f3a"
             ],
             [
              0.8888888888888888,
              "#fdca26"
             ],
             [
              1,
              "#f0f921"
             ]
            ],
            "type": "heatmapgl"
           }
          ],
          "histogram": [
           {
            "marker": {
             "pattern": {
              "fillmode": "overlay",
              "size": 10,
              "solidity": 0.2
             }
            },
            "type": "histogram"
           }
          ],
          "histogram2d": [
           {
            "colorbar": {
             "outlinewidth": 0,
             "ticks": ""
            },
            "colorscale": [
             [
              0,
              "#0d0887"
             ],
             [
              0.1111111111111111,
              "#46039f"
             ],
             [
              0.2222222222222222,
              "#7201a8"
             ],
             [
              0.3333333333333333,
              "#9c179e"
             ],
             [
              0.4444444444444444,
              "#bd3786"
             ],
             [
              0.5555555555555556,
              "#d8576b"
             ],
             [
              0.6666666666666666,
              "#ed7953"
             ],
             [
              0.7777777777777778,
              "#fb9f3a"
             ],
             [
              0.8888888888888888,
              "#fdca26"
             ],
             [
              1,
              "#f0f921"
             ]
            ],
            "type": "histogram2d"
           }
          ],
          "histogram2dcontour": [
           {
            "colorbar": {
             "outlinewidth": 0,
             "ticks": ""
            },
            "colorscale": [
             [
              0,
              "#0d0887"
             ],
             [
              0.1111111111111111,
              "#46039f"
             ],
             [
              0.2222222222222222,
              "#7201a8"
             ],
             [
              0.3333333333333333,
              "#9c179e"
             ],
             [
              0.4444444444444444,
              "#bd3786"
             ],
             [
              0.5555555555555556,
              "#d8576b"
             ],
             [
              0.6666666666666666,
              "#ed7953"
             ],
             [
              0.7777777777777778,
              "#fb9f3a"
             ],
             [
              0.8888888888888888,
              "#fdca26"
             ],
             [
              1,
              "#f0f921"
             ]
            ],
            "type": "histogram2dcontour"
           }
          ],
          "mesh3d": [
           {
            "colorbar": {
             "outlinewidth": 0,
             "ticks": ""
            },
            "type": "mesh3d"
           }
          ],
          "parcoords": [
           {
            "line": {
             "colorbar": {
              "outlinewidth": 0,
              "ticks": ""
             }
            },
            "type": "parcoords"
           }
          ],
          "pie": [
           {
            "automargin": true,
            "type": "pie"
           }
          ],
          "scatter": [
           {
            "fillpattern": {
             "fillmode": "overlay",
             "size": 10,
             "solidity": 0.2
            },
            "type": "scatter"
           }
          ],
          "scatter3d": [
           {
            "line": {
             "colorbar": {
              "outlinewidth": 0,
              "ticks": ""
             }
            },
            "marker": {
             "colorbar": {
              "outlinewidth": 0,
              "ticks": ""
             }
            },
            "type": "scatter3d"
           }
          ],
          "scattercarpet": [
           {
            "marker": {
             "colorbar": {
              "outlinewidth": 0,
              "ticks": ""
             }
            },
            "type": "scattercarpet"
           }
          ],
          "scattergeo": [
           {
            "marker": {
             "colorbar": {
              "outlinewidth": 0,
              "ticks": ""
             }
            },
            "type": "scattergeo"
           }
          ],
          "scattergl": [
           {
            "marker": {
             "colorbar": {
              "outlinewidth": 0,
              "ticks": ""
             }
            },
            "type": "scattergl"
           }
          ],
          "scattermapbox": [
           {
            "marker": {
             "colorbar": {
              "outlinewidth": 0,
              "ticks": ""
             }
            },
            "type": "scattermapbox"
           }
          ],
          "scatterpolar": [
           {
            "marker": {
             "colorbar": {
              "outlinewidth": 0,
              "ticks": ""
             }
            },
            "type": "scatterpolar"
           }
          ],
          "scatterpolargl": [
           {
            "marker": {
             "colorbar": {
              "outlinewidth": 0,
              "ticks": ""
             }
            },
            "type": "scatterpolargl"
           }
          ],
          "scatterternary": [
           {
            "marker": {
             "colorbar": {
              "outlinewidth": 0,
              "ticks": ""
             }
            },
            "type": "scatterternary"
           }
          ],
          "surface": [
           {
            "colorbar": {
             "outlinewidth": 0,
             "ticks": ""
            },
            "colorscale": [
             [
              0,
              "#0d0887"
             ],
             [
              0.1111111111111111,
              "#46039f"
             ],
             [
              0.2222222222222222,
              "#7201a8"
             ],
             [
              0.3333333333333333,
              "#9c179e"
             ],
             [
              0.4444444444444444,
              "#bd3786"
             ],
             [
              0.5555555555555556,
              "#d8576b"
             ],
             [
              0.6666666666666666,
              "#ed7953"
             ],
             [
              0.7777777777777778,
              "#fb9f3a"
             ],
             [
              0.8888888888888888,
              "#fdca26"
             ],
             [
              1,
              "#f0f921"
             ]
            ],
            "type": "surface"
           }
          ],
          "table": [
           {
            "cells": {
             "fill": {
              "color": "#EBF0F8"
             },
             "line": {
              "color": "white"
             }
            },
            "header": {
             "fill": {
              "color": "#C8D4E3"
             },
             "line": {
              "color": "white"
             }
            },
            "type": "table"
           }
          ]
         },
         "layout": {
          "annotationdefaults": {
           "arrowcolor": "#2a3f5f",
           "arrowhead": 0,
           "arrowwidth": 1
          },
          "autotypenumbers": "strict",
          "coloraxis": {
           "colorbar": {
            "outlinewidth": 0,
            "ticks": ""
           }
          },
          "colorscale": {
           "diverging": [
            [
             0,
             "#8e0152"
            ],
            [
             0.1,
             "#c51b7d"
            ],
            [
             0.2,
             "#de77ae"
            ],
            [
             0.3,
             "#f1b6da"
            ],
            [
             0.4,
             "#fde0ef"
            ],
            [
             0.5,
             "#f7f7f7"
            ],
            [
             0.6,
             "#e6f5d0"
            ],
            [
             0.7,
             "#b8e186"
            ],
            [
             0.8,
             "#7fbc41"
            ],
            [
             0.9,
             "#4d9221"
            ],
            [
             1,
             "#276419"
            ]
           ],
           "sequential": [
            [
             0,
             "#0d0887"
            ],
            [
             0.1111111111111111,
             "#46039f"
            ],
            [
             0.2222222222222222,
             "#7201a8"
            ],
            [
             0.3333333333333333,
             "#9c179e"
            ],
            [
             0.4444444444444444,
             "#bd3786"
            ],
            [
             0.5555555555555556,
             "#d8576b"
            ],
            [
             0.6666666666666666,
             "#ed7953"
            ],
            [
             0.7777777777777778,
             "#fb9f3a"
            ],
            [
             0.8888888888888888,
             "#fdca26"
            ],
            [
             1,
             "#f0f921"
            ]
           ],
           "sequentialminus": [
            [
             0,
             "#0d0887"
            ],
            [
             0.1111111111111111,
             "#46039f"
            ],
            [
             0.2222222222222222,
             "#7201a8"
            ],
            [
             0.3333333333333333,
             "#9c179e"
            ],
            [
             0.4444444444444444,
             "#bd3786"
            ],
            [
             0.5555555555555556,
             "#d8576b"
            ],
            [
             0.6666666666666666,
             "#ed7953"
            ],
            [
             0.7777777777777778,
             "#fb9f3a"
            ],
            [
             0.8888888888888888,
             "#fdca26"
            ],
            [
             1,
             "#f0f921"
            ]
           ]
          },
          "colorway": [
           "#636efa",
           "#EF553B",
           "#00cc96",
           "#ab63fa",
           "#FFA15A",
           "#19d3f3",
           "#FF6692",
           "#B6E880",
           "#FF97FF",
           "#FECB52"
          ],
          "font": {
           "color": "#2a3f5f"
          },
          "geo": {
           "bgcolor": "white",
           "lakecolor": "white",
           "landcolor": "white",
           "showlakes": true,
           "showland": true,
           "subunitcolor": "#C8D4E3"
          },
          "hoverlabel": {
           "align": "left"
          },
          "hovermode": "closest",
          "mapbox": {
           "style": "light"
          },
          "paper_bgcolor": "white",
          "plot_bgcolor": "white",
          "polar": {
           "angularaxis": {
            "gridcolor": "#EBF0F8",
            "linecolor": "#EBF0F8",
            "ticks": ""
           },
           "bgcolor": "white",
           "radialaxis": {
            "gridcolor": "#EBF0F8",
            "linecolor": "#EBF0F8",
            "ticks": ""
           }
          },
          "scene": {
           "xaxis": {
            "backgroundcolor": "white",
            "gridcolor": "#DFE8F3",
            "gridwidth": 2,
            "linecolor": "#EBF0F8",
            "showbackground": true,
            "ticks": "",
            "zerolinecolor": "#EBF0F8"
           },
           "yaxis": {
            "backgroundcolor": "white",
            "gridcolor": "#DFE8F3",
            "gridwidth": 2,
            "linecolor": "#EBF0F8",
            "showbackground": true,
            "ticks": "",
            "zerolinecolor": "#EBF0F8"
           },
           "zaxis": {
            "backgroundcolor": "white",
            "gridcolor": "#DFE8F3",
            "gridwidth": 2,
            "linecolor": "#EBF0F8",
            "showbackground": true,
            "ticks": "",
            "zerolinecolor": "#EBF0F8"
           }
          },
          "shapedefaults": {
           "line": {
            "color": "#2a3f5f"
           }
          },
          "ternary": {
           "aaxis": {
            "gridcolor": "#DFE8F3",
            "linecolor": "#A2B1C6",
            "ticks": ""
           },
           "baxis": {
            "gridcolor": "#DFE8F3",
            "linecolor": "#A2B1C6",
            "ticks": ""
           },
           "bgcolor": "white",
           "caxis": {
            "gridcolor": "#DFE8F3",
            "linecolor": "#A2B1C6",
            "ticks": ""
           }
          },
          "title": {
           "x": 0.05
          },
          "xaxis": {
           "automargin": true,
           "gridcolor": "#EBF0F8",
           "linecolor": "#EBF0F8",
           "ticks": "",
           "title": {
            "standoff": 15
           },
           "zerolinecolor": "#EBF0F8",
           "zerolinewidth": 2
          },
          "yaxis": {
           "automargin": true,
           "gridcolor": "#EBF0F8",
           "linecolor": "#EBF0F8",
           "ticks": "",
           "title": {
            "standoff": 15
           },
           "zerolinecolor": "#EBF0F8",
           "zerolinewidth": 2
          }
         }
        },
        "width": 800,
        "xaxis": {
         "anchor": "y",
         "domain": [
          0,
          1
         ],
         "title": {
          "text": "Frequency of Bigram"
         }
        },
        "yaxis": {
         "anchor": "x",
         "domain": [
          0,
          1
         ],
         "title": {
          "text": "Party"
         }
        }
       }
      },
      "text/html": [
       "<div>                            <div id=\"515bf253-e1a9-4c02-8813-a91cf5b3ca47\" class=\"plotly-graph-div\" style=\"height:500px; width:800px;\"></div>            <script type=\"text/javascript\">                require([\"plotly\"], function(Plotly) {                    window.PLOTLYENV=window.PLOTLYENV || {};                                    if (document.getElementById(\"515bf253-e1a9-4c02-8813-a91cf5b3ca47\")) {                    Plotly.newPlot(                        \"515bf253-e1a9-4c02-8813-a91cf5b3ca47\",                        [{\"alignmentgroup\":\"True\",\"hovertemplate\":\"Bigram=('homeland', 'security')<br>Frequency of Bigram=%{x}<br>Party=%{y}<extra></extra>\",\"legendgroup\":\"('homeland', 'security')\",\"marker\":{\"color\":\"rgb(136, 204, 238)\",\"pattern\":{\"shape\":\"\"}},\"name\":\"('homeland', 'security')\",\"offsetgroup\":\"('homeland', 'security')\",\"orientation\":\"h\",\"showlegend\":true,\"textposition\":\"auto\",\"x\":[3.859655845081216],\"xaxis\":\"x\",\"y\":[\"R\"],\"yaxis\":\"y\",\"type\":\"bar\"},{\"alignmentgroup\":\"True\",\"hovertemplate\":\"Bigram=('public', 'health')<br>Frequency of Bigram=%{x}<br>Party=%{y}<extra></extra>\",\"legendgroup\":\"('public', 'health')\",\"marker\":{\"color\":\"rgb(204, 102, 119)\",\"pattern\":{\"shape\":\"\"}},\"name\":\"('public', 'health')\",\"offsetgroup\":\"('public', 'health')\",\"orientation\":\"h\",\"showlegend\":true,\"textposition\":\"auto\",\"x\":[2.8998765837568556,1.4082290800078965],\"xaxis\":\"x\",\"y\":[\"D\",\"R\"],\"yaxis\":\"y\",\"type\":\"bar\"},{\"alignmentgroup\":\"True\",\"hovertemplate\":\"Bigram=('health', 'care')<br>Frequency of Bigram=%{x}<br>Party=%{y}<extra></extra>\",\"legendgroup\":\"('health', 'care')\",\"marker\":{\"color\":\"rgb(221, 204, 119)\",\"pattern\":{\"shape\":\"\"}},\"name\":\"('health', 'care')\",\"offsetgroup\":\"('health', 'care')\",\"orientation\":\"h\",\"showlegend\":true,\"textposition\":\"auto\",\"x\":[2.19228200834987,1.0989961772907288],\"xaxis\":\"x\",\"y\":[\"D\",\"R\"],\"yaxis\":\"y\",\"type\":\"bar\"},{\"alignmentgroup\":\"True\",\"hovertemplate\":\"Bigram=('higher', 'education')<br>Frequency of Bigram=%{x}<br>Party=%{y}<extra></extra>\",\"legendgroup\":\"('higher', 'education')\",\"marker\":{\"color\":\"rgb(17, 119, 51)\",\"pattern\":{\"shape\":\"\"}},\"name\":\"('higher', 'education')\",\"offsetgroup\":\"('higher', 'education')\",\"orientation\":\"h\",\"showlegend\":true,\"textposition\":\"auto\",\"x\":[1.6787915161871991],\"xaxis\":\"x\",\"y\":[\"D\"],\"yaxis\":\"y\",\"type\":\"bar\"},{\"alignmentgroup\":\"True\",\"hovertemplate\":\"Bigram=('state', 'local')<br>Frequency of Bigram=%{x}<br>Party=%{y}<extra></extra>\",\"legendgroup\":\"('state', 'local')\",\"marker\":{\"color\":\"rgb(51, 34, 136)\",\"pattern\":{\"shape\":\"\"}},\"name\":\"('state', 'local')\",\"offsetgroup\":\"('state', 'local')\",\"orientation\":\"h\",\"showlegend\":true,\"textposition\":\"auto\",\"x\":[1.4836851743374921,0.7341598819714207],\"xaxis\":\"x\",\"y\":[\"D\",\"R\"],\"yaxis\":\"y\",\"type\":\"bar\"},{\"alignmentgroup\":\"True\",\"hovertemplate\":\"Bigram=('public', 'law')<br>Frequency of Bigram=%{x}<br>Party=%{y}<extra></extra>\",\"legendgroup\":\"('public', 'law')\",\"marker\":{\"color\":\"rgb(170, 68, 153)\",\"pattern\":{\"shape\":\"\"}},\"name\":\"('public', 'law')\",\"offsetgroup\":\"('public', 'law')\",\"orientation\":\"h\",\"showlegend\":true,\"textposition\":\"auto\",\"x\":[1.4496083817541527,1.3945721063863181],\"xaxis\":\"x\",\"y\":[\"D\",\"R\"],\"yaxis\":\"y\",\"type\":\"bar\"},{\"alignmentgroup\":\"True\",\"hovertemplate\":\"Bigram=('law', 'enforcement')<br>Frequency of Bigram=%{x}<br>Party=%{y}<extra></extra>\",\"legendgroup\":\"('law', 'enforcement')\",\"marker\":{\"color\":\"rgb(68, 170, 153)\",\"pattern\":{\"shape\":\"\"}},\"name\":\"('law', 'enforcement')\",\"offsetgroup\":\"('law', 'enforcement')\",\"orientation\":\"h\",\"showlegend\":true,\"textposition\":\"auto\",\"x\":[1.2609288645180154,0.5074852926853617],\"xaxis\":\"x\",\"y\":[\"R\",\"D\"],\"yaxis\":\"y\",\"type\":\"bar\"},{\"alignmentgroup\":\"True\",\"hovertemplate\":\"Bigram=('indian', 'tribe')<br>Frequency of Bigram=%{x}<br>Party=%{y}<extra></extra>\",\"legendgroup\":\"('indian', 'tribe')\",\"marker\":{\"color\":\"rgb(153, 153, 51)\",\"pattern\":{\"shape\":\"\"}},\"name\":\"('indian', 'tribe')\",\"offsetgroup\":\"('indian', 'tribe')\",\"orientation\":\"h\",\"showlegend\":true,\"textposition\":\"auto\",\"x\":[1.1185289557728861],\"xaxis\":\"x\",\"y\":[\"D\"],\"yaxis\":\"y\",\"type\":\"bar\"},{\"alignmentgroup\":\"True\",\"hovertemplate\":\"Bigram=('social', 'security')<br>Frequency of Bigram=%{x}<br>Party=%{y}<extra></extra>\",\"legendgroup\":\"('social', 'security')\",\"marker\":{\"color\":\"rgb(136, 34, 85)\",\"pattern\":{\"shape\":\"\"}},\"name\":\"('social', 'security')\",\"offsetgroup\":\"('social', 'security')\",\"orientation\":\"h\",\"showlegend\":true,\"textposition\":\"auto\",\"x\":[1.096069682943248,1.0861225941985342],\"xaxis\":\"x\",\"y\":[\"R\",\"D\"],\"yaxis\":\"y\",\"type\":\"bar\"},{\"alignmentgroup\":\"True\",\"hovertemplate\":\"Bigram=('purpose', 'cited')<br>Frequency of Bigram=%{x}<br>Party=%{y}<extra></extra>\",\"legendgroup\":\"('purpose', 'cited')\",\"marker\":{\"color\":\"rgb(102, 17, 0)\",\"pattern\":{\"shape\":\"\"}},\"name\":\"('purpose', 'cited')\",\"offsetgroup\":\"('purpose', 'cited')\",\"orientation\":\"h\",\"showlegend\":true,\"textposition\":\"auto\",\"x\":[1.0375397959936261],\"xaxis\":\"x\",\"y\":[\"R\"],\"yaxis\":\"y\",\"type\":\"bar\"},{\"alignmentgroup\":\"True\",\"hovertemplate\":\"Bigram=('meaning', 'given')<br>Frequency of Bigram=%{x}<br>Party=%{y}<extra></extra>\",\"legendgroup\":\"('meaning', 'given')\",\"marker\":{\"color\":\"rgb(136, 136, 136)\",\"pattern\":{\"shape\":\"\"}},\"name\":\"('meaning', 'given')\",\"offsetgroup\":\"('meaning', 'given')\",\"orientation\":\"h\",\"showlegend\":true,\"textposition\":\"auto\",\"x\":[1.0343392329199304],\"xaxis\":\"x\",\"y\":[\"D\"],\"yaxis\":\"y\",\"type\":\"bar\"},{\"alignmentgroup\":\"True\",\"hovertemplate\":\"Bigram=('federal', 'agency')<br>Frequency of Bigram=%{x}<br>Party=%{y}<extra></extra>\",\"legendgroup\":\"('federal', 'agency')\",\"marker\":{\"color\":\"rgb(136, 204, 238)\",\"pattern\":{\"shape\":\"\"}},\"name\":\"('federal', 'agency')\",\"offsetgroup\":\"('federal', 'agency')\",\"orientation\":\"h\",\"showlegend\":true,\"textposition\":\"auto\",\"x\":[1.026809316719529],\"xaxis\":\"x\",\"y\":[\"R\"],\"yaxis\":\"y\",\"type\":\"bar\"},{\"alignmentgroup\":\"True\",\"hovertemplate\":\"Bigram=('given', 'term')<br>Frequency of Bigram=%{x}<br>Party=%{y}<extra></extra>\",\"legendgroup\":\"('given', 'term')\",\"marker\":{\"color\":\"rgb(204, 102, 119)\",\"pattern\":{\"shape\":\"\"}},\"name\":\"('given', 'term')\",\"offsetgroup\":\"('given', 'term')\",\"orientation\":\"h\",\"showlegend\":true,\"textposition\":\"auto\",\"x\":[0.9698605959730238],\"xaxis\":\"x\",\"y\":[\"D\"],\"yaxis\":\"y\",\"type\":\"bar\"},{\"alignmentgroup\":\"True\",\"hovertemplate\":\"Bigram=('internal', 'revenue')<br>Frequency of Bigram=%{x}<br>Party=%{y}<extra></extra>\",\"legendgroup\":\"('internal', 'revenue')\",\"marker\":{\"color\":\"rgb(221, 204, 119)\",\"pattern\":{\"shape\":\"\"}},\"name\":\"('internal', 'revenue')\",\"offsetgroup\":\"('internal', 'revenue')\",\"orientation\":\"h\",\"showlegend\":true,\"textposition\":\"auto\",\"x\":[0.959499946727464],\"xaxis\":\"x\",\"y\":[\"R\"],\"yaxis\":\"y\",\"type\":\"bar\"}],                        {\"template\":{\"data\":{\"barpolar\":[{\"marker\":{\"line\":{\"color\":\"white\",\"width\":0.5},\"pattern\":{\"fillmode\":\"overlay\",\"size\":10,\"solidity\":0.2}},\"type\":\"barpolar\"}],\"bar\":[{\"error_x\":{\"color\":\"#2a3f5f\"},\"error_y\":{\"color\":\"#2a3f5f\"},\"marker\":{\"line\":{\"color\":\"white\",\"width\":0.5},\"pattern\":{\"fillmode\":\"overlay\",\"size\":10,\"solidity\":0.2}},\"type\":\"bar\"}],\"carpet\":[{\"aaxis\":{\"endlinecolor\":\"#2a3f5f\",\"gridcolor\":\"#C8D4E3\",\"linecolor\":\"#C8D4E3\",\"minorgridcolor\":\"#C8D4E3\",\"startlinecolor\":\"#2a3f5f\"},\"baxis\":{\"endlinecolor\":\"#2a3f5f\",\"gridcolor\":\"#C8D4E3\",\"linecolor\":\"#C8D4E3\",\"minorgridcolor\":\"#C8D4E3\",\"startlinecolor\":\"#2a3f5f\"},\"type\":\"carpet\"}],\"choropleth\":[{\"colorbar\":{\"outlinewidth\":0,\"ticks\":\"\"},\"type\":\"choropleth\"}],\"contourcarpet\":[{\"colorbar\":{\"outlinewidth\":0,\"ticks\":\"\"},\"type\":\"contourcarpet\"}],\"contour\":[{\"colorbar\":{\"outlinewidth\":0,\"ticks\":\"\"},\"colorscale\":[[0.0,\"#0d0887\"],[0.1111111111111111,\"#46039f\"],[0.2222222222222222,\"#7201a8\"],[0.3333333333333333,\"#9c179e\"],[0.4444444444444444,\"#bd3786\"],[0.5555555555555556,\"#d8576b\"],[0.6666666666666666,\"#ed7953\"],[0.7777777777777778,\"#fb9f3a\"],[0.8888888888888888,\"#fdca26\"],[1.0,\"#f0f921\"]],\"type\":\"contour\"}],\"heatmapgl\":[{\"colorbar\":{\"outlinewidth\":0,\"ticks\":\"\"},\"colorscale\":[[0.0,\"#0d0887\"],[0.1111111111111111,\"#46039f\"],[0.2222222222222222,\"#7201a8\"],[0.3333333333333333,\"#9c179e\"],[0.4444444444444444,\"#bd3786\"],[0.5555555555555556,\"#d8576b\"],[0.6666666666666666,\"#ed7953\"],[0.7777777777777778,\"#fb9f3a\"],[0.8888888888888888,\"#fdca26\"],[1.0,\"#f0f921\"]],\"type\":\"heatmapgl\"}],\"heatmap\":[{\"colorbar\":{\"outlinewidth\":0,\"ticks\":\"\"},\"colorscale\":[[0.0,\"#0d0887\"],[0.1111111111111111,\"#46039f\"],[0.2222222222222222,\"#7201a8\"],[0.3333333333333333,\"#9c179e\"],[0.4444444444444444,\"#bd3786\"],[0.5555555555555556,\"#d8576b\"],[0.6666666666666666,\"#ed7953\"],[0.7777777777777778,\"#fb9f3a\"],[0.8888888888888888,\"#fdca26\"],[1.0,\"#f0f921\"]],\"type\":\"heatmap\"}],\"histogram2dcontour\":[{\"colorbar\":{\"outlinewidth\":0,\"ticks\":\"\"},\"colorscale\":[[0.0,\"#0d0887\"],[0.1111111111111111,\"#46039f\"],[0.2222222222222222,\"#7201a8\"],[0.3333333333333333,\"#9c179e\"],[0.4444444444444444,\"#bd3786\"],[0.5555555555555556,\"#d8576b\"],[0.6666666666666666,\"#ed7953\"],[0.7777777777777778,\"#fb9f3a\"],[0.8888888888888888,\"#fdca26\"],[1.0,\"#f0f921\"]],\"type\":\"histogram2dcontour\"}],\"histogram2d\":[{\"colorbar\":{\"outlinewidth\":0,\"ticks\":\"\"},\"colorscale\":[[0.0,\"#0d0887\"],[0.1111111111111111,\"#46039f\"],[0.2222222222222222,\"#7201a8\"],[0.3333333333333333,\"#9c179e\"],[0.4444444444444444,\"#bd3786\"],[0.5555555555555556,\"#d8576b\"],[0.6666666666666666,\"#ed7953\"],[0.7777777777777778,\"#fb9f3a\"],[0.8888888888888888,\"#fdca26\"],[1.0,\"#f0f921\"]],\"type\":\"histogram2d\"}],\"histogram\":[{\"marker\":{\"pattern\":{\"fillmode\":\"overlay\",\"size\":10,\"solidity\":0.2}},\"type\":\"histogram\"}],\"mesh3d\":[{\"colorbar\":{\"outlinewidth\":0,\"ticks\":\"\"},\"type\":\"mesh3d\"}],\"parcoords\":[{\"line\":{\"colorbar\":{\"outlinewidth\":0,\"ticks\":\"\"}},\"type\":\"parcoords\"}],\"pie\":[{\"automargin\":true,\"type\":\"pie\"}],\"scatter3d\":[{\"line\":{\"colorbar\":{\"outlinewidth\":0,\"ticks\":\"\"}},\"marker\":{\"colorbar\":{\"outlinewidth\":0,\"ticks\":\"\"}},\"type\":\"scatter3d\"}],\"scattercarpet\":[{\"marker\":{\"colorbar\":{\"outlinewidth\":0,\"ticks\":\"\"}},\"type\":\"scattercarpet\"}],\"scattergeo\":[{\"marker\":{\"colorbar\":{\"outlinewidth\":0,\"ticks\":\"\"}},\"type\":\"scattergeo\"}],\"scattergl\":[{\"marker\":{\"colorbar\":{\"outlinewidth\":0,\"ticks\":\"\"}},\"type\":\"scattergl\"}],\"scattermapbox\":[{\"marker\":{\"colorbar\":{\"outlinewidth\":0,\"ticks\":\"\"}},\"type\":\"scattermapbox\"}],\"scatterpolargl\":[{\"marker\":{\"colorbar\":{\"outlinewidth\":0,\"ticks\":\"\"}},\"type\":\"scatterpolargl\"}],\"scatterpolar\":[{\"marker\":{\"colorbar\":{\"outlinewidth\":0,\"ticks\":\"\"}},\"type\":\"scatterpolar\"}],\"scatter\":[{\"fillpattern\":{\"fillmode\":\"overlay\",\"size\":10,\"solidity\":0.2},\"type\":\"scatter\"}],\"scatterternary\":[{\"marker\":{\"colorbar\":{\"outlinewidth\":0,\"ticks\":\"\"}},\"type\":\"scatterternary\"}],\"surface\":[{\"colorbar\":{\"outlinewidth\":0,\"ticks\":\"\"},\"colorscale\":[[0.0,\"#0d0887\"],[0.1111111111111111,\"#46039f\"],[0.2222222222222222,\"#7201a8\"],[0.3333333333333333,\"#9c179e\"],[0.4444444444444444,\"#bd3786\"],[0.5555555555555556,\"#d8576b\"],[0.6666666666666666,\"#ed7953\"],[0.7777777777777778,\"#fb9f3a\"],[0.8888888888888888,\"#fdca26\"],[1.0,\"#f0f921\"]],\"type\":\"surface\"}],\"table\":[{\"cells\":{\"fill\":{\"color\":\"#EBF0F8\"},\"line\":{\"color\":\"white\"}},\"header\":{\"fill\":{\"color\":\"#C8D4E3\"},\"line\":{\"color\":\"white\"}},\"type\":\"table\"}]},\"layout\":{\"annotationdefaults\":{\"arrowcolor\":\"#2a3f5f\",\"arrowhead\":0,\"arrowwidth\":1},\"autotypenumbers\":\"strict\",\"coloraxis\":{\"colorbar\":{\"outlinewidth\":0,\"ticks\":\"\"}},\"colorscale\":{\"diverging\":[[0,\"#8e0152\"],[0.1,\"#c51b7d\"],[0.2,\"#de77ae\"],[0.3,\"#f1b6da\"],[0.4,\"#fde0ef\"],[0.5,\"#f7f7f7\"],[0.6,\"#e6f5d0\"],[0.7,\"#b8e186\"],[0.8,\"#7fbc41\"],[0.9,\"#4d9221\"],[1,\"#276419\"]],\"sequential\":[[0.0,\"#0d0887\"],[0.1111111111111111,\"#46039f\"],[0.2222222222222222,\"#7201a8\"],[0.3333333333333333,\"#9c179e\"],[0.4444444444444444,\"#bd3786\"],[0.5555555555555556,\"#d8576b\"],[0.6666666666666666,\"#ed7953\"],[0.7777777777777778,\"#fb9f3a\"],[0.8888888888888888,\"#fdca26\"],[1.0,\"#f0f921\"]],\"sequentialminus\":[[0.0,\"#0d0887\"],[0.1111111111111111,\"#46039f\"],[0.2222222222222222,\"#7201a8\"],[0.3333333333333333,\"#9c179e\"],[0.4444444444444444,\"#bd3786\"],[0.5555555555555556,\"#d8576b\"],[0.6666666666666666,\"#ed7953\"],[0.7777777777777778,\"#fb9f3a\"],[0.8888888888888888,\"#fdca26\"],[1.0,\"#f0f921\"]]},\"colorway\":[\"#636efa\",\"#EF553B\",\"#00cc96\",\"#ab63fa\",\"#FFA15A\",\"#19d3f3\",\"#FF6692\",\"#B6E880\",\"#FF97FF\",\"#FECB52\"],\"font\":{\"color\":\"#2a3f5f\"},\"geo\":{\"bgcolor\":\"white\",\"lakecolor\":\"white\",\"landcolor\":\"white\",\"showlakes\":true,\"showland\":true,\"subunitcolor\":\"#C8D4E3\"},\"hoverlabel\":{\"align\":\"left\"},\"hovermode\":\"closest\",\"mapbox\":{\"style\":\"light\"},\"paper_bgcolor\":\"white\",\"plot_bgcolor\":\"white\",\"polar\":{\"angularaxis\":{\"gridcolor\":\"#EBF0F8\",\"linecolor\":\"#EBF0F8\",\"ticks\":\"\"},\"bgcolor\":\"white\",\"radialaxis\":{\"gridcolor\":\"#EBF0F8\",\"linecolor\":\"#EBF0F8\",\"ticks\":\"\"}},\"scene\":{\"xaxis\":{\"backgroundcolor\":\"white\",\"gridcolor\":\"#DFE8F3\",\"gridwidth\":2,\"linecolor\":\"#EBF0F8\",\"showbackground\":true,\"ticks\":\"\",\"zerolinecolor\":\"#EBF0F8\"},\"yaxis\":{\"backgroundcolor\":\"white\",\"gridcolor\":\"#DFE8F3\",\"gridwidth\":2,\"linecolor\":\"#EBF0F8\",\"showbackground\":true,\"ticks\":\"\",\"zerolinecolor\":\"#EBF0F8\"},\"zaxis\":{\"backgroundcolor\":\"white\",\"gridcolor\":\"#DFE8F3\",\"gridwidth\":2,\"linecolor\":\"#EBF0F8\",\"showbackground\":true,\"ticks\":\"\",\"zerolinecolor\":\"#EBF0F8\"}},\"shapedefaults\":{\"line\":{\"color\":\"#2a3f5f\"}},\"ternary\":{\"aaxis\":{\"gridcolor\":\"#DFE8F3\",\"linecolor\":\"#A2B1C6\",\"ticks\":\"\"},\"baxis\":{\"gridcolor\":\"#DFE8F3\",\"linecolor\":\"#A2B1C6\",\"ticks\":\"\"},\"bgcolor\":\"white\",\"caxis\":{\"gridcolor\":\"#DFE8F3\",\"linecolor\":\"#A2B1C6\",\"ticks\":\"\"}},\"title\":{\"x\":0.05},\"xaxis\":{\"automargin\":true,\"gridcolor\":\"#EBF0F8\",\"linecolor\":\"#EBF0F8\",\"ticks\":\"\",\"title\":{\"standoff\":15},\"zerolinecolor\":\"#EBF0F8\",\"zerolinewidth\":2},\"yaxis\":{\"automargin\":true,\"gridcolor\":\"#EBF0F8\",\"linecolor\":\"#EBF0F8\",\"ticks\":\"\",\"title\":{\"standoff\":15},\"zerolinecolor\":\"#EBF0F8\",\"zerolinewidth\":2}}},\"xaxis\":{\"anchor\":\"y\",\"domain\":[0.0,1.0],\"title\":{\"text\":\"Frequency of Bigram\"}},\"yaxis\":{\"anchor\":\"x\",\"domain\":[0.0,1.0],\"title\":{\"text\":\"Party\"}},\"legend\":{\"title\":{\"text\":\"Bigram\"},\"tracegroupgap\":0},\"margin\":{\"t\":60},\"barmode\":\"relative\",\"font\":{\"size\":10,\"color\":\"DarkSlateGray\"},\"width\":800,\"height\":500},                        {\"responsive\": true}                    ).then(function(){\n",
       "                            \n",
       "var gd = document.getElementById('515bf253-e1a9-4c02-8813-a91cf5b3ca47');\n",
       "var x = new MutationObserver(function (mutations, observer) {{\n",
       "        var display = window.getComputedStyle(gd).display;\n",
       "        if (!display || display === 'none') {{\n",
       "            console.log([gd, 'removed!']);\n",
       "            Plotly.purge(gd);\n",
       "            observer.disconnect();\n",
       "        }}\n",
       "}});\n",
       "\n",
       "// Listen for the removal of the full notebook cells\n",
       "var notebookContainer = gd.closest('#notebook-container');\n",
       "if (notebookContainer) {{\n",
       "    x.observe(notebookContainer, {childList: true});\n",
       "}}\n",
       "\n",
       "// Listen for the clearing of the current output cell\n",
       "var outputEl = gd.closest('.output');\n",
       "if (outputEl) {{\n",
       "    x.observe(outputEl, {childList: true});\n",
       "}}\n",
       "\n",
       "                        })                };                });            </script>        </div>"
      ]
     },
     "metadata": {},
     "output_type": "display_data"
    },
    {
     "data": {
      "text/html": [
       "<div>\n",
       "<style scoped>\n",
       "    .dataframe tbody tr th:only-of-type {\n",
       "        vertical-align: middle;\n",
       "    }\n",
       "\n",
       "    .dataframe tbody tr th {\n",
       "        vertical-align: top;\n",
       "    }\n",
       "\n",
       "    .dataframe thead th {\n",
       "        text-align: right;\n",
       "    }\n",
       "</style>\n",
       "<table border=\"1\" class=\"dataframe\">\n",
       "  <thead>\n",
       "    <tr style=\"text-align: right;\">\n",
       "      <th></th>\n",
       "      <th>bigram</th>\n",
       "      <th>frequency</th>\n",
       "      <th>party</th>\n",
       "      <th>scaled_freq</th>\n",
       "    </tr>\n",
       "  </thead>\n",
       "  <tbody>\n",
       "    <tr>\n",
       "      <th>10</th>\n",
       "      <td>(homeland, security)</td>\n",
       "      <td>7261</td>\n",
       "      <td>R</td>\n",
       "      <td>3.859656</td>\n",
       "    </tr>\n",
       "    <tr>\n",
       "      <th>0</th>\n",
       "      <td>(public, health)</td>\n",
       "      <td>18007</td>\n",
       "      <td>D</td>\n",
       "      <td>2.899877</td>\n",
       "    </tr>\n",
       "  </tbody>\n",
       "</table>\n",
       "</div>"
      ],
      "text/plain": [
       "                  bigram  frequency party  scaled_freq\n",
       "10  (homeland, security)       7261     R     3.859656\n",
       "0       (public, health)      18007     D     2.899877"
      ]
     },
     "execution_count": 460,
     "metadata": {},
     "output_type": "execute_result"
    }
   ],
   "source": [
    "democrat_bigrams_viz(df)"
   ]
  },
  {
   "cell_type": "code",
   "execution_count": 21,
   "id": "6a3f4012",
   "metadata": {},
   "outputs": [],
   "source": [
    "dem_counts = pd.Series(democrat_words).value_counts()"
   ]
  },
  {
   "cell_type": "code",
   "execution_count": 22,
   "id": "2da2e84f",
   "metadata": {},
   "outputs": [],
   "source": [
    "rep_counts = pd.Series(republican_words).value_counts()"
   ]
  },
  {
   "cell_type": "code",
   "execution_count": 23,
   "id": "b9c82534",
   "metadata": {},
   "outputs": [],
   "source": [
    "all_counts = pd.Series(all_bill_words).value_counts()"
   ]
  },
  {
   "cell_type": "code",
   "execution_count": 24,
   "id": "64f40275",
   "metadata": {
    "scrolled": true
   },
   "outputs": [
    {
     "data": {
      "text/html": [
       "<div>\n",
       "<style scoped>\n",
       "    .dataframe tbody tr th:only-of-type {\n",
       "        vertical-align: middle;\n",
       "    }\n",
       "\n",
       "    .dataframe tbody tr th {\n",
       "        vertical-align: top;\n",
       "    }\n",
       "\n",
       "    .dataframe thead th {\n",
       "        text-align: right;\n",
       "    }\n",
       "</style>\n",
       "<table border=\"1\" class=\"dataframe\">\n",
       "  <thead>\n",
       "    <tr style=\"text-align: right;\">\n",
       "      <th></th>\n",
       "      <th>0</th>\n",
       "      <th>1</th>\n",
       "      <th>2</th>\n",
       "    </tr>\n",
       "  </thead>\n",
       "  <tbody>\n",
       "    <tr>\n",
       "      <th>program</th>\n",
       "      <td>141582.0</td>\n",
       "      <td>33156.0</td>\n",
       "      <td>175478</td>\n",
       "    </tr>\n",
       "    <tr>\n",
       "      <th>service</th>\n",
       "      <td>124381.0</td>\n",
       "      <td>35043.0</td>\n",
       "      <td>160319</td>\n",
       "    </tr>\n",
       "    <tr>\n",
       "      <th>state</th>\n",
       "      <td>120042.0</td>\n",
       "      <td>37763.0</td>\n",
       "      <td>158386</td>\n",
       "    </tr>\n",
       "    <tr>\n",
       "      <th>including</th>\n",
       "      <td>109187.0</td>\n",
       "      <td>27716.0</td>\n",
       "      <td>137491</td>\n",
       "    </tr>\n",
       "    <tr>\n",
       "      <th>health</th>\n",
       "      <td>105155.0</td>\n",
       "      <td>26996.0</td>\n",
       "      <td>133023</td>\n",
       "    </tr>\n",
       "    <tr>\n",
       "      <th>3</th>\n",
       "      <td>103356.0</td>\n",
       "      <td>36016.0</td>\n",
       "      <td>140166</td>\n",
       "    </tr>\n",
       "    <tr>\n",
       "      <th>term</th>\n",
       "      <td>101644.0</td>\n",
       "      <td>32560.0</td>\n",
       "      <td>134923</td>\n",
       "    </tr>\n",
       "    <tr>\n",
       "      <th>federal</th>\n",
       "      <td>98068.0</td>\n",
       "      <td>35525.0</td>\n",
       "      <td>134275</td>\n",
       "    </tr>\n",
       "    <tr>\n",
       "      <th>individual</th>\n",
       "      <td>90170.0</td>\n",
       "      <td>24714.0</td>\n",
       "      <td>115502</td>\n",
       "    </tr>\n",
       "    <tr>\n",
       "      <th>grant</th>\n",
       "      <td>78630.0</td>\n",
       "      <td>13902.0</td>\n",
       "      <td>93000</td>\n",
       "    </tr>\n",
       "    <tr>\n",
       "      <th>public</th>\n",
       "      <td>77239.0</td>\n",
       "      <td>22581.0</td>\n",
       "      <td>100336</td>\n",
       "    </tr>\n",
       "    <tr>\n",
       "      <th>agency</th>\n",
       "      <td>77157.0</td>\n",
       "      <td>26682.0</td>\n",
       "      <td>104167</td>\n",
       "    </tr>\n",
       "    <tr>\n",
       "      <th>amount</th>\n",
       "      <td>74361.0</td>\n",
       "      <td>18661.0</td>\n",
       "      <td>93750</td>\n",
       "    </tr>\n",
       "    <tr>\n",
       "      <th>national</th>\n",
       "      <td>72779.0</td>\n",
       "      <td>24997.0</td>\n",
       "      <td>98343</td>\n",
       "    </tr>\n",
       "    <tr>\n",
       "      <th>fund</th>\n",
       "      <td>67863.0</td>\n",
       "      <td>15155.0</td>\n",
       "      <td>83622</td>\n",
       "    </tr>\n",
       "    <tr>\n",
       "      <th>report</th>\n",
       "      <td>64779.0</td>\n",
       "      <td>20951.0</td>\n",
       "      <td>86121</td>\n",
       "    </tr>\n",
       "    <tr>\n",
       "      <th>striking</th>\n",
       "      <td>64649.0</td>\n",
       "      <td>28813.0</td>\n",
       "      <td>94195</td>\n",
       "    </tr>\n",
       "    <tr>\n",
       "      <th>eligible</th>\n",
       "      <td>63639.0</td>\n",
       "      <td>12645.0</td>\n",
       "      <td>76843</td>\n",
       "    </tr>\n",
       "    <tr>\n",
       "      <th>information</th>\n",
       "      <td>62437.0</td>\n",
       "      <td>20307.0</td>\n",
       "      <td>83167</td>\n",
       "    </tr>\n",
       "    <tr>\n",
       "      <th>4</th>\n",
       "      <td>61544.0</td>\n",
       "      <td>20527.0</td>\n",
       "      <td>82520</td>\n",
       "    </tr>\n",
       "    <tr>\n",
       "      <th>subparagraph</th>\n",
       "      <td>61361.0</td>\n",
       "      <td>21993.0</td>\n",
       "      <td>83973</td>\n",
       "    </tr>\n",
       "    <tr>\n",
       "      <th>provided</th>\n",
       "      <td>60638.0</td>\n",
       "      <td>14554.0</td>\n",
       "      <td>75501</td>\n",
       "    </tr>\n",
       "    <tr>\n",
       "      <th>plan</th>\n",
       "      <td>60186.0</td>\n",
       "      <td>21222.0</td>\n",
       "      <td>81840</td>\n",
       "    </tr>\n",
       "    <tr>\n",
       "      <th>purpose</th>\n",
       "      <td>59806.0</td>\n",
       "      <td>22184.0</td>\n",
       "      <td>82531</td>\n",
       "    </tr>\n",
       "    <tr>\n",
       "      <th>committee</th>\n",
       "      <td>58796.0</td>\n",
       "      <td>20858.0</td>\n",
       "      <td>80070</td>\n",
       "    </tr>\n",
       "    <tr>\n",
       "      <th>mean</th>\n",
       "      <td>58394.0</td>\n",
       "      <td>19424.0</td>\n",
       "      <td>78286</td>\n",
       "    </tr>\n",
       "    <tr>\n",
       "      <th>law</th>\n",
       "      <td>57911.0</td>\n",
       "      <td>23591.0</td>\n",
       "      <td>81905</td>\n",
       "    </tr>\n",
       "    <tr>\n",
       "      <th>5</th>\n",
       "      <td>57482.0</td>\n",
       "      <td>18835.0</td>\n",
       "      <td>76703</td>\n",
       "    </tr>\n",
       "    <tr>\n",
       "      <th>use</th>\n",
       "      <td>55470.0</td>\n",
       "      <td>15338.0</td>\n",
       "      <td>71123</td>\n",
       "    </tr>\n",
       "    <tr>\n",
       "      <th>respect</th>\n",
       "      <td>54006.0</td>\n",
       "      <td>18795.0</td>\n",
       "      <td>73292</td>\n",
       "    </tr>\n",
       "    <tr>\n",
       "      <th>department</th>\n",
       "      <td>51416.0</td>\n",
       "      <td>16811.0</td>\n",
       "      <td>68460</td>\n",
       "    </tr>\n",
       "    <tr>\n",
       "      <th>security</th>\n",
       "      <td>51103.0</td>\n",
       "      <td>27350.0</td>\n",
       "      <td>79197</td>\n",
       "    </tr>\n",
       "    <tr>\n",
       "      <th>assistance</th>\n",
       "      <td>49938.0</td>\n",
       "      <td>10294.0</td>\n",
       "      <td>60513</td>\n",
       "    </tr>\n",
       "    <tr>\n",
       "      <th>project</th>\n",
       "      <td>49777.0</td>\n",
       "      <td>11843.0</td>\n",
       "      <td>61952</td>\n",
       "    </tr>\n",
       "    <tr>\n",
       "      <th>period</th>\n",
       "      <td>48531.0</td>\n",
       "      <td>15763.0</td>\n",
       "      <td>64733</td>\n",
       "    </tr>\n",
       "    <tr>\n",
       "      <th>activity</th>\n",
       "      <td>48342.0</td>\n",
       "      <td>12237.0</td>\n",
       "      <td>60845</td>\n",
       "    </tr>\n",
       "    <tr>\n",
       "      <th>community</th>\n",
       "      <td>48081.0</td>\n",
       "      <td>7251.0</td>\n",
       "      <td>55590</td>\n",
       "    </tr>\n",
       "    <tr>\n",
       "      <th>provide</th>\n",
       "      <td>47942.0</td>\n",
       "      <td>13090.0</td>\n",
       "      <td>61311</td>\n",
       "    </tr>\n",
       "    <tr>\n",
       "      <th>requirement</th>\n",
       "      <td>47299.0</td>\n",
       "      <td>15485.0</td>\n",
       "      <td>63050</td>\n",
       "    </tr>\n",
       "    <tr>\n",
       "      <th>education</th>\n",
       "      <td>46054.0</td>\n",
       "      <td>10412.0</td>\n",
       "      <td>56702</td>\n",
       "    </tr>\n",
       "  </tbody>\n",
       "</table>\n",
       "</div>"
      ],
      "text/plain": [
       "                     0        1       2\n",
       "program       141582.0  33156.0  175478\n",
       "service       124381.0  35043.0  160319\n",
       "state         120042.0  37763.0  158386\n",
       "including     109187.0  27716.0  137491\n",
       "health        105155.0  26996.0  133023\n",
       "3             103356.0  36016.0  140166\n",
       "term          101644.0  32560.0  134923\n",
       "federal        98068.0  35525.0  134275\n",
       "individual     90170.0  24714.0  115502\n",
       "grant          78630.0  13902.0   93000\n",
       "public         77239.0  22581.0  100336\n",
       "agency         77157.0  26682.0  104167\n",
       "amount         74361.0  18661.0   93750\n",
       "national       72779.0  24997.0   98343\n",
       "fund           67863.0  15155.0   83622\n",
       "report         64779.0  20951.0   86121\n",
       "striking       64649.0  28813.0   94195\n",
       "eligible       63639.0  12645.0   76843\n",
       "information    62437.0  20307.0   83167\n",
       "4              61544.0  20527.0   82520\n",
       "subparagraph   61361.0  21993.0   83973\n",
       "provided       60638.0  14554.0   75501\n",
       "plan           60186.0  21222.0   81840\n",
       "purpose        59806.0  22184.0   82531\n",
       "committee      58796.0  20858.0   80070\n",
       "mean           58394.0  19424.0   78286\n",
       "law            57911.0  23591.0   81905\n",
       "5              57482.0  18835.0   76703\n",
       "use            55470.0  15338.0   71123\n",
       "respect        54006.0  18795.0   73292\n",
       "department     51416.0  16811.0   68460\n",
       "security       51103.0  27350.0   79197\n",
       "assistance     49938.0  10294.0   60513\n",
       "project        49777.0  11843.0   61952\n",
       "period         48531.0  15763.0   64733\n",
       "activity       48342.0  12237.0   60845\n",
       "community      48081.0   7251.0   55590\n",
       "provide        47942.0  13090.0   61311\n",
       "requirement    47299.0  15485.0   63050\n",
       "education      46054.0  10412.0   56702"
      ]
     },
     "execution_count": 24,
     "metadata": {},
     "output_type": "execute_result"
    }
   ],
   "source": [
    "word_freq = pd.concat([dem_counts, rep_counts, all_counts], axis = 1)\n",
    "word_freq.head(40)"
   ]
  },
  {
   "cell_type": "code",
   "execution_count": 25,
   "id": "0a8151a8",
   "metadata": {},
   "outputs": [
    {
     "data": {
      "text/html": [
       "<div>\n",
       "<style scoped>\n",
       "    .dataframe tbody tr th:only-of-type {\n",
       "        vertical-align: middle;\n",
       "    }\n",
       "\n",
       "    .dataframe tbody tr th {\n",
       "        vertical-align: top;\n",
       "    }\n",
       "\n",
       "    .dataframe thead th {\n",
       "        text-align: right;\n",
       "    }\n",
       "</style>\n",
       "<table border=\"1\" class=\"dataframe\">\n",
       "  <thead>\n",
       "    <tr style=\"text-align: right;\">\n",
       "      <th></th>\n",
       "      <th>democrat</th>\n",
       "      <th>republican</th>\n",
       "      <th>all</th>\n",
       "    </tr>\n",
       "  </thead>\n",
       "  <tbody>\n",
       "    <tr>\n",
       "      <th>program</th>\n",
       "      <td>141582.0</td>\n",
       "      <td>33156.0</td>\n",
       "      <td>175478</td>\n",
       "    </tr>\n",
       "    <tr>\n",
       "      <th>service</th>\n",
       "      <td>124381.0</td>\n",
       "      <td>35043.0</td>\n",
       "      <td>160319</td>\n",
       "    </tr>\n",
       "    <tr>\n",
       "      <th>state</th>\n",
       "      <td>120042.0</td>\n",
       "      <td>37763.0</td>\n",
       "      <td>158386</td>\n",
       "    </tr>\n",
       "    <tr>\n",
       "      <th>including</th>\n",
       "      <td>109187.0</td>\n",
       "      <td>27716.0</td>\n",
       "      <td>137491</td>\n",
       "    </tr>\n",
       "    <tr>\n",
       "      <th>health</th>\n",
       "      <td>105155.0</td>\n",
       "      <td>26996.0</td>\n",
       "      <td>133023</td>\n",
       "    </tr>\n",
       "  </tbody>\n",
       "</table>\n",
       "</div>"
      ],
      "text/plain": [
       "           democrat  republican     all\n",
       "program    141582.0     33156.0  175478\n",
       "service    124381.0     35043.0  160319\n",
       "state      120042.0     37763.0  158386\n",
       "including  109187.0     27716.0  137491\n",
       "health     105155.0     26996.0  133023"
      ]
     },
     "execution_count": 25,
     "metadata": {},
     "output_type": "execute_result"
    }
   ],
   "source": [
    "word_freq.columns = ['democrat', 'republican', 'all']\n",
    "word_freq.fillna(0, inplace=True)\n",
    "word_freq.head()"
   ]
  },
  {
   "cell_type": "code",
   "execution_count": 592,
   "id": "969f309f",
   "metadata": {},
   "outputs": [],
   "source": [
    "\n",
    "more_stopwords = ['secretary','united','states','senate','house','representative',\n",
    "                   'representatives','fiscal','year','shall','adding','end','paragraph',\n",
    "                   'made','available','prebody','subsection','day','date','submit','described',\n",
    "                   'may','congress','following','new','enactment','code','section','assembled',\n",
    "                   'b','c','amended','short','title','sec','heading', 'et', 'seq',\n",
    "                    'chapter', 'effective','enacted','subchapter','entity', '42', 'usc', 'act', 'establish',\n",
    "                       'categorical', 'america', '1', '2', 'seq','authorization',\n",
    "                       'appropriations', 'appropriated', 'inserting','numerical',\n",
    "                       'sequence','ii','meaning','given','term']\n",
    "    \n",
    "democrat_words = clean_text(' '.join(df[df['party'] == 'D']['bill_text']),more_stopwords)\n",
    "republican_words = clean_text(' '.join(df[df['party'] == 'R']['bill_text']),more_stopwords)\n",
    "    \n",
    "republican_trigrams = pd.Series(nltk.ngrams(republican_words, 3))\n",
    "top_republican_trigrams =pd.DataFrame(republican_trigrams.value_counts().head(40))\n",
    "democrat_trigrams = pd.Series(nltk.ngrams(democrat_words, 3))\n",
    "top_democrat_trigrams =pd.DataFrame(democrat_trigrams.value_counts().head(40))\n",
    "top_democrat_trigrams['party'] = 'D'\n",
    "top_republican_trigrams['party'] = 'R'\n",
    "top_democrat_trigrams.reset_index(inplace = True)\n",
    "top_republican_trigrams.reset_index(inplace = True)\n",
    "top_democrat_trigrams.rename(columns={\"index\": \"trigram\", 0: \"frequency\"},inplace = True)\n",
    "\n",
    "top_republican_trigrams.rename(columns={\"index\": \"trigram\", 0: \"frequency\"},inplace = True)\n",
    "                                       \n",
    "scaler = StandardScaler()\n",
    "top_republican_trigrams['scaled_freq'] = scaler.fit_transform(top_republican_trigrams['frequency'].values.reshape(-1, 1))\n",
    "\n",
    "top_democrat_trigrams['scaled_freq'] = scaler.fit_transform(top_democrat_trigrams['frequency'].values.reshape(-1, 1))\n",
    "top_trigrams = pd.concat([top_democrat_trigrams.head(10), top_republican_trigrams.head(10)], ignore_index=True)\n",
    "                          \n",
    "top_trigrams.sort_values(by = ['scaled_freq'], ascending = False ,inplace = True)\n",
    "\n",
    "\n",
    "    "
   ]
  },
  {
   "cell_type": "code",
   "execution_count": 593,
   "id": "572aeac3",
   "metadata": {},
   "outputs": [],
   "source": [
    "top_trigrams.sort_values(by = 'scaled_freq', inplace = True, ascending = False)"
   ]
  },
  {
   "cell_type": "code",
   "execution_count": 594,
   "id": "10e55fc0",
   "metadata": {},
   "outputs": [
    {
     "data": {
      "image/png": "[encoded data removed]",
      "text/plain": [
       "<Figure size 640x480 with 1 Axes>"
      ]
     },
     "metadata": {},
     "output_type": "display_data"
    }
   ],
   "source": [
    "pal = {\"R\" : \"red\",\n",
    "      \"D\" : \"blue\"}\n",
    "\n",
    "ax = sns.barplot(x=\"scaled_freq\", y=\"trigram\", data=top_trigrams.head(10),hue = 'party', \n",
    "                 palette = pal)\n",
    "\n",
    "ax.legend(ncol=2, loc=\"lower right\", frameon=True)\n",
    "ax.set(xlim=(0, 5), ylabel=\"Trigrams\",\n",
    "       xlabel=\"Scaled Frequency of Trigram\", title = 'Trigram Frequency by Party')\n",
    "sns.despine(left=True, bottom=True)\n",
    "\n",
    "\n",
    "plt.show()"
   ]
  },
  {
   "cell_type": "code",
   "execution_count": 520,
   "id": "84786cba",
   "metadata": {
    "collapsed": true
   },
   "outputs": [
    {
     "ename": "KeyboardInterrupt",
     "evalue": "",
     "output_type": "error",
     "traceback": [
      "\u001b[0;31m---------------------------------------------------------------------------\u001b[0m",
      "\u001b[0;31mKeyboardInterrupt\u001b[0m                         Traceback (most recent call last)",
      "Input \u001b[0;32mIn [520]\u001b[0m, in \u001b[0;36m<cell line: 1>\u001b[0;34m()\u001b[0m\n\u001b[0;32m----> 1\u001b[0m \u001b[43mrepublican_trigram_viz\u001b[49m\u001b[43m(\u001b[49m\u001b[43mdf\u001b[49m\u001b[43m)\u001b[49m\n",
      "Input \u001b[0;32mIn [488]\u001b[0m, in \u001b[0;36mrepublican_trigram_viz\u001b[0;34m(df)\u001b[0m\n\u001b[1;32m      1\u001b[0m \u001b[38;5;28;01mdef\u001b[39;00m \u001b[38;5;21mrepublican_trigram_viz\u001b[39m(df):\n\u001b[1;32m      2\u001b[0m     more_stopwords \u001b[38;5;241m=\u001b[39m [\u001b[38;5;124m'\u001b[39m\u001b[38;5;124msecretary\u001b[39m\u001b[38;5;124m'\u001b[39m,\u001b[38;5;124m'\u001b[39m\u001b[38;5;124munited\u001b[39m\u001b[38;5;124m'\u001b[39m,\u001b[38;5;124m'\u001b[39m\u001b[38;5;124mstates\u001b[39m\u001b[38;5;124m'\u001b[39m,\u001b[38;5;124m'\u001b[39m\u001b[38;5;124msenate\u001b[39m\u001b[38;5;124m'\u001b[39m,\u001b[38;5;124m'\u001b[39m\u001b[38;5;124mhouse\u001b[39m\u001b[38;5;124m'\u001b[39m,\u001b[38;5;124m'\u001b[39m\u001b[38;5;124mrepresentative\u001b[39m\u001b[38;5;124m'\u001b[39m,\n\u001b[1;32m      3\u001b[0m                    \u001b[38;5;124m'\u001b[39m\u001b[38;5;124mrepresentatives\u001b[39m\u001b[38;5;124m'\u001b[39m,\u001b[38;5;124m'\u001b[39m\u001b[38;5;124mfiscal\u001b[39m\u001b[38;5;124m'\u001b[39m,\u001b[38;5;124m'\u001b[39m\u001b[38;5;124myear\u001b[39m\u001b[38;5;124m'\u001b[39m,\u001b[38;5;124m'\u001b[39m\u001b[38;5;124mshall\u001b[39m\u001b[38;5;124m'\u001b[39m,\u001b[38;5;124m'\u001b[39m\u001b[38;5;124madding\u001b[39m\u001b[38;5;124m'\u001b[39m,\u001b[38;5;124m'\u001b[39m\u001b[38;5;124mend\u001b[39m\u001b[38;5;124m'\u001b[39m,\u001b[38;5;124m'\u001b[39m\u001b[38;5;124mparagraph\u001b[39m\u001b[38;5;124m'\u001b[39m,\n\u001b[1;32m      4\u001b[0m                    \u001b[38;5;124m'\u001b[39m\u001b[38;5;124mmade\u001b[39m\u001b[38;5;124m'\u001b[39m,\u001b[38;5;124m'\u001b[39m\u001b[38;5;124mavailable\u001b[39m\u001b[38;5;124m'\u001b[39m,\u001b[38;5;124m'\u001b[39m\u001b[38;5;124mprebody\u001b[39m\u001b[38;5;124m'\u001b[39m,\u001b[38;5;124m'\u001b[39m\u001b[38;5;124msubsection\u001b[39m\u001b[38;5;124m'\u001b[39m,\u001b[38;5;124m'\u001b[39m\u001b[38;5;124mday\u001b[39m\u001b[38;5;124m'\u001b[39m,\u001b[38;5;124m'\u001b[39m\u001b[38;5;124mdate\u001b[39m\u001b[38;5;124m'\u001b[39m,\u001b[38;5;124m'\u001b[39m\u001b[38;5;124msubmit\u001b[39m\u001b[38;5;124m'\u001b[39m,\u001b[38;5;124m'\u001b[39m\u001b[38;5;124mdescribed\u001b[39m\u001b[38;5;124m'\u001b[39m,\n\u001b[0;32m   (...)\u001b[0m\n\u001b[1;32m      9\u001b[0m                        \u001b[38;5;124m'\u001b[39m\u001b[38;5;124mappropriations\u001b[39m\u001b[38;5;124m'\u001b[39m, \u001b[38;5;124m'\u001b[39m\u001b[38;5;124mappropriated\u001b[39m\u001b[38;5;124m'\u001b[39m, \u001b[38;5;124m'\u001b[39m\u001b[38;5;124minserting\u001b[39m\u001b[38;5;124m'\u001b[39m,\u001b[38;5;124m'\u001b[39m\u001b[38;5;124mnumerical\u001b[39m\u001b[38;5;124m'\u001b[39m,\n\u001b[1;32m     10\u001b[0m                        \u001b[38;5;124m'\u001b[39m\u001b[38;5;124msequence\u001b[39m\u001b[38;5;124m'\u001b[39m,\u001b[38;5;124m'\u001b[39m\u001b[38;5;124mii\u001b[39m\u001b[38;5;124m'\u001b[39m]\n\u001b[0;32m---> 12\u001b[0m     democrat_words \u001b[38;5;241m=\u001b[39m \u001b[43mclean_text\u001b[49m\u001b[43m(\u001b[49m\u001b[38;5;124;43m'\u001b[39;49m\u001b[38;5;124;43m \u001b[39;49m\u001b[38;5;124;43m'\u001b[39;49m\u001b[38;5;241;43m.\u001b[39;49m\u001b[43mjoin\u001b[49m\u001b[43m(\u001b[49m\u001b[43mdf\u001b[49m\u001b[43m[\u001b[49m\u001b[43mdf\u001b[49m\u001b[43m[\u001b[49m\u001b[38;5;124;43m'\u001b[39;49m\u001b[38;5;124;43mparty\u001b[39;49m\u001b[38;5;124;43m'\u001b[39;49m\u001b[43m]\u001b[49m\u001b[43m \u001b[49m\u001b[38;5;241;43m==\u001b[39;49m\u001b[43m \u001b[49m\u001b[38;5;124;43m'\u001b[39;49m\u001b[38;5;124;43mD\u001b[39;49m\u001b[38;5;124;43m'\u001b[39;49m\u001b[43m]\u001b[49m\u001b[43m[\u001b[49m\u001b[38;5;124;43m'\u001b[39;49m\u001b[38;5;124;43mbill_text\u001b[39;49m\u001b[38;5;124;43m'\u001b[39;49m\u001b[43m]\u001b[49m\u001b[43m)\u001b[49m\u001b[43m,\u001b[49m\u001b[43m \u001b[49m\n\u001b[1;32m     13\u001b[0m \u001b[43m                                 \u001b[49m\u001b[43mmore_stopwords\u001b[49m\u001b[43m)\u001b[49m\n\u001b[1;32m     15\u001b[0m     republican_trigrams \u001b[38;5;241m=\u001b[39m pd\u001b[38;5;241m.\u001b[39mSeries(nltk\u001b[38;5;241m.\u001b[39mngrams(republican_words, \u001b[38;5;241m3\u001b[39m))\n\u001b[1;32m     16\u001b[0m     top_republican_trigrams \u001b[38;5;241m=\u001b[39mpd\u001b[38;5;241m.\u001b[39mDataFrame(republican_trigrams\u001b[38;5;241m.\u001b[39mvalue_counts()\u001b[38;5;241m.\u001b[39mhead(\u001b[38;5;241m40\u001b[39m))\n",
      "File \u001b[0;32m~/codeup-data-science/political_parser/prepare.py:64\u001b[0m, in \u001b[0;36mclean_text\u001b[0;34m(text, extra_stopwords)\u001b[0m\n\u001b[1;32m     62\u001b[0m words \u001b[38;5;241m=\u001b[39m re\u001b[38;5;241m.\u001b[39msub(\u001b[38;5;124mr\u001b[39m\u001b[38;5;124m'\u001b[39m\u001b[38;5;124m_\u001b[39m\u001b[38;5;124m'\u001b[39m, \u001b[38;5;124m'\u001b[39m\u001b[38;5;124m'\u001b[39m,\u001b[38;5;124m'\u001b[39m\u001b[38;5;124m \u001b[39m\u001b[38;5;124m'\u001b[39m\u001b[38;5;241m.\u001b[39mjoin(words))\u001b[38;5;241m.\u001b[39msplit(\u001b[38;5;124m'\u001b[39m\u001b[38;5;124m \u001b[39m\u001b[38;5;124m'\u001b[39m)\n\u001b[1;32m     63\u001b[0m words \u001b[38;5;241m=\u001b[39m [w \u001b[38;5;28;01mfor\u001b[39;00m w \u001b[38;5;129;01min\u001b[39;00m words \u001b[38;5;28;01mif\u001b[39;00m \u001b[38;5;28mlen\u001b[39m(w)\u001b[38;5;241m<\u001b[39m\u001b[38;5;241m25\u001b[39m]\n\u001b[0;32m---> 64\u001b[0m \u001b[38;5;28;01mreturn\u001b[39;00m [wnl\u001b[38;5;241m.\u001b[39mlemmatize(word) \u001b[38;5;28;01mfor\u001b[39;00m word \u001b[38;5;129;01min\u001b[39;00m words \u001b[38;5;28;01mif\u001b[39;00m word \u001b[38;5;129;01mnot\u001b[39;00m \u001b[38;5;129;01min\u001b[39;00m stopwords]\n",
      "File \u001b[0;32m~/codeup-data-science/political_parser/prepare.py:64\u001b[0m, in \u001b[0;36m<listcomp>\u001b[0;34m(.0)\u001b[0m\n\u001b[1;32m     62\u001b[0m words \u001b[38;5;241m=\u001b[39m re\u001b[38;5;241m.\u001b[39msub(\u001b[38;5;124mr\u001b[39m\u001b[38;5;124m'\u001b[39m\u001b[38;5;124m_\u001b[39m\u001b[38;5;124m'\u001b[39m, \u001b[38;5;124m'\u001b[39m\u001b[38;5;124m'\u001b[39m,\u001b[38;5;124m'\u001b[39m\u001b[38;5;124m \u001b[39m\u001b[38;5;124m'\u001b[39m\u001b[38;5;241m.\u001b[39mjoin(words))\u001b[38;5;241m.\u001b[39msplit(\u001b[38;5;124m'\u001b[39m\u001b[38;5;124m \u001b[39m\u001b[38;5;124m'\u001b[39m)\n\u001b[1;32m     63\u001b[0m words \u001b[38;5;241m=\u001b[39m [w \u001b[38;5;28;01mfor\u001b[39;00m w \u001b[38;5;129;01min\u001b[39;00m words \u001b[38;5;28;01mif\u001b[39;00m \u001b[38;5;28mlen\u001b[39m(w)\u001b[38;5;241m<\u001b[39m\u001b[38;5;241m25\u001b[39m]\n\u001b[0;32m---> 64\u001b[0m \u001b[38;5;28;01mreturn\u001b[39;00m [\u001b[43mwnl\u001b[49m\u001b[38;5;241m.\u001b[39mlemmatize(word) \u001b[38;5;28;01mfor\u001b[39;00m word \u001b[38;5;129;01min\u001b[39;00m words \u001b[38;5;28;01mif\u001b[39;00m word \u001b[38;5;129;01mnot\u001b[39;00m \u001b[38;5;129;01min\u001b[39;00m stopwords]\n",
      "\u001b[0;31mKeyboardInterrupt\u001b[0m: "
     ]
    }
   ],
   "source": [
    "republican_trigram_viz(df)"
   ]
  },
  {
   "cell_type": "code",
   "execution_count": 578,
   "id": "7ff25dce",
   "metadata": {},
   "outputs": [],
   "source": [
    "more_stopwords = ['secretary','united','states','senate','house','representative',\n",
    "                   'representatives','fiscal','year','shall','adding','end','paragraph',\n",
    "                   'made','available','prebody','subsection','day','date','submit','described',\n",
    "                   'may','congress','following','new','enactment','code','section','assembled',\n",
    "                   'b','c','amended','short','title','sec','heading', 'et', 'seq',\n",
    "                    'chapter', 'effective','enacted','subchapter','entity', '42', 'usc', 'act', 'establish',\n",
    "                       'categorical', 'america', '1', '2', 'seq','authorization',\n",
    "                       'appropriations', 'appropriated', 'inserting','numerical',\n",
    "                       'sequence','ii']\n",
    "    \n",
    "democrat_words = clean_text(' '.join(df[df['party'] == 'D']['bill_text']), \n",
    "                                 more_stopwords)\n",
    "democrat_bigrams = pd.Series(nltk.ngrams(democrat_words, 2))\n",
    "top_democrat_bigrams =democrat_bigrams.value_counts().head(40)\n",
    "top_democrat_bigrams = pd.DataFrame(top_democrat_bigrams)\n",
    "top_democrat_bigrams['party'] = 'D'\n",
    "republican_words = clean_text(' '.join(df[df['party'] == 'R']['bill_text']), \n",
    "                              more_stopwords)\n",
    "republican_bigrams = pd.Series(nltk.ngrams(republican_words, 2))\n",
    "top_republican_bigrams =republican_bigrams.value_counts().head(40)\n",
    "top_republican_bigrams = pd.DataFrame(top_republican_bigrams)\n",
    "top_republican_bigrams['party'] = 'R'\n",
    "top_democrat_bigrams.reset_index(inplace = True)\n",
    "top_republican_bigrams.reset_index(inplace = True)\n",
    "top_democrat_bigrams.rename(columns={\"index\": \"bigram\", \n",
    "                                     0: \"frequency\"},inplace = True)\n",
    "        \n",
    "top_republican_bigrams.rename(columns={\"index\": \"bigram\", \n",
    "                                    0: \"frequency\"},inplace = True)\n",
    "scaler = StandardScaler()\n",
    "top_republican_bigrams['scaled_freq'] = scaler.fit_transform(top_republican_bigrams['frequency'].values.reshape(-1, 1))\n",
    "\n",
    "top_democrat_bigrams['scaled_freq'] = scaler.fit_transform(top_democrat_bigrams['frequency'].values.reshape(-1, 1))\n",
    "top_bigrams = pd.concat([top_democrat_bigrams.head(10), top_republican_bigrams.head(10)], \n",
    "                        ignore_index = True)\n",
    "top_bigrams.sort_values(by = ['scaled_freq'], ascending = False ,inplace = True)"
   ]
  },
  {
   "cell_type": "code",
   "execution_count": 587,
   "id": "4d7e7765",
   "metadata": {},
   "outputs": [
    {
     "data": {
      "image/png": "[encoded data removed]",
      "text/plain": [
       "<Figure size 640x480 with 1 Axes>"
      ]
     },
     "metadata": {},
     "output_type": "display_data"
    }
   ],
   "source": [
    "pal = {\"R\" : \"red\",\n",
    "      \"D\" : \"blue\"}\n",
    "\n",
    "ax = sns.barplot(x=\"scaled_freq\", y=\"bigram\", data=top_bigrams.head(10),hue = 'party', \n",
    "                 palette = pal)\n",
    "\n",
    "ax.legend(ncol=2, loc=\"lower right\", frameon=True)\n",
    "ax.set(xlim=(0, 5), ylabel=\"Bigrams\",\n",
    "       xlabel=\"Scaled Frequency of Bigram\", title = 'Bigram Frequency by Party')\n",
    "sns.despine(left=True, bottom=True)\n",
    "\n",
    "\n",
    "plt.show()"
   ]
  },
  {
   "cell_type": "code",
   "execution_count": null,
   "id": "b87b116b",
   "metadata": {},
   "outputs": [],
   "source": []
  }
 ],
 "metadata": {
  "kernelspec": {
   "display_name": "Python 3 (ipykernel)",
   "language": "python",
   "name": "python3"
  },
  "language_info": {
   "codemirror_mode": {
    "name": "ipython",
    "version": 3
   },
   "file_extension": ".py",
   "mimetype": "text/x-python",
   "name": "python",
   "nbconvert_exporter": "python",
   "pygments_lexer": "ipython3",
   "version": "3.9.13"
  }
 },
 "nbformat": 4,
 "nbformat_minor": 5
}
