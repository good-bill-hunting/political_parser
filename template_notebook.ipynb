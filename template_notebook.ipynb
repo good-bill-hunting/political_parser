{
 "cells": [
  {
   "cell_type": "code",
   "execution_count": 1,
   "id": "7e711830",
   "metadata": {},
   "outputs": [],
   "source": [
    "import pandas as pd\n",
    "import numpy as np\n",
    "from env import api_key\n",
    "import requests\n",
    "import json\n",
    "from acquire import *\n",
    "from bs4 import BeautifulSoup\n",
    "import os\n",
    "from prepare import *\n",
    "import matplotlib.pyplot as plt\n",
    "import re\n",
    "from nlp_modeling_functions import *\n",
    "import IPython\n",
    "from sklearn.model_selection import GridSearchCV\n",
    "from sklearn.linear_model import LogisticRegression\n",
    "from sklearn.neighbors import KNeighborsClassifier\n",
    "from sklearn.ensemble import RandomForestClassifier\n",
    "from sklearn.tree import DecisionTreeClassifier, plot_tree\n",
    "\n",
    "#Removes warnings and imporves asthenics\n",
    "import warnings\n",
    "warnings.filterwarnings(\"ignore\")"
   ]
  },
  {
   "cell_type": "markdown",
   "id": "987b02e0",
   "metadata": {},
   "source": [
    "# Acquire"
   ]
  },
  {
   "cell_type": "code",
   "execution_count": 2,
   "id": "ad4c649d",
   "metadata": {},
   "outputs": [],
   "source": [
    "# function calling the acquired df\n",
    "links = get_links_to_bills()"
   ]
  },
  {
   "cell_type": "code",
   "execution_count": 3,
   "id": "1c33ac86",
   "metadata": {},
   "outputs": [],
   "source": [
    "df = acquire_bills(links, filename=\"master_df.csv\")"
   ]
  },
  {
   "cell_type": "code",
   "execution_count": 4,
   "id": "b7ea1067-aa75-4f36-b4bb-568bd21220df",
   "metadata": {},
   "outputs": [],
   "source": [
    "df = df.sample(3000)"
   ]
  },
  {
   "cell_type": "code",
   "execution_count": 5,
   "id": "417a74ed-119b-442f-b242-30fce302958d",
   "metadata": {},
   "outputs": [],
   "source": [
    "df = df[(df.party == \"D\") | (df.party == \"R\")]"
   ]
  },
  {
   "cell_type": "markdown",
   "id": "14430971",
   "metadata": {},
   "source": [
    "# Prepare"
   ]
  },
  {
   "cell_type": "code",
   "execution_count": 6,
   "id": "d14319ba-725a-4a25-b207-bd3140bbba10",
   "metadata": {},
   "outputs": [],
   "source": [
    "df = prepare_bills_for_processing(df)"
   ]
  },
  {
   "cell_type": "code",
   "execution_count": 7,
   "id": "c5d57b12",
   "metadata": {},
   "outputs": [],
   "source": [
    "# creating a lemmatized column and cleaning the df\n",
    "df['lem']= df.bill_text.apply(clean_text)"
   ]
  },
  {
   "cell_type": "code",
   "execution_count": 8,
   "id": "a2c96543",
   "metadata": {},
   "outputs": [
    {
     "data": {
      "text/html": [
       "<div>\n",
       "<style scoped>\n",
       "    .dataframe tbody tr th:only-of-type {\n",
       "        vertical-align: middle;\n",
       "    }\n",
       "\n",
       "    .dataframe tbody tr th {\n",
       "        vertical-align: top;\n",
       "    }\n",
       "\n",
       "    .dataframe thead th {\n",
       "        text-align: right;\n",
       "    }\n",
       "</style>\n",
       "<table border=\"1\" class=\"dataframe\">\n",
       "  <thead>\n",
       "    <tr style=\"text-align: right;\">\n",
       "      <th></th>\n",
       "      <th>sponsor</th>\n",
       "      <th>party</th>\n",
       "      <th>bill_text</th>\n",
       "      <th>lem</th>\n",
       "      <th>model</th>\n",
       "    </tr>\n",
       "  </thead>\n",
       "  <tbody>\n",
       "    <tr>\n",
       "      <th>7599</th>\n",
       "      <td>Bost, Mike</td>\n",
       "      <td>R</td>\n",
       "      <td>\\n\\n\\n \\n To establish an advisory commission ...</td>\n",
       "      <td>[establish, advisory, commission, regarding, e...</td>\n",
       "      <td>establish advisory commission regarding eligib...</td>\n",
       "    </tr>\n",
       "    <tr>\n",
       "      <th>9653</th>\n",
       "      <td>Sanchez, Linda T.</td>\n",
       "      <td>D</td>\n",
       "      <td>\\n\\n\\n \\n Expressing support for designation o...</td>\n",
       "      <td>[expressing, support, designation, welcome, ho...</td>\n",
       "      <td>expressing support designation welcome home vi...</td>\n",
       "    </tr>\n",
       "    <tr>\n",
       "      <th>2320</th>\n",
       "      <td>Kildee, Daniel T.</td>\n",
       "      <td>D</td>\n",
       "      <td>\\n\\n\\n \\nTo direct the Neighborhood Reinvestme...</td>\n",
       "      <td>[direct, neighborhood, reinvestment, corporati...</td>\n",
       "      <td>direct neighborhood reinvestment corporation r...</td>\n",
       "    </tr>\n",
       "    <tr>\n",
       "      <th>22964</th>\n",
       "      <td>Davidson, Warren</td>\n",
       "      <td>R</td>\n",
       "      <td>\\n\\n\\n \\nTo prevent class-based loan forgivene...</td>\n",
       "      <td>[prevent, classbased, loan, forgiveness, feder...</td>\n",
       "      <td>prevent classbased loan forgiveness federal st...</td>\n",
       "    </tr>\n",
       "    <tr>\n",
       "      <th>4500</th>\n",
       "      <td>Cook, Paul</td>\n",
       "      <td>R</td>\n",
       "      <td>\\n\\n\\n \\nTo amend the Bridgeport Indian Colony...</td>\n",
       "      <td>[amend, bridgeport, indian, colony, land, trus...</td>\n",
       "      <td>amend bridgeport indian colony land trust heal...</td>\n",
       "    </tr>\n",
       "  </tbody>\n",
       "</table>\n",
       "</div>"
      ],
      "text/plain": [
       "                 sponsor party  \\\n",
       "7599          Bost, Mike     R   \n",
       "9653   Sanchez, Linda T.     D   \n",
       "2320   Kildee, Daniel T.     D   \n",
       "22964   Davidson, Warren     R   \n",
       "4500          Cook, Paul     R   \n",
       "\n",
       "                                               bill_text  \\\n",
       "7599   \\n\\n\\n \\n To establish an advisory commission ...   \n",
       "9653   \\n\\n\\n \\n Expressing support for designation o...   \n",
       "2320   \\n\\n\\n \\nTo direct the Neighborhood Reinvestme...   \n",
       "22964  \\n\\n\\n \\nTo prevent class-based loan forgivene...   \n",
       "4500   \\n\\n\\n \\nTo amend the Bridgeport Indian Colony...   \n",
       "\n",
       "                                                     lem  \\\n",
       "7599   [establish, advisory, commission, regarding, e...   \n",
       "9653   [expressing, support, designation, welcome, ho...   \n",
       "2320   [direct, neighborhood, reinvestment, corporati...   \n",
       "22964  [prevent, classbased, loan, forgiveness, feder...   \n",
       "4500   [amend, bridgeport, indian, colony, land, trus...   \n",
       "\n",
       "                                                   model  \n",
       "7599   establish advisory commission regarding eligib...  \n",
       "9653   expressing support designation welcome home vi...  \n",
       "2320   direct neighborhood reinvestment corporation r...  \n",
       "22964  prevent classbased loan forgiveness federal st...  \n",
       "4500   amend bridgeport indian colony land trust heal...  "
      ]
     },
     "execution_count": 8,
     "metadata": {},
     "output_type": "execute_result"
    }
   ],
   "source": [
    "df['model']= df.lem.apply(join)\n",
    "df.head()"
   ]
  },
  {
   "cell_type": "code",
   "execution_count": 9,
   "id": "6c0ee1d5",
   "metadata": {},
   "outputs": [],
   "source": [
    "# splitting the data\n",
    "train, X_train, y_train, X_val, y_val, X_test, y_test = split_data(df, 'party')"
   ]
  },
  {
   "cell_type": "code",
   "execution_count": 10,
   "id": "73a453b3",
   "metadata": {},
   "outputs": [
    {
     "data": {
      "text/plain": [
       "(1669, 5)"
      ]
     },
     "execution_count": 10,
     "metadata": {},
     "output_type": "execute_result"
    }
   ],
   "source": [
    "train.shape"
   ]
  },
  {
   "cell_type": "markdown",
   "id": "39e26a22-95ad-49cb-94d9-91bca3902521",
   "metadata": {},
   "source": [
    "# Modeling"
   ]
  },
  {
   "cell_type": "code",
   "execution_count": 11,
   "id": "e2773518-967a-402a-952e-4c82bb170050",
   "metadata": {},
   "outputs": [
    {
     "data": {
      "text/html": [
       "<div>\n",
       "<style scoped>\n",
       "    .dataframe tbody tr th:only-of-type {\n",
       "        vertical-align: middle;\n",
       "    }\n",
       "\n",
       "    .dataframe tbody tr th {\n",
       "        vertical-align: top;\n",
       "    }\n",
       "\n",
       "    .dataframe thead th {\n",
       "        text-align: right;\n",
       "    }\n",
       "</style>\n",
       "<table border=\"1\" class=\"dataframe\">\n",
       "  <thead>\n",
       "    <tr style=\"text-align: right;\">\n",
       "      <th></th>\n",
       "      <th>sponsor</th>\n",
       "      <th>bill_text</th>\n",
       "      <th>lem</th>\n",
       "      <th>model</th>\n",
       "    </tr>\n",
       "  </thead>\n",
       "  <tbody>\n",
       "    <tr>\n",
       "      <th>6617</th>\n",
       "      <td>Wittman, Robert J.</td>\n",
       "      <td>\\n\\n\\n \\n To improve the provision of health c...</td>\n",
       "      <td>[improve, provision, health, care, department,...</td>\n",
       "      <td>improve provision health care department veter...</td>\n",
       "    </tr>\n",
       "    <tr>\n",
       "      <th>18570</th>\n",
       "      <td>Green, Mark E.</td>\n",
       "      <td>\\n\\n\\n \\n To require educational agencies and ...</td>\n",
       "      <td>[require, educational, agency, institution, pr...</td>\n",
       "      <td>require educational agency institution provide...</td>\n",
       "    </tr>\n",
       "    <tr>\n",
       "      <th>9748</th>\n",
       "      <td>Sullivan, Dan</td>\n",
       "      <td>\\n\\n\\n \\nTo establish the American Fisheries A...</td>\n",
       "      <td>[establish, american, fishery, advisory, commi...</td>\n",
       "      <td>establish american fishery advisory committee ...</td>\n",
       "    </tr>\n",
       "    <tr>\n",
       "      <th>22800</th>\n",
       "      <td>Whitehouse, Sheldon</td>\n",
       "      <td>\\n\\n\\n \\n   To establish a process for expedit...</td>\n",
       "      <td>[establish, process, expedited, consideration,...</td>\n",
       "      <td>establish process expedited consideration legi...</td>\n",
       "    </tr>\n",
       "    <tr>\n",
       "      <th>4676</th>\n",
       "      <td>Guthrie, Brett</td>\n",
       "      <td>\\n\\n\\n \\nTo designate certain future interstat...</td>\n",
       "      <td>[designate, certain, future, interstate, high,...</td>\n",
       "      <td>designate certain future interstate high prior...</td>\n",
       "    </tr>\n",
       "  </tbody>\n",
       "</table>\n",
       "</div>"
      ],
      "text/plain": [
       "                   sponsor                                          bill_text  \\\n",
       "6617    Wittman, Robert J.  \\n\\n\\n \\n To improve the provision of health c...   \n",
       "18570       Green, Mark E.  \\n\\n\\n \\n To require educational agencies and ...   \n",
       "9748         Sullivan, Dan  \\n\\n\\n \\nTo establish the American Fisheries A...   \n",
       "22800  Whitehouse, Sheldon  \\n\\n\\n \\n   To establish a process for expedit...   \n",
       "4676        Guthrie, Brett  \\n\\n\\n \\nTo designate certain future interstat...   \n",
       "\n",
       "                                                     lem  \\\n",
       "6617   [improve, provision, health, care, department,...   \n",
       "18570  [require, educational, agency, institution, pr...   \n",
       "9748   [establish, american, fishery, advisory, commi...   \n",
       "22800  [establish, process, expedited, consideration,...   \n",
       "4676   [designate, certain, future, interstate, high,...   \n",
       "\n",
       "                                                   model  \n",
       "6617   improve provision health care department veter...  \n",
       "18570  require educational agency institution provide...  \n",
       "9748   establish american fishery advisory committee ...  \n",
       "22800  establish process expedited consideration legi...  \n",
       "4676   designate certain future interstate high prior...  "
      ]
     },
     "execution_count": 11,
     "metadata": {},
     "output_type": "execute_result"
    }
   ],
   "source": [
    "X_train.head()"
   ]
  },
  {
   "cell_type": "code",
   "execution_count": 12,
   "id": "18456333-092b-430c-879c-51a5a67d866f",
   "metadata": {},
   "outputs": [],
   "source": [
    "X_train, X_val, X_test = vectorize_data(X_train, X_val, X_test, target_col = \"bill_text\")"
   ]
  },
  {
   "cell_type": "markdown",
   "id": "9f4c3c42-adc5-49d6-8aa7-cc4081670d06",
   "metadata": {},
   "source": [
    "## Grid Search"
   ]
  },
  {
   "cell_type": "code",
   "execution_count": 20,
   "id": "f49cf5fe-7d90-49b3-b16d-3afac8acd477",
   "metadata": {},
   "outputs": [],
   "source": [
    "params = {\"n_neighbors\": [1, 3, 5, 7, 9],\n",
    "          \"weights\":[\"uniform\", \"distance\"],\n",
    "          \"algorithm\": [\"auto\", \"ball_tree\", \"kd_tree\", \"brute\"],\n",
    "          \"leaf_size\": [10, 20, 30, 50, 100],\n",
    "          \"n_jobs\": [-1],\n",
    "          \"metric\":[\"minkowski\", \"cityblock\", \"cosine\", \"euclidean\", \"haversine\", \"l1\", \"l2\", \"manhattan\", \"nan_euclidean\"]}"
   ]
  },
  {
   "cell_type": "code",
   "execution_count": 21,
   "id": "d3aea901-0b26-49b7-906c-dcdfa88d72af",
   "metadata": {},
   "outputs": [],
   "source": [
    "rf = KNeighborsClassifier()\n"
   ]
  },
  {
   "cell_type": "code",
   "execution_count": 22,
   "id": "ab9e720a-3676-4230-bc30-ed76e2b9ac78",
   "metadata": {},
   "outputs": [],
   "source": [
    "grid = GridSearchCV(rf, params, cv=3)"
   ]
  },
  {
   "cell_type": "code",
   "execution_count": null,
   "id": "1d3d5f81-e3d1-45fe-ab78-b37fb9b60dd1",
   "metadata": {},
   "outputs": [],
   "source": [
    "grid.fit(X_train, y_train)"
   ]
  },
  {
   "cell_type": "code",
   "execution_count": null,
   "id": "3d3103df-0f10-4668-ab44-be8a4ac5717d",
   "metadata": {},
   "outputs": [],
   "source": [
    "results = grid.cv_results_\n",
    "results.keys()"
   ]
  },
  {
   "cell_type": "code",
   "execution_count": null,
   "id": "a068dd86-08c4-401f-b1b7-5348c925a613",
   "metadata": {},
   "outputs": [],
   "source": [
    "test_scores = results['mean_test_score']\n",
    "test_scores"
   ]
  },
  {
   "cell_type": "code",
   "execution_count": null,
   "id": "746c6f0d-6bba-419e-91ed-e844ab5b7cf3",
   "metadata": {},
   "outputs": [],
   "source": [
    "params = results['params']\n",
    "params"
   ]
  },
  {
   "cell_type": "code",
   "execution_count": null,
   "id": "14550f48-9dac-4e3d-a466-507e1137e714",
   "metadata": {},
   "outputs": [],
   "source": [
    "for p, s in zip(params, test_scores):\n",
    "    p['score'] = s\n",
    "\n",
    "score_df = pd.DataFrame(params).sort_values(by='score', ascending=False)"
   ]
  },
  {
   "cell_type": "code",
   "execution_count": null,
   "id": "c43c69ab-cb2d-4705-89e0-d3d5635d9687",
   "metadata": {},
   "outputs": [],
   "source": [
    "score_df.dropna()"
   ]
  },
  {
   "cell_type": "code",
   "execution_count": null,
   "id": "c8b58885-f680-4728-ad63-8817ec48db27",
   "metadata": {},
   "outputs": [],
   "source": [
    "score_df[score_df.score == score_df.score.max()]"
   ]
  },
  {
   "cell_type": "markdown",
   "id": "4527d1a7-6f70-49dc-a9a0-860eaaafcfe1",
   "metadata": {},
   "source": [
    "## Baseline"
   ]
  },
  {
   "cell_type": "code",
   "execution_count": null,
   "id": "ccb951c2-33eb-4070-a04e-48a934628f2f",
   "metadata": {},
   "outputs": [],
   "source": [
    "len(y_train[y_train == 'D'])/ len(y_train)"
   ]
  },
  {
   "cell_type": "markdown",
   "id": "c1dac70e-0774-4471-b1a1-37618928e395",
   "metadata": {},
   "source": [
    "## Modeling"
   ]
  },
  {
   "cell_type": "code",
   "execution_count": null,
   "id": "0a8b404f-059e-48b8-903a-5a4e4b036a6b",
   "metadata": {},
   "outputs": [],
   "source": [
    "lr_mod(X_train, y_train, X_val, y_val, metric = 1, print_scores = True)"
   ]
  },
  {
   "cell_type": "code",
   "execution_count": null,
   "id": "8d6c6692-50eb-49b0-b5e9-d15c9b237d4d",
   "metadata": {},
   "outputs": [],
   "source": [
    "rand_forest(X_train, y_train, X_val, y_val, metric = 1, print_scores = True)"
   ]
  },
  {
   "cell_type": "code",
   "execution_count": null,
   "id": "8e7ec64c-c926-4782-b56e-9b79d4f9866c",
   "metadata": {},
   "outputs": [],
   "source": [
    "dec_tree(X_train, y_train, X_val, y_val, metric = 1, print_scores = True)"
   ]
  },
  {
   "cell_type": "code",
   "execution_count": null,
   "id": "f98146ad-f189-4cb3-81eb-020f1f775520",
   "metadata": {},
   "outputs": [],
   "source": [
    "knn_mod(X_train, y_train, X_val, y_val, metric = 1, print_scores = True)"
   ]
  },
  {
   "cell_type": "code",
   "execution_count": null,
   "id": "3c0a0f26-9dae-4cb8-be25-d612512002b2",
   "metadata": {},
   "outputs": [],
   "source": [
    "IPython.display.Audio(\"ding.mp3\", autoplay=True)"
   ]
  },
  {
   "cell_type": "code",
   "execution_count": null,
   "id": "079a6075-2725-4900-9b0b-412b11760a93",
   "metadata": {},
   "outputs": [],
   "source": []
  }
 ],
 "metadata": {
  "kernelspec": {
   "display_name": "Python 3 (ipykernel)",
   "language": "python",
   "name": "python3"
  },
  "language_info": {
   "codemirror_mode": {
    "name": "ipython",
    "version": 3
   },
   "file_extension": ".py",
   "mimetype": "text/x-python",
   "name": "python",
   "nbconvert_exporter": "python",
   "pygments_lexer": "ipython3",
   "version": "3.9.15"
  }
 },
 "nbformat": 4,
 "nbformat_minor": 5
}
