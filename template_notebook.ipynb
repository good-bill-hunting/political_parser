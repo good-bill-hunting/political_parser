{
 "cells": [
  {
   "cell_type": "code",
   "execution_count": 2,
   "id": "06faa784",
   "metadata": {},
   "outputs": [],
   "source": [
    "import pandas as pd\n",
    "import numpy as np\n",
    "from env import api_key\n",
    "import requests\n",
    "import json\n",
    "from acquire import *\n",
    "from bs4 import BeautifulSoup\n",
    "import os\n",
    "from prepare import *"
   ]
  },
  {
   "cell_type": "markdown",
   "id": "39321186",
   "metadata": {},
   "source": [
    "# Acquire"
   ]
  },
  {
   "cell_type": "code",
   "execution_count": null,
   "id": "99a621a5",
   "metadata": {},
   "outputs": [],
   "source": [
    "# function calling the acquired df\n",
    "links = get_links_to_bills()"
   ]
  },
  {
   "cell_type": "code",
   "execution_count": null,
   "id": "dffd289c",
   "metadata": {},
   "outputs": [],
   "source": [
    "df = acquire_bills(links)"
   ]
  },
  {
   "cell_type": "markdown",
   "id": "f20f08c8",
   "metadata": {},
   "source": [
    "# Prepare"
   ]
  },
  {
   "cell_type": "code",
   "execution_count": null,
   "id": "aeebf9b8",
   "metadata": {},
   "outputs": [],
   "source": [
    "bills_df = prep_bills(df)\n",
    "bills_df"
   ]
  },
  {
   "cell_type": "code",
   "execution_count": null,
   "id": "2fde06ae",
   "metadata": {},
   "outputs": [],
   "source": [
    "# creating a lemmatized column and cleaning the df\n",
    "bills_df['lem']= bills_df.bill_text.apply(clean_text)"
   ]
  },
  {
   "cell_type": "code",
   "execution_count": null,
   "id": "44e68c90",
   "metadata": {},
   "outputs": [],
   "source": [
    "bills_df['model']= bills_df.lem.apply(join)\n",
    "bills_df.head()"
   ]
  },
  {
   "cell_type": "code",
   "execution_count": null,
   "id": "1db32eb9",
   "metadata": {},
   "outputs": [],
   "source": [
    "# splitting the data\n",
    "train, X_train, y_train, X_val, y_val, X_test, y_test = split_data(bills_df, 'model')"
   ]
  }
 ],
 "metadata": {
  "kernelspec": {
   "display_name": "Python 3 (ipykernel)",
   "language": "python",
   "name": "python3"
  },
  "language_info": {
   "codemirror_mode": {
    "name": "ipython",
    "version": 3
   },
   "file_extension": ".py",
   "mimetype": "text/x-python",
   "name": "python",
   "nbconvert_exporter": "python",
   "pygments_lexer": "ipython3",
   "version": "3.9.13"
  }
 },
 "nbformat": 4,
 "nbformat_minor": 5
}
