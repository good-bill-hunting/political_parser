{
 "cells": [
  {
   "cell_type": "code",
   "execution_count": 1,
   "id": "7e711830",
   "metadata": {},
   "outputs": [],
   "source": [
    "import pandas as pd\n",
    "import numpy as np\n",
    "from env import api_key\n",
    "import requests\n",
    "import json\n",
    "from acquire import *\n",
    "from bs4 import BeautifulSoup\n",
    "import os\n",
    "from prepare import *\n",
    "import matplotlib.pyplot as plt\n",
    "import re\n",
    "from nlp_modeling_functions import *\n",
    "import IPython\n",
    "from sklearn.model_selection import GridSearchCV\n"
   ]
  },
  {
   "cell_type": "markdown",
   "id": "987b02e0",
   "metadata": {},
   "source": [
    "# Acquire"
   ]
  },
  {
   "cell_type": "code",
   "execution_count": 2,
   "id": "ad4c649d",
   "metadata": {},
   "outputs": [],
   "source": [
    "# function calling the acquired df\n",
    "links = get_links_to_bills()"
   ]
  },
  {
   "cell_type": "code",
   "execution_count": 3,
   "id": "1c33ac86",
   "metadata": {},
   "outputs": [],
   "source": [
    "df = acquire_bills(links, filename=\"master_df.csv\")"
   ]
  },
  {
   "cell_type": "code",
   "execution_count": 4,
   "id": "b7ea1067-aa75-4f36-b4bb-568bd21220df",
   "metadata": {},
   "outputs": [],
   "source": [
    "df = df.sample(3000)"
   ]
  },
  {
   "cell_type": "code",
   "execution_count": 5,
   "id": "417a74ed-119b-442f-b242-30fce302958d",
   "metadata": {},
   "outputs": [],
   "source": [
    "df = df[(df.party == \"D\") | (df.party == \"R\")]"
   ]
  },
  {
   "cell_type": "markdown",
   "id": "14430971",
   "metadata": {},
   "source": [
    "# Prepare"
   ]
  },
  {
   "cell_type": "code",
   "execution_count": 6,
   "id": "d14319ba-725a-4a25-b207-bd3140bbba10",
   "metadata": {},
   "outputs": [],
   "source": [
    "df = prepare_bills_for_processing(df)"
   ]
  },
  {
   "cell_type": "code",
   "execution_count": null,
   "id": "c5d57b12",
   "metadata": {},
   "outputs": [],
   "source": [
    "# creating a lemmatized column and cleaning the df\n",
    "df['lem']= df.bill_text.apply(clean_text)"
   ]
  },
  {
   "cell_type": "code",
   "execution_count": null,
   "id": "a2c96543",
   "metadata": {},
   "outputs": [],
   "source": [
    "df['model']= df.lem.apply(join)\n",
    "df.head()"
   ]
  },
  {
   "cell_type": "code",
   "execution_count": null,
   "id": "6c0ee1d5",
   "metadata": {},
   "outputs": [],
   "source": [
    "# splitting the data\n",
    "train, X_train, y_train, X_val, y_val, X_test, y_test = split_data(df, 'party')"
   ]
  },
  {
   "cell_type": "code",
   "execution_count": null,
   "id": "73a453b3",
   "metadata": {},
   "outputs": [],
   "source": [
    "train.shape"
   ]
  },
  {
   "cell_type": "markdown",
   "id": "39e26a22-95ad-49cb-94d9-91bca3902521",
   "metadata": {},
   "source": [
    "# Modeling"
   ]
  },
  {
   "cell_type": "code",
   "execution_count": null,
   "id": "e2773518-967a-402a-952e-4c82bb170050",
   "metadata": {},
   "outputs": [],
   "source": [
    "X_train.head()"
   ]
  },
  {
   "cell_type": "code",
   "execution_count": null,
   "id": "18456333-092b-430c-879c-51a5a67d866f",
   "metadata": {},
   "outputs": [],
   "source": [
    "X_train, X_val, X_test = vectorize_data(X_train, X_val, X_test, target_col = \"bill_text\")"
   ]
  },
  {
   "cell_type": "markdown",
   "id": "9f4c3c42-adc5-49d6-8aa7-cc4081670d06",
   "metadata": {},
   "source": [
    "## Grid Search"
   ]
  },
  {
   "cell_type": "code",
   "execution_count": null,
   "id": "f49cf5fe-7d90-49b3-b16d-3afac8acd477",
   "metadata": {},
   "outputs": [],
   "source": [
    "params = {'max_depth': [2, 3, 4],\n",
    "          'max_features': [None, 1, 3]}"
   ]
  },
  {
   "cell_type": "code",
   "execution_count": null,
   "id": "d3aea901-0b26-49b7-906c-dcdfa88d72af",
   "metadata": {},
   "outputs": [],
   "source": [
    "tree = DecisionTreeClassifier()"
   ]
  },
  {
   "cell_type": "code",
   "execution_count": null,
   "id": "ab9e720a-3676-4230-bc30-ed76e2b9ac78",
   "metadata": {},
   "outputs": [],
   "source": [
    "grid = GridSearchCV(tree, params, cv=3)"
   ]
  },
  {
   "cell_type": "code",
   "execution_count": null,
   "id": "1d3d5f81-e3d1-45fe-ab78-b37fb9b60dd1",
   "metadata": {},
   "outputs": [],
   "source": [
    "grid.fit(X_train, y_train)"
   ]
  },
  {
   "cell_type": "code",
   "execution_count": null,
   "id": "3d3103df-0f10-4668-ab44-be8a4ac5717d",
   "metadata": {},
   "outputs": [],
   "source": [
    "results = grid.cv_results_\n",
    "results.keys()"
   ]
  },
  {
   "cell_type": "code",
   "execution_count": null,
   "id": "a068dd86-08c4-401f-b1b7-5348c925a613",
   "metadata": {},
   "outputs": [],
   "source": [
    "test_scores = results['mean_test_score']\n",
    "test_scores"
   ]
  },
  {
   "cell_type": "code",
   "execution_count": null,
   "id": "746c6f0d-6bba-419e-91ed-e844ab5b7cf3",
   "metadata": {},
   "outputs": [],
   "source": [
    "params = results['params']\n",
    "params"
   ]
  },
  {
   "cell_type": "code",
   "execution_count": null,
   "id": "14550f48-9dac-4e3d-a466-507e1137e714",
   "metadata": {},
   "outputs": [],
   "source": [
    "for p, s in zip(params, test_scores):\n",
    "    p['score'] = s\n",
    "\n",
    "pd.DataFrame(params).sort_values(by='score')"
   ]
  },
  {
   "cell_type": "markdown",
   "id": "4527d1a7-6f70-49dc-a9a0-860eaaafcfe1",
   "metadata": {},
   "source": [
    "## Baseline"
   ]
  },
  {
   "cell_type": "code",
   "execution_count": null,
   "id": "ccb951c2-33eb-4070-a04e-48a934628f2f",
   "metadata": {},
   "outputs": [],
   "source": [
    "len(y_train[y_train == 'D'])/ len(y_train)"
   ]
  },
  {
   "cell_type": "markdown",
   "id": "c1dac70e-0774-4471-b1a1-37618928e395",
   "metadata": {},
   "source": [
    "## Modeling"
   ]
  },
  {
   "cell_type": "code",
   "execution_count": null,
   "id": "0a8b404f-059e-48b8-903a-5a4e4b036a6b",
   "metadata": {},
   "outputs": [],
   "source": [
    "lr_mod(X_train, y_train, X_val, y_val, metric = 1, print_scores = True)"
   ]
  },
  {
   "cell_type": "code",
   "execution_count": null,
   "id": "8d6c6692-50eb-49b0-b5e9-d15c9b237d4d",
   "metadata": {},
   "outputs": [],
   "source": [
    "rand_forest(X_train, y_train, X_val, y_val, metric = 1, print_scores = True)"
   ]
  },
  {
   "cell_type": "code",
   "execution_count": null,
   "id": "8e7ec64c-c926-4782-b56e-9b79d4f9866c",
   "metadata": {},
   "outputs": [],
   "source": [
    "dec_tree(X_train, y_train, X_val, y_val, metric = 1, print_scores = True)"
   ]
  },
  {
   "cell_type": "code",
   "execution_count": null,
   "id": "3c0a0f26-9dae-4cb8-be25-d612512002b2",
   "metadata": {},
   "outputs": [],
   "source": [
    "IPython.display.Audio(\"ding.mp3\", autoplay=True)"
   ]
  }
 ],
 "metadata": {
  "kernelspec": {
   "display_name": "Python 3 (ipykernel)",
   "language": "python",
   "name": "python3"
  },
  "language_info": {
   "codemirror_mode": {
    "name": "ipython",
    "version": 3
   },
   "file_extension": ".py",
   "mimetype": "text/x-python",
   "name": "python",
   "nbconvert_exporter": "python",
   "pygments_lexer": "ipython3",
   "version": "3.9.15"
  }
 },
 "nbformat": 4,
 "nbformat_minor": 5
}
