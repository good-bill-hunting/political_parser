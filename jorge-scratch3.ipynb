{
 "cells": [
  {
   "cell_type": "code",
   "execution_count": 1,
   "id": "92bd0aa2",
   "metadata": {},
   "outputs": [],
   "source": [
    "from acquire import *\n",
    "from prepare import *\n",
    "from explore import *\n",
    "from model import *\n",
    "\n",
    "# filter out any noisy warning flags\n",
    "import warnings\n",
    "warnings.filterwarnings('ignore')"
   ]
  },
  {
   "cell_type": "code",
   "execution_count": 2,
   "id": "a26de5f0",
   "metadata": {},
   "outputs": [],
   "source": [
    "# acquire step\n",
    "links = get_links_to_bills()\n",
    "df = acquire_bills(links, filename=\"master_df.csv\")\n",
    "# creating a lemmatized column and cleaning the df\n",
    "df = prepare_bills_for_processing(df)\n",
    "# splitting the data\n",
    "train, X_train, y_train, X_val, y_val, X_test, y_test = split_data(df, 'party')"
   ]
  },
  {
   "cell_type": "code",
   "execution_count": 3,
   "id": "71729d6f",
   "metadata": {},
   "outputs": [
    {
     "data": {
      "text/html": [
       "<div>\n",
       "<style scoped>\n",
       "    .dataframe tbody tr th:only-of-type {\n",
       "        vertical-align: middle;\n",
       "    }\n",
       "\n",
       "    .dataframe tbody tr th {\n",
       "        vertical-align: top;\n",
       "    }\n",
       "\n",
       "    .dataframe thead th {\n",
       "        text-align: right;\n",
       "    }\n",
       "</style>\n",
       "<table border=\"1\" class=\"dataframe\">\n",
       "  <thead>\n",
       "    <tr style=\"text-align: right;\">\n",
       "      <th></th>\n",
       "      <th>sponsor</th>\n",
       "      <th>party</th>\n",
       "      <th>bill_text</th>\n",
       "      <th>bill_date</th>\n",
       "      <th>length</th>\n",
       "      <th>lem</th>\n",
       "      <th>model</th>\n",
       "    </tr>\n",
       "  </thead>\n",
       "  <tbody>\n",
       "    <tr>\n",
       "      <th>25840</th>\n",
       "      <td>Frelinghuysen, Rodney P.</td>\n",
       "      <td>R</td>\n",
       "      <td>\\n\\n\\n \\n      To suspend temporarily the duty...</td>\n",
       "      <td>2012-04-27</td>\n",
       "      <td>1051</td>\n",
       "      <td>[suspend, temporarily, duty, 3amino12propanedi...</td>\n",
       "      <td>suspend temporarily duty 3amino12propanediol 3...</td>\n",
       "    </tr>\n",
       "    <tr>\n",
       "      <th>24423</th>\n",
       "      <td>Foxx, Virginia</td>\n",
       "      <td>R</td>\n",
       "      <td>\\n\\n\\n \\n  Of inquiry requesting the President...</td>\n",
       "      <td>2022-07-28</td>\n",
       "      <td>3310</td>\n",
       "      <td>[inquiry, requesting, president, directing, ed...</td>\n",
       "      <td>inquiry requesting president directing educati...</td>\n",
       "    </tr>\n",
       "    <tr>\n",
       "      <th>16270</th>\n",
       "      <td>Scott, Rick</td>\n",
       "      <td>R</td>\n",
       "      <td>\\n\\n\\n \\n To allow National Flood Insurance Pr...</td>\n",
       "      <td>2021-09-30</td>\n",
       "      <td>1333</td>\n",
       "      <td>[allow, national, flood, insurance, program, p...</td>\n",
       "      <td>allow national flood insurance program policyh...</td>\n",
       "    </tr>\n",
       "    <tr>\n",
       "      <th>21136</th>\n",
       "      <td>Hickenlooper, John W.</td>\n",
       "      <td>D</td>\n",
       "      <td>\\n\\n\\n \\n To provide better access to retireme...</td>\n",
       "      <td>2022-05-05</td>\n",
       "      <td>3394</td>\n",
       "      <td>[provide, better, access, retirement, plan, sm...</td>\n",
       "      <td>provide better access retirement plan small bu...</td>\n",
       "    </tr>\n",
       "    <tr>\n",
       "      <th>11697</th>\n",
       "      <td>Dingell, Debbie</td>\n",
       "      <td>D</td>\n",
       "      <td>\\n\\n\\n \\n     To amend the Energy Policy and C...</td>\n",
       "      <td>2021-05-04</td>\n",
       "      <td>17944</td>\n",
       "      <td>[amend, energy, policy, conservation, modify, ...</td>\n",
       "      <td>amend energy policy conservation modify defini...</td>\n",
       "    </tr>\n",
       "  </tbody>\n",
       "</table>\n",
       "</div>"
      ],
      "text/plain": [
       "                        sponsor party  \\\n",
       "25840  Frelinghuysen, Rodney P.     R   \n",
       "24423            Foxx, Virginia     R   \n",
       "16270               Scott, Rick     R   \n",
       "21136     Hickenlooper, John W.     D   \n",
       "11697           Dingell, Debbie     D   \n",
       "\n",
       "                                               bill_text  bill_date  length  \\\n",
       "25840  \\n\\n\\n \\n      To suspend temporarily the duty... 2012-04-27    1051   \n",
       "24423  \\n\\n\\n \\n  Of inquiry requesting the President... 2022-07-28    3310   \n",
       "16270  \\n\\n\\n \\n To allow National Flood Insurance Pr... 2021-09-30    1333   \n",
       "21136  \\n\\n\\n \\n To provide better access to retireme... 2022-05-05    3394   \n",
       "11697  \\n\\n\\n \\n     To amend the Energy Policy and C... 2021-05-04   17944   \n",
       "\n",
       "                                                     lem  \\\n",
       "25840  [suspend, temporarily, duty, 3amino12propanedi...   \n",
       "24423  [inquiry, requesting, president, directing, ed...   \n",
       "16270  [allow, national, flood, insurance, program, p...   \n",
       "21136  [provide, better, access, retirement, plan, sm...   \n",
       "11697  [amend, energy, policy, conservation, modify, ...   \n",
       "\n",
       "                                                   model  \n",
       "25840  suspend temporarily duty 3amino12propanediol 3...  \n",
       "24423  inquiry requesting president directing educati...  \n",
       "16270  allow national flood insurance program policyh...  \n",
       "21136  provide better access retirement plan small bu...  \n",
       "11697  amend energy policy conservation modify defini...  "
      ]
     },
     "execution_count": 3,
     "metadata": {},
     "output_type": "execute_result"
    }
   ],
   "source": [
    "# looking at the cleaned up columns\n",
    "train.head()"
   ]
  },
  {
   "cell_type": "code",
   "execution_count": 4,
   "id": "e3bc0aec",
   "metadata": {},
   "outputs": [
    {
     "data": {
      "text/plain": [
       "(216, 15987.843720554583, 5877392)"
      ]
     },
     "execution_count": 4,
     "metadata": {},
     "output_type": "execute_result"
    }
   ],
   "source": [
    "train.length.min(), train.length.mean(), train.length.max()"
   ]
  },
  {
   "cell_type": "code",
   "execution_count": 5,
   "id": "41107e58",
   "metadata": {},
   "outputs": [
    {
     "name": "stdout",
     "output_type": "stream",
     "text": [
      "20016.16058803726\n",
      "260\n",
      "5877392\n"
     ]
    }
   ],
   "source": [
    "print((train[train['party'] == 'D']['length']).mean()),\n",
    "print((train[train['party'] == 'D']['length']).min()),\n",
    "print((train[train['party'] == 'D']['length']).max())"
   ]
  },
  {
   "cell_type": "code",
   "execution_count": 6,
   "id": "73fd28bc",
   "metadata": {},
   "outputs": [
    {
     "name": "stdout",
     "output_type": "stream",
     "text": [
      "9908.65625\n",
      "216\n",
      "2320474\n"
     ]
    }
   ],
   "source": [
    "print((train[train['party'] == 'R']['length']).mean()),\n",
    "print((train[train['party'] == 'R']['length']).min()),\n",
    "print((train[train['party'] == 'R']['length']).max())"
   ]
  },
  {
   "cell_type": "code",
   "execution_count": 7,
   "id": "fb024784",
   "metadata": {},
   "outputs": [
    {
     "name": "stdout",
     "output_type": "stream",
     "text": [
      "13546.426829268292\n",
      "725\n",
      "144979\n"
     ]
    }
   ],
   "source": [
    "print((train[train['party'] == 'I']['length']).mean()),\n",
    "print((train[train['party'] == 'I']['length']).min()),\n",
    "print((train[train['party'] == 'I']['length']).max())"
   ]
  },
  {
   "cell_type": "code",
   "execution_count": 8,
   "id": "b7fbbe75",
   "metadata": {},
   "outputs": [
    {
     "data": {
      "text/plain": [
       "4644    advance black family 21st century cited job ju...\n",
       "Name: model, dtype: object"
      ]
     },
     "execution_count": 8,
     "metadata": {},
     "output_type": "execute_result"
    }
   ],
   "source": [
    "(train[train['length'] == 5877392 ]['model'])"
   ]
  },
  {
   "cell_type": "code",
   "execution_count": 9,
   "id": "7d36446e",
   "metadata": {},
   "outputs": [
    {
     "name": "stdout",
     "output_type": "stream",
     "text": [
      "7363    \\n\\n\\n \\n            Fixing the hour of daily ...\n",
      "Name: bill_text, dtype: object\n"
     ]
    }
   ],
   "source": [
    "#pd.set_option('display.max_colwidth', 1)\n",
    "print((train[train['length'] == 216 ]['bill_text']))"
   ]
  },
  {
   "cell_type": "code",
   "execution_count": 10,
   "id": "1dd617aa",
   "metadata": {},
   "outputs": [
    {
     "name": "stdout",
     "output_type": "stream",
     "text": [
      "4644    advance black family 21st century cited job ju...\n",
      "Name: model, dtype: object\n"
     ]
    }
   ],
   "source": [
    "print((train[train['length'] == 5877392 ]['model']))"
   ]
  },
  {
   "cell_type": "code",
   "execution_count": null,
   "id": "da13d7d6",
   "metadata": {},
   "outputs": [],
   "source": []
  }
 ],
 "metadata": {
  "kernelspec": {
   "display_name": "Python 3 (ipykernel)",
   "language": "python",
   "name": "python3"
  },
  "language_info": {
   "codemirror_mode": {
    "name": "ipython",
    "version": 3
   },
   "file_extension": ".py",
   "mimetype": "text/x-python",
   "name": "python",
   "nbconvert_exporter": "python",
   "pygments_lexer": "ipython3",
   "version": "3.9.13"
  }
 },
 "nbformat": 4,
 "nbformat_minor": 5
}
