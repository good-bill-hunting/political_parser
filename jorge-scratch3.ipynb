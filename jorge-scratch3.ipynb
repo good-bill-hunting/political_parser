{
 "cells": [
  {
   "cell_type": "code",
   "execution_count": 1,
   "id": "f353ed92",
   "metadata": {},
   "outputs": [],
   "source": [
    "from acquire import *\n",
    "from prepare import *\n",
    "from explore import *\n",
    "from model import *\n",
    "\n",
    "# filter out any noisy warning flags\n",
    "import warnings\n",
    "warnings.filterwarnings('ignore')"
   ]
  },
  {
   "cell_type": "code",
   "execution_count": 2,
   "id": "c1dd11cb",
   "metadata": {},
   "outputs": [],
   "source": [
    "# acquire step\n",
    "links = get_links_to_bills()\n",
    "df = acquire_bills(links, filename=\"master_df.csv\")\n",
    "# creating a lemmatized column and cleaning the df\n",
    "df = prepare_bills_for_processing(df)\n",
    "# splitting the data\n",
    "train, X_train, y_train, X_val, y_val, X_test, y_test = split_data(df, 'party')"
   ]
  },
  {
   "cell_type": "code",
   "execution_count": 3,
   "id": "93184129",
   "metadata": {},
   "outputs": [
    {
     "data": {
      "text/html": [
       "<div>\n",
       "<style scoped>\n",
       "    .dataframe tbody tr th:only-of-type {\n",
       "        vertical-align: middle;\n",
       "    }\n",
       "\n",
       "    .dataframe tbody tr th {\n",
       "        vertical-align: top;\n",
       "    }\n",
       "\n",
       "    .dataframe thead th {\n",
       "        text-align: right;\n",
       "    }\n",
       "</style>\n",
       "<table border=\"1\" class=\"dataframe\">\n",
       "  <thead>\n",
       "    <tr style=\"text-align: right;\">\n",
       "      <th></th>\n",
       "      <th>sponsor</th>\n",
       "      <th>party</th>\n",
       "      <th>bill_text</th>\n",
       "      <th>bill_date</th>\n",
       "      <th>length</th>\n",
       "      <th>lem</th>\n",
       "      <th>model</th>\n",
       "    </tr>\n",
       "  </thead>\n",
       "  <tbody>\n",
       "    <tr>\n",
       "      <th>25840</th>\n",
       "      <td>Frelinghuysen, Rodney P.</td>\n",
       "      <td>R</td>\n",
       "      <td>\\n\\n\\n \\n      To suspend temporarily the duty...</td>\n",
       "      <td>2012-04-27</td>\n",
       "      <td>1051</td>\n",
       "      <td>[suspend, temporarily, duty, 3amino12propanedi...</td>\n",
       "      <td>suspend temporarily duty 3amino12propanediol 3...</td>\n",
       "    </tr>\n",
       "    <tr>\n",
       "      <th>24423</th>\n",
       "      <td>Foxx, Virginia</td>\n",
       "      <td>R</td>\n",
       "      <td>\\n\\n\\n \\n  Of inquiry requesting the President...</td>\n",
       "      <td>2022-07-28</td>\n",
       "      <td>3310</td>\n",
       "      <td>[inquiry, requesting, president, directing, ed...</td>\n",
       "      <td>inquiry requesting president directing educati...</td>\n",
       "    </tr>\n",
       "    <tr>\n",
       "      <th>16270</th>\n",
       "      <td>Scott, Rick</td>\n",
       "      <td>R</td>\n",
       "      <td>\\n\\n\\n \\n To allow National Flood Insurance Pr...</td>\n",
       "      <td>2021-09-30</td>\n",
       "      <td>1333</td>\n",
       "      <td>[allow, national, flood, insurance, program, p...</td>\n",
       "      <td>allow national flood insurance program policyh...</td>\n",
       "    </tr>\n",
       "    <tr>\n",
       "      <th>21136</th>\n",
       "      <td>Hickenlooper, John W.</td>\n",
       "      <td>D</td>\n",
       "      <td>\\n\\n\\n \\n To provide better access to retireme...</td>\n",
       "      <td>2022-05-05</td>\n",
       "      <td>3394</td>\n",
       "      <td>[provide, better, access, retirement, plan, sm...</td>\n",
       "      <td>provide better access retirement plan small bu...</td>\n",
       "    </tr>\n",
       "    <tr>\n",
       "      <th>11697</th>\n",
       "      <td>Dingell, Debbie</td>\n",
       "      <td>D</td>\n",
       "      <td>\\n\\n\\n \\n     To amend the Energy Policy and C...</td>\n",
       "      <td>2021-05-04</td>\n",
       "      <td>17944</td>\n",
       "      <td>[amend, energy, policy, conservation, modify, ...</td>\n",
       "      <td>amend energy policy conservation modify defini...</td>\n",
       "    </tr>\n",
       "  </tbody>\n",
       "</table>\n",
       "</div>"
      ],
      "text/plain": [
       "                        sponsor party  \\\n",
       "25840  Frelinghuysen, Rodney P.     R   \n",
       "24423            Foxx, Virginia     R   \n",
       "16270               Scott, Rick     R   \n",
       "21136     Hickenlooper, John W.     D   \n",
       "11697           Dingell, Debbie     D   \n",
       "\n",
       "                                               bill_text  bill_date  length  \\\n",
       "25840  \\n\\n\\n \\n      To suspend temporarily the duty... 2012-04-27    1051   \n",
       "24423  \\n\\n\\n \\n  Of inquiry requesting the President... 2022-07-28    3310   \n",
       "16270  \\n\\n\\n \\n To allow National Flood Insurance Pr... 2021-09-30    1333   \n",
       "21136  \\n\\n\\n \\n To provide better access to retireme... 2022-05-05    3394   \n",
       "11697  \\n\\n\\n \\n     To amend the Energy Policy and C... 2021-05-04   17944   \n",
       "\n",
       "                                                     lem  \\\n",
       "25840  [suspend, temporarily, duty, 3amino12propanedi...   \n",
       "24423  [inquiry, requesting, president, directing, ed...   \n",
       "16270  [allow, national, flood, insurance, program, p...   \n",
       "21136  [provide, better, access, retirement, plan, sm...   \n",
       "11697  [amend, energy, policy, conservation, modify, ...   \n",
       "\n",
       "                                                   model  \n",
       "25840  suspend temporarily duty 3amino12propanediol 3...  \n",
       "24423  inquiry requesting president directing educati...  \n",
       "16270  allow national flood insurance program policyh...  \n",
       "21136  provide better access retirement plan small bu...  \n",
       "11697  amend energy policy conservation modify defini...  "
      ]
     },
     "execution_count": 3,
     "metadata": {},
     "output_type": "execute_result"
    }
   ],
   "source": [
    "# looking at the cleaned up columns\n",
    "train.head()"
   ]
  },
  {
   "cell_type": "code",
   "execution_count": 4,
   "id": "d1bc9e26",
   "metadata": {},
   "outputs": [
    {
     "data": {
      "text/plain": [
       "(216, 15987.843720554583, 5877392)"
      ]
     },
     "execution_count": 4,
     "metadata": {},
     "output_type": "execute_result"
    }
   ],
   "source": [
    "train.length.min(), train.length.mean(), train.length.max()"
   ]
  },
  {
   "cell_type": "code",
   "execution_count": 5,
   "id": "eed64863",
   "metadata": {},
   "outputs": [
    {
     "name": "stdout",
     "output_type": "stream",
     "text": [
      "20016.16058803726\n",
      "260\n",
      "5877392\n"
     ]
    }
   ],
   "source": [
    "print((train[train['party'] == 'D']['length']).mean()),\n",
    "print((train[train['party'] == 'D']['length']).min()),\n",
    "print((train[train['party'] == 'D']['length']).max())"
   ]
  },
  {
   "cell_type": "code",
   "execution_count": 6,
   "id": "c386fc2f",
   "metadata": {},
   "outputs": [
    {
     "name": "stdout",
     "output_type": "stream",
     "text": [
      "9908.65625\n",
      "216\n",
      "2320474\n"
     ]
    }
   ],
   "source": [
    "print((train[train['party'] == 'R']['length']).mean()),\n",
    "print((train[train['party'] == 'R']['length']).min()),\n",
    "print((train[train['party'] == 'R']['length']).max())"
   ]
  },
  {
   "cell_type": "code",
   "execution_count": 7,
   "id": "fd0940d4",
   "metadata": {},
   "outputs": [
    {
     "name": "stdout",
     "output_type": "stream",
     "text": [
      "13546.426829268292\n",
      "725\n",
      "144979\n"
     ]
    }
   ],
   "source": [
    "print((train[train['party'] == 'I']['length']).mean()),\n",
    "print((train[train['party'] == 'I']['length']).min()),\n",
    "print((train[train['party'] == 'I']['length']).max())"
   ]
  },
  {
   "cell_type": "code",
   "execution_count": 8,
   "id": "b761a3d4",
   "metadata": {},
   "outputs": [
    {
     "data": {
      "text/plain": [
       "4644    advance black family 21st century cited job ju...\n",
       "Name: model, dtype: object"
      ]
     },
     "execution_count": 8,
     "metadata": {},
     "output_type": "execute_result"
    }
   ],
   "source": [
    "(train[train['length'] == 5877392 ]['model'])"
   ]
  },
  {
   "cell_type": "code",
   "execution_count": 9,
   "id": "069301e7",
   "metadata": {},
   "outputs": [
    {
     "name": "stdout",
     "output_type": "stream",
     "text": [
      "7363    \\n\\n\\n \\n            Fixing the hour of daily ...\n",
      "Name: bill_text, dtype: object\n"
     ]
    }
   ],
   "source": [
    "#pd.set_option('display.max_colwidth', 1)\n",
    "print((train[train['length'] == 216 ]['bill_text']))"
   ]
  },
  {
   "cell_type": "code",
   "execution_count": 10,
   "id": "12a04a88",
   "metadata": {},
   "outputs": [
    {
     "name": "stdout",
     "output_type": "stream",
     "text": [
      "4644    advance black family 21st century cited job ju...\n",
      "Name: model, dtype: object\n"
     ]
    }
   ],
   "source": [
    "print((train[train['length'] == 5877392 ]['model']))"
   ]
  },
  {
   "cell_type": "code",
   "execution_count": 11,
   "id": "ec9467b8",
   "metadata": {},
   "outputs": [
    {
     "data": {
      "text/plain": [
       "4644    Bass, Karen\n",
       "Name: sponsor, dtype: object"
      ]
     },
     "execution_count": 11,
     "metadata": {},
     "output_type": "execute_result"
    }
   ],
   "source": [
    "(train[train['length'] == 5877392 ]['sponsor'])"
   ]
  },
  {
   "cell_type": "code",
   "execution_count": 12,
   "id": "5c2d8710",
   "metadata": {},
   "outputs": [
    {
     "data": {
      "text/plain": [
       "902"
      ]
     },
     "execution_count": 12,
     "metadata": {},
     "output_type": "execute_result"
    }
   ],
   "source": [
    "train.bill_date.nunique()"
   ]
  },
  {
   "cell_type": "code",
   "execution_count": 13,
   "id": "89cbbb61",
   "metadata": {},
   "outputs": [],
   "source": [
    "# import tensorflow as tf\n",
    "# from tensorflow.keras.datasets import imdb\n",
    "\n",
    "# # Load the dataset\n",
    "# train = (X_train, y_train), (X_val, y_val)\n"
   ]
  },
  {
   "cell_type": "code",
   "execution_count": 14,
   "id": "19e366e3",
   "metadata": {},
   "outputs": [],
   "source": [
    "# # Pad sequences so they're all the same length\n",
    "# max_len = 256\n",
    "# X_train = tf.keras.preprocessing.sequence.pad_sequences(X_train, maxlen=max_len)\n",
    "# X_val = tf.keras.preprocessing.sequence.pad_sequences(X_val, maxlen=max_len)\n",
    "\n",
    "# # # One-hot encode the labels\n",
    "# # y_train = tf.keras.utils.to_categorical(y_train)\n",
    "# # y_val = tf.keras.utils.to_categorical(y_val)\n"
   ]
  },
  {
   "cell_type": "code",
   "execution_count": 15,
   "id": "ce186705",
   "metadata": {},
   "outputs": [],
   "source": [
    "# # Define the model architecture\n",
    "# model = tf.keras.models.Sequential([\n",
    "#     tf.keras.layers.Embedding(input_dim=10000, output_dim=64, input_length=max_len),\n",
    "#     tf.keras.layers.Flatten(),\n",
    "#     tf.keras.layers.Dense(64, activation='relu'),\n",
    "#     tf.keras.layers.Dropout(0.5),\n",
    "#     tf.keras.layers.Dense(2, activation='softmax')\n",
    "# ])\n",
    "\n",
    "# # Compile the model\n",
    "# model.compile(loss='categorical_crossentropy', optimizer='adam', metrics=['accuracy'])\n"
   ]
  },
  {
   "cell_type": "code",
   "execution_count": 16,
   "id": "36bc47d7",
   "metadata": {},
   "outputs": [],
   "source": [
    "# # Train the model\n",
    "# model.fit(X_train, y_train, epochs=10, batch_size=32, validation_data=(X_val, y_val))\n",
    "\n",
    "# # Evaluate the model on the validation set\n",
    "# loss, accuracy = model.evaluate(X_val, y_val)\n",
    "# print('Validation accuracy:', accuracy)\n"
   ]
  },
  {
   "cell_type": "code",
   "execution_count": 17,
   "id": "36180f85",
   "metadata": {},
   "outputs": [
    {
     "data": {
      "text/html": [
       "<div>\n",
       "<style scoped>\n",
       "    .dataframe tbody tr th:only-of-type {\n",
       "        vertical-align: middle;\n",
       "    }\n",
       "\n",
       "    .dataframe tbody tr th {\n",
       "        vertical-align: top;\n",
       "    }\n",
       "\n",
       "    .dataframe thead th {\n",
       "        text-align: right;\n",
       "    }\n",
       "</style>\n",
       "<table border=\"1\" class=\"dataframe\">\n",
       "  <thead>\n",
       "    <tr style=\"text-align: right;\">\n",
       "      <th></th>\n",
       "      <th>sponsor</th>\n",
       "      <th>party</th>\n",
       "      <th>bill_text</th>\n",
       "      <th>bill_date</th>\n",
       "      <th>length</th>\n",
       "      <th>lem</th>\n",
       "      <th>model</th>\n",
       "    </tr>\n",
       "  </thead>\n",
       "  <tbody>\n",
       "    <tr>\n",
       "      <th>6700</th>\n",
       "      <td>Mast, Brian J.</td>\n",
       "      <td>R</td>\n",
       "      <td>\\n\\n\\n \\n  To impose sanctions with respect to...</td>\n",
       "      <td>2021-01-11</td>\n",
       "      <td>33480</td>\n",
       "      <td>[impose, sanction, respect, foreign, support, ...</td>\n",
       "      <td>impose sanction respect foreign support palest...</td>\n",
       "    </tr>\n",
       "  </tbody>\n",
       "</table>\n",
       "</div>"
      ],
      "text/plain": [
       "             sponsor party                                          bill_text  \\\n",
       "6700  Mast, Brian J.     R  \\n\\n\\n \\n  To impose sanctions with respect to...   \n",
       "\n",
       "      bill_date  length                                                lem  \\\n",
       "6700 2021-01-11   33480  [impose, sanction, respect, foreign, support, ...   \n",
       "\n",
       "                                                  model  \n",
       "6700  impose sanction respect foreign support palest...  "
      ]
     },
     "execution_count": 17,
     "metadata": {},
     "output_type": "execute_result"
    }
   ],
   "source": [
    "df.iloc[[6699]]"
   ]
  },
  {
   "cell_type": "code",
   "execution_count": 18,
   "id": "dc7d5bb2",
   "metadata": {},
   "outputs": [
    {
     "data": {
      "text/html": [
       "<div>\n",
       "<style scoped>\n",
       "    .dataframe tbody tr th:only-of-type {\n",
       "        vertical-align: middle;\n",
       "    }\n",
       "\n",
       "    .dataframe tbody tr th {\n",
       "        vertical-align: top;\n",
       "    }\n",
       "\n",
       "    .dataframe thead th {\n",
       "        text-align: right;\n",
       "    }\n",
       "</style>\n",
       "<table border=\"1\" class=\"dataframe\">\n",
       "  <thead>\n",
       "    <tr style=\"text-align: right;\">\n",
       "      <th></th>\n",
       "      <th>sponsor</th>\n",
       "      <th>party</th>\n",
       "      <th>bill_text</th>\n",
       "      <th>bill_date</th>\n",
       "      <th>length</th>\n",
       "      <th>lem</th>\n",
       "      <th>model</th>\n",
       "    </tr>\n",
       "  </thead>\n",
       "  <tbody>\n",
       "    <tr>\n",
       "      <th>9831</th>\n",
       "      <td>Brown, Sherrod</td>\n",
       "      <td>D</td>\n",
       "      <td>\\n\\n\\n \\n  To amend title XIX of the Social Se...</td>\n",
       "      <td>2021-03-03</td>\n",
       "      <td>3447</td>\n",
       "      <td>[amend, xix, social, security, improve, access...</td>\n",
       "      <td>amend xix social security improve access adult...</td>\n",
       "    </tr>\n",
       "  </tbody>\n",
       "</table>\n",
       "</div>"
      ],
      "text/plain": [
       "             sponsor party                                          bill_text  \\\n",
       "9831  Brown, Sherrod     D  \\n\\n\\n \\n  To amend title XIX of the Social Se...   \n",
       "\n",
       "      bill_date  length                                                lem  \\\n",
       "9831 2021-03-03    3447  [amend, xix, social, security, improve, access...   \n",
       "\n",
       "                                                  model  \n",
       "9831  amend xix social security improve access adult...  "
      ]
     },
     "execution_count": 18,
     "metadata": {},
     "output_type": "execute_result"
    }
   ],
   "source": [
    "df.iloc[[9830]]"
   ]
  },
  {
   "cell_type": "code",
   "execution_count": 19,
   "id": "72a8b83a",
   "metadata": {},
   "outputs": [],
   "source": [
    "# # visualization comparing the top five models\n",
    "# X_train, X_val, X_test = vectorize_data(X_train, X_val, X_test, target_col = 'model')\n",
    "# model_scores = find_model_scores(X_train, y_train, X_val, y_val)\n",
    "# model_scores"
   ]
  },
  {
   "cell_type": "code",
   "execution_count": 23,
   "id": "64efd155",
   "metadata": {},
   "outputs": [],
   "source": [
    "# visualization comparing the top five models\n",
    "X_train, X_val, X_test = vectorize_data(X_train, X_val, X_test, target_col = 'model')\n",
    "model_scores = find_model_scores(X_train, y_train, X_val, y_val)\n",
    "model_scores"
   ]
  },
  {
   "cell_type": "code",
   "execution_count": null,
   "id": "e29ca96a",
   "metadata": {},
   "outputs": [],
   "source": [
    "print(classification_report(y_test, y_pred))"
   ]
  },
  {
   "cell_type": "code",
   "execution_count": null,
   "id": "ca5310e8",
   "metadata": {},
   "outputs": [],
   "source": [
    "#import spacy\n",
    "#from spacy.lang.en import English\n",
    "#from spacy.util import minibatch, compounding\n",
    "import random\n",
    "from sklearn.decomposition import LatentDirichletAllocation\n",
    "from sklearn.feature_extraction.text import TfidfVectorizer\n",
    "\n",
    "# Load the English language model in spaCy\n",
    "#nlp = English()\n",
    "\n",
    "# Create a document-term matrix\n",
    "vectorizer = TfidfVectorizer()\n",
    "doc_term_matrix = vectorizer.fit_transform(train['model'])\n",
    "\n",
    "# Initialize and fit the LDA model\n",
    "lda = LatentDirichletAllocation(n_components=10, random_state=1969)\n",
    "lda.fit(doc_term_matrix)\n",
    "\n",
    "# Print the top words associated with each topic\n",
    "for idx, topic in enumerate(lda.components_):\n",
    "    print(\"Topic %d:\" % (idx))\n",
    "    print([(vectorizer.get_feature_names_out()[i], topic[i])\n",
    "                    for i in topic.argsort()[:-10 - 1:-1]])\n"
   ]
  },
  {
   "cell_type": "code",
   "execution_count": null,
   "id": "cb190b66",
   "metadata": {},
   "outputs": [],
   "source": []
  }
 ],
 "metadata": {
  "kernelspec": {
   "display_name": "Python 3 (ipykernel)",
   "language": "python",
   "name": "python3"
  },
  "language_info": {
   "codemirror_mode": {
    "name": "ipython",
    "version": 3
   },
   "file_extension": ".py",
   "mimetype": "text/x-python",
   "name": "python",
   "nbconvert_exporter": "python",
   "pygments_lexer": "ipython3",
   "version": "3.9.13"
  }
 },
 "nbformat": 4,
 "nbformat_minor": 5
}
