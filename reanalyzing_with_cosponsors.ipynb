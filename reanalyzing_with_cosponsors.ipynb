{
 "cells": [
  {
   "cell_type": "code",
   "execution_count": 1,
   "id": "4269c705",
   "metadata": {},
   "outputs": [],
   "source": [
    "import warnings\n",
    "warnings.filterwarnings(\"ignore\")\n",
    "import pandas as pd\n",
    "import numpy as np\n",
    "from env import api_key\n",
    "import requests\n",
    "import json\n",
    "from acquire import *\n",
    "from bs4 import BeautifulSoup\n",
    "import os\n",
    "import re\n",
    "from prepare import *\n",
    "import IPython\n",
    "import matplotlib.pyplot as plt\n",
    "from sklearn.feature_extraction.text import TfidfVectorizer\n",
    "import plotly.express as px\n",
    "from plotly.subplots import make_subplots\n",
    "import plotly.graph_objects as go\n",
    "import seaborn as sns\n",
    "from sklearn.preprocessing import MinMaxScaler, StandardScaler, MaxAbsScaler"
   ]
  },
  {
   "cell_type": "code",
   "execution_count": 2,
   "id": "3d01a6f2",
   "metadata": {},
   "outputs": [],
   "source": [
    "df = pd.read_csv(\"sponsor_and_co_df.csv\")"
   ]
  },
  {
   "cell_type": "code",
   "execution_count": 3,
   "id": "bf3a47d0",
   "metadata": {},
   "outputs": [
    {
     "data": {
      "text/html": [
       "<div>\n",
       "<style scoped>\n",
       "    .dataframe tbody tr th:only-of-type {\n",
       "        vertical-align: middle;\n",
       "    }\n",
       "\n",
       "    .dataframe tbody tr th {\n",
       "        vertical-align: top;\n",
       "    }\n",
       "\n",
       "    .dataframe thead th {\n",
       "        text-align: right;\n",
       "    }\n",
       "</style>\n",
       "<table border=\"1\" class=\"dataframe\">\n",
       "  <thead>\n",
       "    <tr style=\"text-align: right;\">\n",
       "      <th></th>\n",
       "      <th>sponsor</th>\n",
       "      <th>party</th>\n",
       "      <th>bill_text</th>\n",
       "      <th>sponsor_state</th>\n",
       "      <th>cosponsor</th>\n",
       "      <th>cosponsor_party</th>\n",
       "      <th>cosponsor_state</th>\n",
       "      <th>other_bill_date</th>\n",
       "    </tr>\n",
       "  </thead>\n",
       "  <tbody>\n",
       "    <tr>\n",
       "      <th>0</th>\n",
       "      <td>Torres Small, Xochitl</td>\n",
       "      <td>D</td>\n",
       "      <td>&lt;body&gt;&lt;pre&gt;\\n[Congressional Bills 116th Congre...</td>\n",
       "      <td>NM</td>\n",
       "      <td>Crenshaw, Dan</td>\n",
       "      <td>R</td>\n",
       "      <td>TX</td>\n",
       "      <td>2020-02-06</td>\n",
       "    </tr>\n",
       "    <tr>\n",
       "      <th>1</th>\n",
       "      <td>Sewell, Terri A.</td>\n",
       "      <td>D</td>\n",
       "      <td>&lt;body&gt;&lt;pre&gt;\\n[Congressional Bills 116th Congre...</td>\n",
       "      <td>AL</td>\n",
       "      <td>Smith, Adrian</td>\n",
       "      <td>R</td>\n",
       "      <td>NE</td>\n",
       "      <td>2020-02-03</td>\n",
       "    </tr>\n",
       "    <tr>\n",
       "      <th>2</th>\n",
       "      <td>Finkenauer, Abby</td>\n",
       "      <td>D</td>\n",
       "      <td>&lt;body&gt;&lt;pre&gt;\\n[Congressional Bills 116th Congre...</td>\n",
       "      <td>IA</td>\n",
       "      <td>NaN</td>\n",
       "      <td>NaN</td>\n",
       "      <td>NaN</td>\n",
       "      <td>2020-02-03</td>\n",
       "    </tr>\n",
       "    <tr>\n",
       "      <th>3</th>\n",
       "      <td>Casten, Sean</td>\n",
       "      <td>D</td>\n",
       "      <td>&lt;body&gt;&lt;pre&gt;\\n[Congressional Bills 116th Congre...</td>\n",
       "      <td>IL</td>\n",
       "      <td>Levin, Mike</td>\n",
       "      <td>D</td>\n",
       "      <td>CA</td>\n",
       "      <td>2020-02-03</td>\n",
       "    </tr>\n",
       "    <tr>\n",
       "      <th>4</th>\n",
       "      <td>LaMalfa, Doug</td>\n",
       "      <td>R</td>\n",
       "      <td>&lt;body&gt;&lt;pre&gt;\\n[Congressional Bills 116th Congre...</td>\n",
       "      <td>CA</td>\n",
       "      <td>NaN</td>\n",
       "      <td>NaN</td>\n",
       "      <td>NaN</td>\n",
       "      <td>2020-02-03</td>\n",
       "    </tr>\n",
       "  </tbody>\n",
       "</table>\n",
       "</div>"
      ],
      "text/plain": [
       "                 sponsor party  \\\n",
       "0  Torres Small, Xochitl     D   \n",
       "1       Sewell, Terri A.     D   \n",
       "2       Finkenauer, Abby     D   \n",
       "3           Casten, Sean     D   \n",
       "4          LaMalfa, Doug     R   \n",
       "\n",
       "                                           bill_text sponsor_state  \\\n",
       "0  <body><pre>\\n[Congressional Bills 116th Congre...            NM   \n",
       "1  <body><pre>\\n[Congressional Bills 116th Congre...            AL   \n",
       "2  <body><pre>\\n[Congressional Bills 116th Congre...            IA   \n",
       "3  <body><pre>\\n[Congressional Bills 116th Congre...            IL   \n",
       "4  <body><pre>\\n[Congressional Bills 116th Congre...            CA   \n",
       "\n",
       "       cosponsor cosponsor_party cosponsor_state other_bill_date  \n",
       "0  Crenshaw, Dan               R              TX      2020-02-06  \n",
       "1  Smith, Adrian               R              NE      2020-02-03  \n",
       "2            NaN             NaN             NaN      2020-02-03  \n",
       "3    Levin, Mike               D              CA      2020-02-03  \n",
       "4            NaN             NaN             NaN      2020-02-03  "
      ]
     },
     "execution_count": 3,
     "metadata": {},
     "output_type": "execute_result"
    }
   ],
   "source": [
    "df.head()"
   ]
  },
  {
   "cell_type": "code",
   "execution_count": 4,
   "id": "92e63e8a",
   "metadata": {},
   "outputs": [],
   "source": [
    "df = prepare_bills_for_processing(df)"
   ]
  },
  {
   "cell_type": "code",
   "execution_count": 5,
   "id": "c07fab90",
   "metadata": {},
   "outputs": [],
   "source": [
    "df['lem'] = df.bill_text.apply(clean_text)"
   ]
  },
  {
   "cell_type": "code",
   "execution_count": 6,
   "id": "c754a537",
   "metadata": {},
   "outputs": [],
   "source": [
    "df['model'] = df.lem.apply(join)"
   ]
  },
  {
   "cell_type": "code",
   "execution_count": 7,
   "id": "e7f90ad1",
   "metadata": {
    "scrolled": true
   },
   "outputs": [
    {
     "data": {
      "text/html": [
       "<div>\n",
       "<style scoped>\n",
       "    .dataframe tbody tr th:only-of-type {\n",
       "        vertical-align: middle;\n",
       "    }\n",
       "\n",
       "    .dataframe tbody tr th {\n",
       "        vertical-align: top;\n",
       "    }\n",
       "\n",
       "    .dataframe thead th {\n",
       "        text-align: right;\n",
       "    }\n",
       "</style>\n",
       "<table border=\"1\" class=\"dataframe\">\n",
       "  <thead>\n",
       "    <tr style=\"text-align: right;\">\n",
       "      <th></th>\n",
       "      <th>sponsor</th>\n",
       "      <th>party</th>\n",
       "      <th>bill_text</th>\n",
       "      <th>sponsor_state</th>\n",
       "      <th>cosponsor</th>\n",
       "      <th>cosponsor_party</th>\n",
       "      <th>cosponsor_state</th>\n",
       "      <th>other_bill_date</th>\n",
       "      <th>lem</th>\n",
       "      <th>model</th>\n",
       "    </tr>\n",
       "  </thead>\n",
       "  <tbody>\n",
       "    <tr>\n",
       "      <th>0</th>\n",
       "      <td>Torres Small, Xochitl</td>\n",
       "      <td>D</td>\n",
       "      <td>\\n\\n\\n \\n  To require the Secretary of Homelan...</td>\n",
       "      <td>NM</td>\n",
       "      <td>Crenshaw, Dan</td>\n",
       "      <td>R</td>\n",
       "      <td>TX</td>\n",
       "      <td>2020-02-06</td>\n",
       "      <td>[require, homeland, security, develop, plan, i...</td>\n",
       "      <td>require homeland security develop plan increas...</td>\n",
       "    </tr>\n",
       "    <tr>\n",
       "      <th>1</th>\n",
       "      <td>Sewell, Terri A.</td>\n",
       "      <td>D</td>\n",
       "      <td>\\n\\n\\n \\nTo amend title XI of the Social Secur...</td>\n",
       "      <td>AL</td>\n",
       "      <td>Smith, Adrian</td>\n",
       "      <td>R</td>\n",
       "      <td>NE</td>\n",
       "      <td>2020-02-03</td>\n",
       "      <td>[amend, xi, social, security, clarify, paramet...</td>\n",
       "      <td>amend xi social security clarify parameter mod...</td>\n",
       "    </tr>\n",
       "    <tr>\n",
       "      <th>2</th>\n",
       "      <td>Finkenauer, Abby</td>\n",
       "      <td>D</td>\n",
       "      <td>\\n\\n\\n \\n To repeal the funding authorization ...</td>\n",
       "      <td>IA</td>\n",
       "      <td>NaN</td>\n",
       "      <td>NaN</td>\n",
       "      <td>NaN</td>\n",
       "      <td>2020-02-03</td>\n",
       "      <td>[repeal, funding, sunset, total, funding, cap,...</td>\n",
       "      <td>repeal funding sunset total funding cap americ...</td>\n",
       "    </tr>\n",
       "    <tr>\n",
       "      <th>3</th>\n",
       "      <td>Casten, Sean</td>\n",
       "      <td>D</td>\n",
       "      <td>\\n\\n\\n \\nTo direct the Federal Energy Regulato...</td>\n",
       "      <td>IL</td>\n",
       "      <td>Levin, Mike</td>\n",
       "      <td>D</td>\n",
       "      <td>CA</td>\n",
       "      <td>2020-02-03</td>\n",
       "      <td>[direct, federal, energy, regulatory, commissi...</td>\n",
       "      <td>direct federal energy regulatory commission fi...</td>\n",
       "    </tr>\n",
       "    <tr>\n",
       "      <th>4</th>\n",
       "      <td>LaMalfa, Doug</td>\n",
       "      <td>R</td>\n",
       "      <td>\\n\\n\\n \\n  To establish a categorical exclusio...</td>\n",
       "      <td>CA</td>\n",
       "      <td>NaN</td>\n",
       "      <td>NaN</td>\n",
       "      <td>NaN</td>\n",
       "      <td>2020-02-03</td>\n",
       "      <td>[exclusion, electric, utility, rightsof, way, ...</td>\n",
       "      <td>exclusion electric utility rightsof way purpos...</td>\n",
       "    </tr>\n",
       "  </tbody>\n",
       "</table>\n",
       "</div>"
      ],
      "text/plain": [
       "                 sponsor party  \\\n",
       "0  Torres Small, Xochitl     D   \n",
       "1       Sewell, Terri A.     D   \n",
       "2       Finkenauer, Abby     D   \n",
       "3           Casten, Sean     D   \n",
       "4          LaMalfa, Doug     R   \n",
       "\n",
       "                                           bill_text sponsor_state  \\\n",
       "0  \\n\\n\\n \\n  To require the Secretary of Homelan...            NM   \n",
       "1  \\n\\n\\n \\nTo amend title XI of the Social Secur...            AL   \n",
       "2  \\n\\n\\n \\n To repeal the funding authorization ...            IA   \n",
       "3  \\n\\n\\n \\nTo direct the Federal Energy Regulato...            IL   \n",
       "4  \\n\\n\\n \\n  To establish a categorical exclusio...            CA   \n",
       "\n",
       "       cosponsor cosponsor_party cosponsor_state other_bill_date  \\\n",
       "0  Crenshaw, Dan               R              TX      2020-02-06   \n",
       "1  Smith, Adrian               R              NE      2020-02-03   \n",
       "2            NaN             NaN             NaN      2020-02-03   \n",
       "3    Levin, Mike               D              CA      2020-02-03   \n",
       "4            NaN             NaN             NaN      2020-02-03   \n",
       "\n",
       "                                                 lem  \\\n",
       "0  [require, homeland, security, develop, plan, i...   \n",
       "1  [amend, xi, social, security, clarify, paramet...   \n",
       "2  [repeal, funding, sunset, total, funding, cap,...   \n",
       "3  [direct, federal, energy, regulatory, commissi...   \n",
       "4  [exclusion, electric, utility, rightsof, way, ...   \n",
       "\n",
       "                                               model  \n",
       "0  require homeland security develop plan increas...  \n",
       "1  amend xi social security clarify parameter mod...  \n",
       "2  repeal funding sunset total funding cap americ...  \n",
       "3  direct federal energy regulatory commission fi...  \n",
       "4  exclusion electric utility rightsof way purpos...  "
      ]
     },
     "execution_count": 7,
     "metadata": {},
     "output_type": "execute_result"
    }
   ],
   "source": [
    "df.head()"
   ]
  },
  {
   "cell_type": "code",
   "execution_count": 227,
   "id": "3a26a85d",
   "metadata": {},
   "outputs": [],
   "source": [
    "def partisan_viz(df):\n",
    "    df['cosponsor_party'] = df['cosponsor_party'].fillna('N')\n",
    "    bipart_df = pd.DataFrame(df['party'].value_counts())\n",
    "    bipart_df.rename(columns = {'party': 'total_bills'}, inplace = True)\n",
    "    bipart_counts = df[df['party'] != (df['cosponsor_party'])]['party'].value_counts()\n",
    "    no_co_counts = df[df['cosponsor_party'] == 'N']['party'].value_counts()\n",
    "    bipart_df['bipart_bills'] = (bipart_counts - no_co_counts)\n",
    "    bipart_df['partisan_bills'] = df[df['party'] == (df['cosponsor_party'])]['party'].value_counts()\n",
    "    bipart_df['no_cosponsor'] = df[df['cosponsor_party'] == 'N']['party'].value_counts()\n",
    "    bipart_df.reset_index(inplace = True)\n",
    "    bipart_df.rename(columns = {'index':'party'}, inplace = True)\n",
    "    bipart_df.drop(columns = ['total_bills'], inplace = True)\n",
    "    \n",
    "    pal = ({\"bipart_bills\":'cornflowerblue', \n",
    "            \"partisan_bills\":\"royalblue\", \"no_cosponsor\":\"lightsteelblue\"})\n",
    "    vz = bipart_df.head(2).plot(kind=\"bar\", figsize = (5, 4), x = 'party', color = pal)\n",
    "    vz.set(ylabel=\"Number of Bills\",\n",
    "           xlabel=\"Party\", title = 'Partisan vs Bipartisan Bill Breakdown')\n",
    "    vz.set_xticklabels(['Democrat', 'Republican'])\n",
    "    vz.legend([\"Bipartisan Bills\", \"Partisan Bills\", \"No Cosponsor\"])\n",
    "    plt.xticks(rotation='horizontal')\n",
    "    return plt.show()\n",
    "\n"
   ]
  },
  {
   "cell_type": "code",
   "execution_count": 228,
   "id": "aaa37550",
   "metadata": {},
   "outputs": [
    {
     "data": {
      "image/png": "[encoded data removed]",
      "text/plain": [
       "<Figure size 500x400 with 1 Axes>"
      ]
     },
     "metadata": {},
     "output_type": "display_data"
    }
   ],
   "source": [
    "partisan_viz(df)"
   ]
  },
  {
   "cell_type": "code",
   "execution_count": 224,
   "id": "401f4cee",
   "metadata": {},
   "outputs": [
    {
     "data": {
      "text/html": [
       "<div>\n",
       "<style scoped>\n",
       "    .dataframe tbody tr th:only-of-type {\n",
       "        vertical-align: middle;\n",
       "    }\n",
       "\n",
       "    .dataframe tbody tr th {\n",
       "        vertical-align: top;\n",
       "    }\n",
       "\n",
       "    .dataframe thead th {\n",
       "        text-align: right;\n",
       "    }\n",
       "</style>\n",
       "<table border=\"1\" class=\"dataframe\">\n",
       "  <thead>\n",
       "    <tr style=\"text-align: right;\">\n",
       "      <th></th>\n",
       "      <th>total_bills</th>\n",
       "    </tr>\n",
       "  </thead>\n",
       "  <tbody>\n",
       "    <tr>\n",
       "      <th>D</th>\n",
       "      <td>15888</td>\n",
       "    </tr>\n",
       "    <tr>\n",
       "      <th>R</th>\n",
       "      <td>10482</td>\n",
       "    </tr>\n",
       "    <tr>\n",
       "      <th>I</th>\n",
       "      <td>150</td>\n",
       "    </tr>\n",
       "    <tr>\n",
       "      <th>L</th>\n",
       "      <td>13</td>\n",
       "    </tr>\n",
       "  </tbody>\n",
       "</table>\n",
       "</div>"
      ],
      "text/plain": [
       "   total_bills\n",
       "D        15888\n",
       "R        10482\n",
       "I          150\n",
       "L           13"
      ]
     },
     "execution_count": 224,
     "metadata": {},
     "output_type": "execute_result"
    }
   ],
   "source": [
    "bipart_df = pd.DataFrame(df['party'].value_counts())\n",
    "bipart_df.rename(columns = {'party': 'total_bills'}, inplace = True)\n",
    "bipart_df"
   ]
  },
  {
   "cell_type": "code",
   "execution_count": 173,
   "id": "27023c00",
   "metadata": {},
   "outputs": [],
   "source": []
  },
  {
   "cell_type": "code",
   "execution_count": 174,
   "id": "04a339f9",
   "metadata": {},
   "outputs": [
    {
     "data": {
      "text/plain": [
       "D    5614\n",
       "R    3168\n",
       "I      85\n",
       "L       1\n",
       "Name: party, dtype: int64"
      ]
     },
     "execution_count": 174,
     "metadata": {},
     "output_type": "execute_result"
    }
   ],
   "source": [
    "bipart_true"
   ]
  },
  {
   "cell_type": "code",
   "execution_count": 152,
   "id": "830a6764",
   "metadata": {},
   "outputs": [
    {
     "data": {
      "text/html": [
       "<div>\n",
       "<style scoped>\n",
       "    .dataframe tbody tr th:only-of-type {\n",
       "        vertical-align: middle;\n",
       "    }\n",
       "\n",
       "    .dataframe tbody tr th {\n",
       "        vertical-align: top;\n",
       "    }\n",
       "\n",
       "    .dataframe thead th {\n",
       "        text-align: right;\n",
       "    }\n",
       "</style>\n",
       "<table border=\"1\" class=\"dataframe\">\n",
       "  <thead>\n",
       "    <tr style=\"text-align: right;\">\n",
       "      <th></th>\n",
       "      <th>total_bills</th>\n",
       "      <th>bipart_bills</th>\n",
       "    </tr>\n",
       "  </thead>\n",
       "  <tbody>\n",
       "    <tr>\n",
       "      <th>D</th>\n",
       "      <td>15888</td>\n",
       "      <td>9769</td>\n",
       "    </tr>\n",
       "    <tr>\n",
       "      <th>R</th>\n",
       "      <td>10482</td>\n",
       "      <td>6740</td>\n",
       "    </tr>\n",
       "    <tr>\n",
       "      <th>I</th>\n",
       "      <td>150</td>\n",
       "      <td>149</td>\n",
       "    </tr>\n",
       "    <tr>\n",
       "      <th>L</th>\n",
       "      <td>13</td>\n",
       "      <td>13</td>\n",
       "    </tr>\n",
       "  </tbody>\n",
       "</table>\n",
       "</div>"
      ],
      "text/plain": [
       "   total_bills  bipart_bills\n",
       "D        15888          9769\n",
       "R        10482          6740\n",
       "I          150           149\n",
       "L           13            13"
      ]
     },
     "execution_count": 152,
     "metadata": {},
     "output_type": "execute_result"
    }
   ],
   "source": [
    "bipart_df['bipart_bills'] = bipart_counts\n",
    "bipart_df"
   ]
  },
  {
   "cell_type": "code",
   "execution_count": 153,
   "id": "0a7380cb",
   "metadata": {},
   "outputs": [],
   "source": [
    "no_co_counts = df[df['cosponsor_party'] == 'N']['party'].value_counts()\n",
    "partisan_counts = df[df['party'] == (df['cosponsor_party'])]['party'].value_counts()"
   ]
  },
  {
   "cell_type": "code",
   "execution_count": 154,
   "id": "dca0c772",
   "metadata": {},
   "outputs": [],
   "source": [
    "bipart_df['partisan_bills'] = partisan_counts"
   ]
  },
  {
   "cell_type": "code",
   "execution_count": 155,
   "id": "b002d980",
   "metadata": {},
   "outputs": [],
   "source": [
    "bipart_df['no_cosponsor'] = no_co_counts"
   ]
  },
  {
   "cell_type": "code",
   "execution_count": 156,
   "id": "d1fc68c7",
   "metadata": {
    "scrolled": true
   },
   "outputs": [
    {
     "data": {
      "text/html": [
       "<div>\n",
       "<style scoped>\n",
       "    .dataframe tbody tr th:only-of-type {\n",
       "        vertical-align: middle;\n",
       "    }\n",
       "\n",
       "    .dataframe tbody tr th {\n",
       "        vertical-align: top;\n",
       "    }\n",
       "\n",
       "    .dataframe thead th {\n",
       "        text-align: right;\n",
       "    }\n",
       "</style>\n",
       "<table border=\"1\" class=\"dataframe\">\n",
       "  <thead>\n",
       "    <tr style=\"text-align: right;\">\n",
       "      <th></th>\n",
       "      <th>index</th>\n",
       "      <th>total_bills</th>\n",
       "      <th>bipart_bills</th>\n",
       "      <th>partisan_bills</th>\n",
       "      <th>no_cosponsor</th>\n",
       "    </tr>\n",
       "  </thead>\n",
       "  <tbody>\n",
       "    <tr>\n",
       "      <th>0</th>\n",
       "      <td>D</td>\n",
       "      <td>15888</td>\n",
       "      <td>9769</td>\n",
       "      <td>6119.0</td>\n",
       "      <td>4155</td>\n",
       "    </tr>\n",
       "    <tr>\n",
       "      <th>1</th>\n",
       "      <td>R</td>\n",
       "      <td>10482</td>\n",
       "      <td>6740</td>\n",
       "      <td>3742.0</td>\n",
       "      <td>3572</td>\n",
       "    </tr>\n",
       "    <tr>\n",
       "      <th>2</th>\n",
       "      <td>I</td>\n",
       "      <td>150</td>\n",
       "      <td>149</td>\n",
       "      <td>1.0</td>\n",
       "      <td>64</td>\n",
       "    </tr>\n",
       "    <tr>\n",
       "      <th>3</th>\n",
       "      <td>L</td>\n",
       "      <td>13</td>\n",
       "      <td>13</td>\n",
       "      <td>NaN</td>\n",
       "      <td>12</td>\n",
       "    </tr>\n",
       "  </tbody>\n",
       "</table>\n",
       "</div>"
      ],
      "text/plain": [
       "  index  total_bills  bipart_bills  partisan_bills  no_cosponsor\n",
       "0     D        15888          9769          6119.0          4155\n",
       "1     R        10482          6740          3742.0          3572\n",
       "2     I          150           149             1.0            64\n",
       "3     L           13            13             NaN            12"
      ]
     },
     "execution_count": 156,
     "metadata": {},
     "output_type": "execute_result"
    }
   ],
   "source": [
    "bipart_df.reset_index(inplace = True)\n",
    "bipart_df"
   ]
  },
  {
   "cell_type": "code",
   "execution_count": 157,
   "id": "5587d372",
   "metadata": {},
   "outputs": [],
   "source": [
    "bipart_df.rename(columns = {'index':'party'}, inplace = True)"
   ]
  },
  {
   "cell_type": "code",
   "execution_count": 162,
   "id": "672572a3",
   "metadata": {},
   "outputs": [
    {
     "data": {
      "image/png": "[encoded data removed]",
      "text/plain": [
       "<Figure size 500x400 with 1 Axes>"
      ]
     },
     "metadata": {},
     "output_type": "display_data"
    }
   ],
   "source": [
    "vz = bipart_df.head(2).plot(kind=\"bar\", figsize = (5, 4), x = 'party')\n",
    "vz.set(ylabel=\"Number of Bills\",\n",
    "       xlabel=\"Party\", title = 'Partisan vs Bipartisan Bill Breakdown')\n",
    "vz.legend([\"Total Bills\", \"Bipartisan Bills\", \"Partisan Bills\", \"No Cosponsor\"])\n",
    "plt.show()"
   ]
  },
  {
   "cell_type": "code",
   "execution_count": null,
   "id": "61d94935",
   "metadata": {},
   "outputs": [],
   "source": []
  }
 ],
 "metadata": {
  "kernelspec": {
   "display_name": "Python 3 (ipykernel)",
   "language": "python",
   "name": "python3"
  },
  "language_info": {
   "codemirror_mode": {
    "name": "ipython",
    "version": 3
   },
   "file_extension": ".py",
   "mimetype": "text/x-python",
   "name": "python",
   "nbconvert_exporter": "python",
   "pygments_lexer": "ipython3",
   "version": "3.9.13"
  }
 },
 "nbformat": 4,
 "nbformat_minor": 5
}
